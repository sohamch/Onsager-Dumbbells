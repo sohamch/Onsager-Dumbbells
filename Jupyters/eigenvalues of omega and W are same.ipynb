{
 "cells": [
  {
   "cell_type": "code",
   "execution_count": 54,
   "metadata": {},
   "outputs": [],
   "source": [
    "import numpy as np\n",
    "np.set_printoptions(precision=5,suppress=True)"
   ]
  },
  {
   "cell_type": "code",
   "execution_count": 3,
   "metadata": {},
   "outputs": [],
   "source": [
    "#first, we consider a system with three possible states, with equilibrium probability values:\n",
    "p = np.array([0.2,0.3,0.5])"
   ]
  },
  {
   "cell_type": "code",
   "execution_count": 6,
   "metadata": {},
   "outputs": [],
   "source": [
    "#let the transition rate matrix T_ij be:\n",
    "T_ij = np.array(range(1,10),dtype=float).reshape(3,3)"
   ]
  },
  {
   "cell_type": "code",
   "execution_count": 7,
   "metadata": {},
   "outputs": [
    {
     "data": {
      "text/plain": [
       "array([[1., 2., 3.],\n",
       "       [4., 5., 6.],\n",
       "       [7., 8., 9.]])"
      ]
     },
     "execution_count": 7,
     "metadata": {},
     "output_type": "execute_result"
    }
   ],
   "source": [
    "T_ij"
   ]
  },
  {
   "cell_type": "code",
   "execution_count": 11,
   "metadata": {},
   "outputs": [],
   "source": [
    "#Now, we form the matrix W, using the master equation\n",
    "W = np.zeros((3,3))\n",
    "for i in range(3):\n",
    "    for j in range(3):\n",
    "        if j==i:\n",
    "            W[i,j] = -sum([T_ij[i,k] for k in range(3)])+T_ij[i,i]\n",
    "        else:\n",
    "            W[i,j] = T_ij[i,j]"
   ]
  },
  {
   "cell_type": "code",
   "execution_count": 12,
   "metadata": {},
   "outputs": [
    {
     "data": {
      "text/plain": [
       "array([[ -5.,   2.,   3.],\n",
       "       [  4., -10.,   6.],\n",
       "       [  7.,   8., -15.]])"
      ]
     },
     "execution_count": 12,
     "metadata": {},
     "output_type": "execute_result"
    }
   ],
   "source": [
    "W"
   ]
  },
  {
   "cell_type": "code",
   "execution_count": 16,
   "metadata": {},
   "outputs": [],
   "source": [
    "S = np.diag(np.sqrt(p))\n",
    "S_1 = np.diag(np.sqrt(1./p))"
   ]
  },
  {
   "cell_type": "code",
   "execution_count": 21,
   "metadata": {},
   "outputs": [],
   "source": [
    "omega = np.dot(S,W).dot(S_1)"
   ]
  },
  {
   "cell_type": "code",
   "execution_count": 22,
   "metadata": {},
   "outputs": [
    {
     "data": {
      "text/plain": [
       "(array([  0.        ,  -9.80384758, -20.19615242]),\n",
       " array([[-0.4472136 , -0.44990212, -0.07363334],\n",
       "        [-0.54772256,  0.73637123, -0.38412744],\n",
       "        [-0.70710678,  0.50531723,  0.9203392 ]]))"
      ]
     },
     "execution_count": 22,
     "metadata": {},
     "output_type": "execute_result"
    }
   ],
   "source": [
    "np.linalg.eig(omega)"
   ]
  },
  {
   "cell_type": "code",
   "execution_count": 23,
   "metadata": {},
   "outputs": [
    {
     "data": {
      "text/plain": [
       "(array([ 3.55271368e-15, -9.80384758e+00, -2.01961524e+01]),\n",
       " array([[-0.57735027, -0.55127233, -0.1106798 ],\n",
       "        [-0.57735027,  0.7367147 , -0.47143692],\n",
       "        [-0.57735027,  0.39159962,  0.87492698]]))"
      ]
     },
     "execution_count": 23,
     "metadata": {},
     "output_type": "execute_result"
    }
   ],
   "source": [
    "np.linalg.eig(W)"
   ]
  },
  {
   "cell_type": "code",
   "execution_count": 29,
   "metadata": {},
   "outputs": [],
   "source": [
    "#create example 4x4 transiton matrix.\n",
    "#First,create the matrix\n",
    "W=np.array(range(1,17),dtype=float).reshape(4,4)"
   ]
  },
  {
   "cell_type": "code",
   "execution_count": 30,
   "metadata": {},
   "outputs": [
    {
     "data": {
      "text/plain": [
       "array([[ 1.,  2.,  0.,  0.],\n",
       "       [ 5.,  6.,  0.,  0.],\n",
       "       [ 0.,  0., 11., 12.],\n",
       "       [ 0.,  0., 15., 16.]])"
      ]
     },
     "execution_count": 30,
     "metadata": {},
     "output_type": "execute_result"
    }
   ],
   "source": [
    "# Now, disconnect 2x2 diagonal blocks\n",
    "W[0:2,2:] = np.zeros((2,2))\n",
    "W[2:,0:2] = np.zeros((2,2))\n",
    "W"
   ]
  },
  {
   "cell_type": "code",
   "execution_count": 48,
   "metadata": {},
   "outputs": [
    {
     "data": {
      "text/plain": [
       "array([[ -2.,   2.,   0.,   0.],\n",
       "       [  5.,  -5.,   0.,   0.],\n",
       "       [  0.,   0., -12.,  12.],\n",
       "       [  0.,   0.,  15., -15.]])"
      ]
     },
     "execution_count": 48,
     "metadata": {},
     "output_type": "execute_result"
    }
   ],
   "source": [
    "#Now, give W it's proper form\n",
    "W_old=W.copy()\n",
    "for i in range(4):\n",
    "    for j in range(4):\n",
    "        if j==i:\n",
    "            W[i,j] = -sum([W_old[i,k] for k in range(4)])+W_old[i,i]\n",
    "        else:\n",
    "            W[i,j] = W_old[i,j]\n",
    "W"
   ]
  },
  {
   "cell_type": "code",
   "execution_count": 55,
   "metadata": {},
   "outputs": [
    {
     "name": "stdout",
     "output_type": "stream",
     "text": [
      "[-27.  -7.   0.   0.]\n"
     ]
    }
   ],
   "source": [
    "r,vr = np.linalg.eig(W)\n",
    "print(np.sort(r))"
   ]
  }
 ],
 "metadata": {
  "kernelspec": {
   "display_name": "Python 3",
   "language": "python",
   "name": "python3"
  },
  "language_info": {
   "codemirror_mode": {
    "name": "ipython",
    "version": 3
   },
   "file_extension": ".py",
   "mimetype": "text/x-python",
   "name": "python",
   "nbconvert_exporter": "python",
   "pygments_lexer": "ipython3",
   "version": "3.5.2"
  }
 },
 "nbformat": 4,
 "nbformat_minor": 2
}
