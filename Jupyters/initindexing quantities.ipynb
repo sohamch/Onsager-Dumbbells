{
 "cells": [
  {
   "cell_type": "code",
   "execution_count": 7,
   "metadata": {},
   "outputs": [],
   "source": [
    "import numpy as np\n",
    "from scipy.special import factorial"
   ]
  },
  {
   "cell_type": "code",
   "execution_count": 8,
   "metadata": {},
   "outputs": [],
   "source": [
    "Lmax=4\n",
    "NYlm = (Lmax + 1) ** 2 #No. of spherical harmonics basis functions upto l=Lmax\n",
    "\n",
    "Npower = NYlm + ((Lmax + 1) * Lmax * (Lmax - 1)) // 6 #no of terms in a homogeneous polynomial of order Lmax\n",
    "pow2ind = -np.ones((Lmax + 1, Lmax + 1, Lmax + 1), dtype=int)\n",
    "ind2pow = np.zeros((Npower, 3), dtype=int)\n",
    "powlrange = np.zeros(Lmax + 2, dtype=int)\n",
    "powlrange[-1] = 0\n",
    "ind=0\n",
    "for l in range(Lmax + 1):\n",
    "    for n1 in range(l + 1):\n",
    "        for n2 in range(l + 1 - n1):\n",
    "            n3 = l - n1 - n2\n",
    "            pow2ind[n1, n2, n3] = ind\n",
    "            ind2pow[ind, 0], ind2pow[ind, 1], ind2pow[ind, 2] = n1, n2, n3\n",
    "            ind += 1\n",
    "    powlrange[l] = ind"
   ]
  },
  {
   "cell_type": "code",
   "execution_count": 9,
   "metadata": {},
   "outputs": [
    {
     "data": {
      "text/plain": [
       "array([ 1,  4, 10, 20, 35,  0])"
      ]
     },
     "execution_count": 9,
     "metadata": {},
     "output_type": "execute_result"
    }
   ],
   "source": [
    "powlrange\n",
    "#powlrange[j] -> how many homogeneous polynomials upto order j\n",
    "#example if j=3, how many homogeneous polynomial terms for l=0,1,2,3 -> see the GM notebook"
   ]
  },
  {
   "cell_type": "code",
   "execution_count": 10,
   "metadata": {},
   "outputs": [
    {
     "data": {
      "text/plain": [
       "array([[0, 0, 0],\n",
       "       [0, 0, 1],\n",
       "       [0, 1, 0],\n",
       "       [1, 0, 0],\n",
       "       [0, 0, 2],\n",
       "       [0, 1, 1],\n",
       "       [0, 2, 0],\n",
       "       [1, 0, 1],\n",
       "       [1, 1, 0],\n",
       "       [2, 0, 0],\n",
       "       [0, 0, 3],\n",
       "       [0, 1, 2],\n",
       "       [0, 2, 1],\n",
       "       [0, 3, 0],\n",
       "       [1, 0, 2],\n",
       "       [1, 1, 1],\n",
       "       [1, 2, 0],\n",
       "       [2, 0, 1],\n",
       "       [2, 1, 0],\n",
       "       [3, 0, 0],\n",
       "       [0, 0, 4],\n",
       "       [0, 1, 3],\n",
       "       [0, 2, 2],\n",
       "       [0, 3, 1],\n",
       "       [0, 4, 0],\n",
       "       [1, 0, 3],\n",
       "       [1, 1, 2],\n",
       "       [1, 2, 1],\n",
       "       [1, 3, 0],\n",
       "       [2, 0, 2],\n",
       "       [2, 1, 1],\n",
       "       [2, 2, 0],\n",
       "       [3, 0, 1],\n",
       "       [3, 1, 0],\n",
       "       [4, 0, 0]])"
      ]
     },
     "execution_count": 10,
     "metadata": {},
     "output_type": "execute_result"
    }
   ],
   "source": [
    "ind2pow #-each row is the powers of the components of 'p' or 'q' for a certain order homogenous polynomial\n",
    "        #made out of them"
   ]
  },
  {
   "cell_type": "code",
   "execution_count": 11,
   "metadata": {},
   "outputs": [],
   "source": [
    "uniq_pow_terms=[]\n",
    "uniq_pow_term_count=[]\n",
    "for i in range(len(ind2pow)):\n",
    "    s = sum(ind2pow[i])\n",
    "    if not any(s1==s for s1 in uniq_pow_terms):\n",
    "        uniq_pow_terms.append(s)\n",
    "        uniq_pow_term_count.append(1)\n",
    "    else:\n",
    "        for idx,j in enumerate(uniq_pow_terms):\n",
    "            if s==j:\n",
    "                uniq_pow_term_count[idx] += 1"
   ]
  },
  {
   "cell_type": "code",
   "execution_count": 12,
   "metadata": {},
   "outputs": [
    {
     "data": {
      "text/plain": [
       "[0, 1, 2, 3, 4]"
      ]
     },
     "execution_count": 12,
     "metadata": {},
     "output_type": "execute_result"
    }
   ],
   "source": [
    "uniq_pow_terms"
   ]
  },
  {
   "cell_type": "code",
   "execution_count": 13,
   "metadata": {},
   "outputs": [
    {
     "data": {
      "text/plain": [
       "[1, 3, 6, 10, 15]"
      ]
     },
     "execution_count": 13,
     "metadata": {},
     "output_type": "execute_result"
    }
   ],
   "source": [
    "uniq_pow_term_count"
   ]
  },
  {
   "cell_type": "code",
   "execution_count": 14,
   "metadata": {},
   "outputs": [],
   "source": [
    "lmax = 3\n",
    "for l in range(lmax+1):\n",
    "    for n1 in range(l+1):\n",
    "        for n2 in range(l+1-n1):\n",
    "            n3=l-n1-n2\n",
    "            "
   ]
  },
  {
   "cell_type": "code",
   "execution_count": 15,
   "metadata": {},
   "outputs": [
    {
     "data": {
      "text/plain": [
       "3"
      ]
     },
     "execution_count": 15,
     "metadata": {},
     "output_type": "execute_result"
    }
   ],
   "source": [
    "pow2ind[1][0][0]"
   ]
  },
  {
   "cell_type": "code",
   "execution_count": 16,
   "metadata": {},
   "outputs": [
    {
     "data": {
      "text/plain": [
       "array([[[ 0,  1,  4, 10, 20],\n",
       "        [ 2,  5, 11, 21, -1],\n",
       "        [ 6, 12, 22, -1, -1],\n",
       "        [13, 23, -1, -1, -1],\n",
       "        [24, -1, -1, -1, -1]],\n",
       "\n",
       "       [[ 3,  7, 14, 25, -1],\n",
       "        [ 8, 15, 26, -1, -1],\n",
       "        [16, 27, -1, -1, -1],\n",
       "        [28, -1, -1, -1, -1],\n",
       "        [-1, -1, -1, -1, -1]],\n",
       "\n",
       "       [[ 9, 17, 29, -1, -1],\n",
       "        [18, 30, -1, -1, -1],\n",
       "        [31, -1, -1, -1, -1],\n",
       "        [-1, -1, -1, -1, -1],\n",
       "        [-1, -1, -1, -1, -1]],\n",
       "\n",
       "       [[19, 32, -1, -1, -1],\n",
       "        [33, -1, -1, -1, -1],\n",
       "        [-1, -1, -1, -1, -1],\n",
       "        [-1, -1, -1, -1, -1],\n",
       "        [-1, -1, -1, -1, -1]],\n",
       "\n",
       "       [[34, -1, -1, -1, -1],\n",
       "        [-1, -1, -1, -1, -1],\n",
       "        [-1, -1, -1, -1, -1],\n",
       "        [-1, -1, -1, -1, -1],\n",
       "        [-1, -1, -1, -1, -1]]])"
      ]
     },
     "execution_count": 16,
     "metadata": {},
     "output_type": "execute_result"
    }
   ],
   "source": [
    "pow2ind"
   ]
  },
  {
   "cell_type": "code",
   "execution_count": 17,
   "metadata": {},
   "outputs": [],
   "source": [
    "ind=0\n",
    "Ylm2ind = -np.ones((Lmax + 1, 2 * Lmax + 1), dtype=int)\n",
    "ind2Ylm = np.zeros((NYlm, 2), dtype=int)\n",
    "for l in range(Lmax + 1):\n",
    "    for m in range(-l, l + 1):\n",
    "        Ylm2ind[l, m] = ind\n",
    "        ind2Ylm[ind, 0], ind2Ylm[ind, 1] = l, m\n",
    "        ind += 1"
   ]
  },
  {
   "cell_type": "code",
   "execution_count": 18,
   "metadata": {},
   "outputs": [
    {
     "data": {
      "text/plain": [
       "array([[ 0, -1, -1, -1, -1, -1, -1, -1, -1],\n",
       "       [ 2,  3, -1, -1, -1, -1, -1, -1,  1],\n",
       "       [ 6,  7,  8, -1, -1, -1, -1,  4,  5],\n",
       "       [12, 13, 14, 15, -1, -1,  9, 10, 11],\n",
       "       [20, 21, 22, 23, 24, 16, 17, 18, 19]])"
      ]
     },
     "execution_count": 18,
     "metadata": {},
     "output_type": "execute_result"
    }
   ],
   "source": [
    "Ylm2ind"
   ]
  },
  {
   "cell_type": "code",
   "execution_count": 19,
   "metadata": {},
   "outputs": [
    {
     "data": {
      "text/plain": [
       "array([[ 0,  0],\n",
       "       [ 1, -1],\n",
       "       [ 1,  0],\n",
       "       [ 1,  1],\n",
       "       [ 2, -2],\n",
       "       [ 2, -1],\n",
       "       [ 2,  0],\n",
       "       [ 2,  1],\n",
       "       [ 2,  2],\n",
       "       [ 3, -3],\n",
       "       [ 3, -2],\n",
       "       [ 3, -1],\n",
       "       [ 3,  0],\n",
       "       [ 3,  1],\n",
       "       [ 3,  2],\n",
       "       [ 3,  3],\n",
       "       [ 4, -4],\n",
       "       [ 4, -3],\n",
       "       [ 4, -2],\n",
       "       [ 4, -1],\n",
       "       [ 4,  0],\n",
       "       [ 4,  1],\n",
       "       [ 4,  2],\n",
       "       [ 4,  3],\n",
       "       [ 4,  4]])"
      ]
     },
     "execution_count": 19,
     "metadata": {},
     "output_type": "execute_result"
    }
   ],
   "source": [
    "ind2Ylm"
   ]
  },
  {
   "cell_type": "code",
   "execution_count": 20,
   "metadata": {},
   "outputs": [
    {
     "data": {
      "text/plain": [
       "1"
      ]
     },
     "execution_count": 20,
     "metadata": {},
     "output_type": "execute_result"
    }
   ],
   "source": [
    "Ylm2ind[1,-1]\n",
    "#this means l=1,m=-1 is stored in index 1 of ind2Ylm"
   ]
  },
  {
   "cell_type": "code",
   "execution_count": 21,
   "metadata": {},
   "outputs": [
    {
     "data": {
      "text/plain": [
       "array([ 1,  4, 10, 20, 35,  0])"
      ]
     },
     "execution_count": 21,
     "metadata": {},
     "output_type": "execute_result"
    }
   ],
   "source": [
    "powlrange #-> these are the Npower quantities for a given Lmax"
   ]
  },
  {
   "cell_type": "code",
   "execution_count": 27,
   "metadata": {},
   "outputs": [],
   "source": [
    "#powerexp -> the powercoeff list\n",
    "powerexp = np.zeros((Lmax+1,Npower))"
   ]
  },
  {
   "cell_type": "code",
   "execution_count": 34,
   "metadata": {},
   "outputs": [
    {
     "name": "stdout",
     "output_type": "stream",
     "text": [
      "n1,n2,n3 :0, 0, 2\n",
      "indexvalue in ind2pow : 4\n",
      "\n",
      "n1,n2,n3 :0, 1, 1\n",
      "indexvalue in ind2pow : 5\n",
      "\n",
      "n1,n2,n3 :0, 2, 0\n",
      "indexvalue in ind2pow : 6\n",
      "\n",
      "n1,n2,n3 :1, 0, 2\n",
      "indexvalue in ind2pow : 14\n",
      "\n",
      "n1,n2,n3 :1, 1, 1\n",
      "indexvalue in ind2pow : 15\n",
      "\n",
      "n1,n2,n3 :1, 2, 0\n",
      "indexvalue in ind2pow : 16\n",
      "\n",
      "n1,n2,n3 :2, 0, 2\n",
      "indexvalue in ind2pow : 29\n",
      "\n",
      "n1,n2,n3 :2, 1, 1\n",
      "indexvalue in ind2pow : 30\n",
      "\n",
      "n1,n2,n3 :2, 2, 0\n",
      "indexvalue in ind2pow : 31\n",
      "\n",
      "n1,n2,n3 :3, 0, 2\n",
      "indexvalue in ind2pow : -1\n",
      "\n",
      "n1,n2,n3 :3, 1, 1\n",
      "indexvalue in ind2pow : -1\n",
      "\n",
      "n1,n2,n3 :3, 2, 0\n",
      "indexvalue in ind2pow : -1\n",
      "\n",
      "n1,n2,n3 :4, 0, 2\n",
      "indexvalue in ind2pow : -1\n",
      "\n",
      "n1,n2,n3 :4, 1, 1\n",
      "indexvalue in ind2pow : -1\n",
      "\n",
      "n1,n2,n3 :4, 2, 0\n",
      "indexvalue in ind2pow : -1\n",
      "\n"
     ]
    }
   ],
   "source": [
    "for n0 in range(Lmax+1):\n",
    "    for n1 in range(Lmax+1):\n",
    "        for n2 in range(Lmax+1):\n",
    "            n=n1+n2+n3\n",
    "            if n<=Lmax:\n",
    "                powerexp[n][pow2ind[n0,n1,n2]] = factorial(n,True)/(factorial(n0,True)*factorial(n1,True)*factorial(n2,True))\n",
    "                if(n==2):\n",
    "                    print(\"n1,n2,n3 :{}, {}, {}\".format(n0,n1,n2))\n",
    "                    print(\"indexvalue in ind2pow : {}\".format(pow2ind[n0,n1,n2]))\n",
    "                    print()"
   ]
  },
  {
   "cell_type": "code",
   "execution_count": 35,
   "metadata": {},
   "outputs": [
    {
     "data": {
      "text/plain": [
       "array([[0, 0, 0],\n",
       "       [0, 0, 1],\n",
       "       [0, 1, 0],\n",
       "       [1, 0, 0],\n",
       "       [0, 0, 2],\n",
       "       [0, 1, 1],\n",
       "       [0, 2, 0],\n",
       "       [1, 0, 1],\n",
       "       [1, 1, 0],\n",
       "       [2, 0, 0],\n",
       "       [0, 0, 3],\n",
       "       [0, 1, 2],\n",
       "       [0, 2, 1],\n",
       "       [0, 3, 0],\n",
       "       [1, 0, 2],\n",
       "       [1, 1, 1],\n",
       "       [1, 2, 0],\n",
       "       [2, 0, 1],\n",
       "       [2, 1, 0],\n",
       "       [3, 0, 0],\n",
       "       [0, 0, 4],\n",
       "       [0, 1, 3],\n",
       "       [0, 2, 2],\n",
       "       [0, 3, 1],\n",
       "       [0, 4, 0],\n",
       "       [1, 0, 3],\n",
       "       [1, 1, 2],\n",
       "       [1, 2, 1],\n",
       "       [1, 3, 0],\n",
       "       [2, 0, 2],\n",
       "       [2, 1, 1],\n",
       "       [2, 2, 0],\n",
       "       [3, 0, 1],\n",
       "       [3, 1, 0],\n",
       "       [4, 0, 0]])"
      ]
     },
     "execution_count": 35,
     "metadata": {},
     "output_type": "execute_result"
    }
   ],
   "source": [
    "ind2pow"
   ]
  },
  {
   "cell_type": "code",
   "execution_count": 45,
   "metadata": {},
   "outputs": [
    {
     "name": "stdout",
     "output_type": "stream",
     "text": [
      "[1. 3. 3. 1.]\n",
      "[[0 0 3]\n",
      " [0 1 2]\n",
      " [0 2 1]\n",
      " [0 3 0]]\n"
     ]
    }
   ],
   "source": [
    "print(powerexp[3][10:14])\n",
    "print(ind2pow[10:14])"
   ]
  },
  {
   "cell_type": "code",
   "execution_count": 44,
   "metadata": {},
   "outputs": [
    {
     "name": "stdout",
     "output_type": "stream",
     "text": [
      "[1. 2. 1.]\n"
     ]
    }
   ],
   "source": [
    "print(powerexp[2][4:7])"
   ]
  },
  {
   "cell_type": "code",
   "execution_count": null,
   "metadata": {},
   "outputs": [],
   "source": [
    "u = np.array([0.3,0.7,0.9])"
   ]
  }
 ],
 "metadata": {
  "kernelspec": {
   "display_name": "Python 3",
   "language": "python",
   "name": "python3"
  },
  "language_info": {
   "codemirror_mode": {
    "name": "ipython",
    "version": 3
   },
   "file_extension": ".py",
   "mimetype": "text/x-python",
   "name": "python",
   "nbconvert_exporter": "python",
   "pygments_lexer": "ipython3",
   "version": "3.5.2"
  }
 },
 "nbformat": 4,
 "nbformat_minor": 2
}
