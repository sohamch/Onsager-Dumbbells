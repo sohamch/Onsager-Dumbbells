{
 "cells": [
  {
   "cell_type": "code",
   "execution_count": 2,
   "metadata": {},
   "outputs": [],
   "source": [
    "from sympy import *\n",
    "from sympy.physics.vector import *\n",
    "import numpy as np\n",
    "from scipy.special import factorial\n",
    "import onsager.PowerExpansion as PE\n",
    "init_printing()"
   ]
  },
  {
   "cell_type": "code",
   "execution_count": 3,
   "metadata": {},
   "outputs": [
    {
     "data": {
      "image/png": "[encoded data removed]",
      "text/latex": [
       "$$\\left[\\begin{matrix}dx_{x} & dx_{y} & dx_{z}\\end{matrix}\\right]$$"
      ],
      "text/plain": [
       "[dx[x]  dx[y]  dx[z]]"
      ]
     },
     "execution_count": 3,
     "metadata": {},
     "output_type": "execute_result"
    }
   ],
   "source": [
    "dx=IndexedBase('dx')\n",
    "x,y,z=symbols(\"x y z\",cls=Idx)\n",
    "dx = Array([dx[x],dx[y],dx[z]])\n",
    "dx"
   ]
  },
  {
   "cell_type": "code",
   "execution_count": 6,
   "metadata": {},
   "outputs": [
    {
     "data": {
      "text/plain": [
       "<onsager.PowerExpansion.Taylor3D at 0x7f80b4f8de48>"
      ]
     },
     "execution_count": 6,
     "metadata": {},
     "output_type": "execute_result"
    }
   ],
   "source": [
    "T3d=PE.Taylor3D\n",
    "Taylor=T3d\n",
    "Taylor()\n",
    "# Taylor.shape()"
   ]
  },
  {
   "cell_type": "code",
   "execution_count": 7,
   "metadata": {},
   "outputs": [
    {
     "name": "stdout",
     "output_type": "stream",
     "text": [
      "[ 1  4 10 20 35  0]\n"
     ]
    }
   ],
   "source": [
    "Lmax = 4\n",
    "NYlm,Npower,pow2ind,ind2pow,Ylm2ind,ind2Ylm,powlrange = Taylor.makeindexPowerYlm(Lmax)\n",
    "print((powlrange))"
   ]
  },
  {
   "cell_type": "markdown",
   "metadata": {},
   "source": [
    "## Want to evaluate: pre[n] \\* (powercoeff[n] \\* pexp)[powlrange[n]] for n=2 and 3 for a general transport vector dx ##"
   ]
  },
  {
   "cell_type": "code",
   "execution_count": 8,
   "metadata": {},
   "outputs": [],
   "source": [
    "#powexp - symbolic\n",
    "pexp=[]\n",
    "pexp.append(1)\n",
    "for l in ind2pow[1:]:\n",
    "    pexp.append(dx[0]**l[0]*dx[1]**l[1]*dx[2]**l[2])\n",
    "# pexp=Array(pexp)"
   ]
  },
  {
   "cell_type": "code",
   "execution_count": 9,
   "metadata": {},
   "outputs": [
    {
     "data": {
      "image/png": "[encoded data removed]",
      "text/latex": [
       "$$\\left [ 1, \\quad dx_{z}, \\quad dx_{y}, \\quad dx_{x}, \\quad dx_{z}^{2}, \\quad dx_{y} dx_{z}, \\quad dx_{y}^{2}, \\quad dx_{x} dx_{z}, \\quad dx_{x} dx_{y}, \\quad dx_{x}^{2}, \\quad dx_{z}^{3}, \\quad dx_{y} dx_{z}^{2}, \\quad dx_{y}^{2} dx_{z}, \\quad dx_{y}^{3}, \\quad dx_{x} dx_{z}^{2}, \\quad dx_{x} dx_{y} dx_{z}, \\quad dx_{x} dx_{y}^{2}, \\quad dx_{x}^{2} dx_{z}, \\quad dx_{x}^{2} dx_{y}, \\quad dx_{x}^{3}, \\quad dx_{z}^{4}, \\quad dx_{y} dx_{z}^{3}, \\quad dx_{y}^{2} dx_{z}^{2}, \\quad dx_{y}^{3} dx_{z}, \\quad dx_{y}^{4}, \\quad dx_{x} dx_{z}^{3}, \\quad dx_{x} dx_{y} dx_{z}^{2}, \\quad dx_{x} dx_{y}^{2} dx_{z}, \\quad dx_{x} dx_{y}^{3}, \\quad dx_{x}^{2} dx_{z}^{2}, \\quad dx_{x}^{2} dx_{y} dx_{z}, \\quad dx_{x}^{2} dx_{y}^{2}, \\quad dx_{x}^{3} dx_{z}, \\quad dx_{x}^{3} dx_{y}, \\quad dx_{x}^{4}\\right ]$$"
      ],
      "text/plain": [
       "⎡                             2                    2                          \n",
       "⎣1, dx[z], dx[y], dx[x], dx[z] , dx[y]⋅dx[z], dx[y] , dx[x]⋅dx[z], dx[x]⋅dx[y]\n",
       "\n",
       "       2       3             2       2             3             2            \n",
       ", dx[x] , dx[z] , dx[y]⋅dx[z] , dx[y] ⋅dx[z], dx[y] , dx[x]⋅dx[z] , dx[x]⋅dx[y\n",
       "\n",
       "                    2       2             2             3       4             \n",
       "]⋅dx[z], dx[x]⋅dx[y] , dx[x] ⋅dx[z], dx[x] ⋅dx[y], dx[x] , dx[z] , dx[y]⋅dx[z]\n",
       "\n",
       "3       2      2       3             4             3                   2      \n",
       " , dx[y] ⋅dx[z] , dx[y] ⋅dx[z], dx[y] , dx[x]⋅dx[z] , dx[x]⋅dx[y]⋅dx[z] , dx[x\n",
       "\n",
       "       2                   3       2      2       2                   2      2\n",
       "]⋅dx[y] ⋅dx[z], dx[x]⋅dx[y] , dx[x] ⋅dx[z] , dx[x] ⋅dx[y]⋅dx[z], dx[x] ⋅dx[y] \n",
       "\n",
       "       3             3             4⎤\n",
       ", dx[x] ⋅dx[z], dx[x] ⋅dx[y], dx[x] ⎦"
      ]
     },
     "execution_count": 9,
     "metadata": {},
     "output_type": "execute_result"
    }
   ],
   "source": [
    "pexp #all the polynomial terms in terms of the components of dx"
   ]
  },
  {
   "cell_type": "code",
   "execution_count": 10,
   "metadata": {},
   "outputs": [
    {
     "name": "stdout",
     "output_type": "stream",
     "text": [
      "[[ 1.  0.  0.  0.  0.  0.  0.  0.  0.  0.  0.  0.  0.  0.  0.  0.  0.  0.\n",
      "   0.  0.  0.  0.  0.  0.  0.  0.  0.  0.  0.  0.  0.  0.  0.  0.  0.]\n",
      " [ 0.  1.  1.  1.  0.  0.  0.  0.  0.  0.  0.  0.  0.  0.  0.  0.  0.  0.\n",
      "   0.  0.  0.  0.  0.  0.  0.  0.  0.  0.  0.  0.  0.  0.  0.  0.  0.]\n",
      " [ 0.  0.  0.  0.  1.  2.  1.  2.  2.  1.  0.  0.  0.  0.  0.  0.  0.  0.\n",
      "   0.  0.  0.  0.  0.  0.  0.  0.  0.  0.  0.  0.  0.  0.  0.  0.  0.]\n",
      " [ 0.  0.  0.  0.  0.  0.  0.  0.  0.  0.  1.  3.  3.  1.  3.  6.  3.  3.\n",
      "   3.  1.  0.  0.  0.  0.  0.  0.  0.  0.  0.  0.  0.  0.  0.  0.  0.]\n",
      " [ 0.  0.  0.  0.  0.  0.  0.  0.  0.  0.  0.  0.  0.  0.  0.  0.  0.  0.\n",
      "   0.  0.  1.  4.  6.  4.  1.  4. 12. 12.  4.  6. 12.  6.  4.  4.  1.]]\n",
      "[35, 35, 35, 35, 35]\n"
     ]
    }
   ],
   "source": [
    "#pexp - created\n",
    "#create powercoeff - stores the binomial coefficients at approrpriate indices for future multiplication with\n",
    "#pexp\n",
    "powercoeff = Taylor.makepowercoeff()\n",
    "print(powercoeff)\n",
    "print([len(powercoeff[i])for i in range(len(powercoeff))])"
   ]
  },
  {
   "cell_type": "code",
   "execution_count": 12,
   "metadata": {},
   "outputs": [
    {
     "name": "stdout",
     "output_type": "stream",
     "text": [
      "(1+0j)  -> i^0/0!\n",
      "1j  -> i^1/1!\n",
      "(-0.5+0j)  -> i^2/2!\n",
      "(-0-0.16666666666666666j)  -> i^3/3!\n",
      "(0.041666666666666664+0j)  -> i^4/4!\n"
     ]
    },
    {
     "data": {
      "image/png": "[encoded data removed]",
      "text/latex": [
       "$$\\left ( 5\\right )$$"
      ],
      "text/plain": [
       "(5,)"
      ]
     },
     "execution_count": 12,
     "metadata": {},
     "output_type": "execute_result"
    }
   ],
   "source": [
    "pre = np.array([(1j) ** n / factorial(n, True) for n in range(Lmax + 1)])\n",
    "for n,c in enumerate(pre):\n",
    "    print(c, \" -> i^{}/{}!\".format(n,n))\n",
    "#complex prefactors in the Taylor series expansion of e^i(q.dx)\n",
    "pre.shape"
   ]
  },
  {
   "cell_type": "code",
   "execution_count": 15,
   "metadata": {},
   "outputs": [
    {
     "data": {
      "image/png": "[encoded data removed]",
      "text/latex": [
       "$$\\left[\\begin{matrix}1.0\\end{matrix}\\right]$$"
      ],
      "text/plain": [
       "[1.0]"
      ]
     },
     "execution_count": 15,
     "metadata": {},
     "output_type": "execute_result"
    }
   ],
   "source": [
    "Array((powercoeff[0]*pexp)[:powlrange[0]])"
   ]
  },
  {
   "cell_type": "code",
   "execution_count": 16,
   "metadata": {},
   "outputs": [
    {
     "data": {
      "text/latex": [
       "$$\\left[\\begin{array}0.0 & 1.0 dx_{z} & 1.0 dx_{y} & 1.0 dx_{x} & 0 & 0 & 0 & 0 & 0 & 0 & 0 & 0 & 0 & 0 & 0 & 0 & 0 & 0 & 0 & 0 & 0 & 0 & 0 & 0 & 0 & 0 & 0 & 0 & 0 & 0 & 0 & 0 & 0 & 0 & 0\\end{array}\\right]$$"
      ],
      "text/plain": [
       "[0.0  1.0⋅dx[z]  1.0⋅dx[y]  1.0⋅dx[x]  0  0  0  0  0  0  0  0  0  0  0  0  0  \n",
       "0  0  0  0  0  0  0  0  0  0  0  0  0  0  0  0  0  0]"
      ]
     },
     "execution_count": 16,
     "metadata": {},
     "output_type": "execute_result"
    }
   ],
   "source": [
    "Array((powercoeff[1]*pexp)[:powlrange[1]])"
   ]
  },
  {
   "cell_type": "code",
   "execution_count": null,
   "metadata": {},
   "outputs": [],
   "source": []
  },
  {
   "cell_type": "code",
   "execution_count": 88,
   "metadata": {},
   "outputs": [
    {
     "data": {
      "image/png": "[encoded data removed]",
      "text/latex": [
       "$$\\left[\\begin{matrix}0.0 & 0 & 0 & 0 & 1.0 dx_{z}^{2} & 2.0 dx_{y} dx_{z} & 1.0 dx_{y}^{2} & 2.0 dx_{x} dx_{z} & 2.0 dx_{x} dx_{y} & 1.0 dx_{x}^{2}\\end{matrix}\\right]$$"
      ],
      "text/plain": [
       "⎡                       2                            2                        \n",
       "⎣0.0  0  0  0  1.0⋅dx[z]   2.0⋅dx[y]⋅dx[z]  1.0⋅dx[y]   2.0⋅dx[x]⋅dx[z]  2.0⋅d\n",
       "\n",
       "                     2⎤\n",
       "x[x]⋅dx[y]  1.0⋅dx[x] ⎦"
      ]
     },
     "execution_count": 88,
     "metadata": {},
     "output_type": "execute_result"
    }
   ],
   "source": [
    "Array((powercoeff[2]*pexp)[:powlrange[2]])"
   ]
  },
  {
   "cell_type": "code",
   "execution_count": 89,
   "metadata": {},
   "outputs": [
    {
     "data": {
      "text/latex": [
       "$$\\left[\\begin{array}0.0 & 0 & 0 & 0 & 0 & 0 & 0 & 0 & 0 & 0 & 1.0 dx_{z}^{3} & 3.0 dx_{y} dx_{z}^{2} & 3.0 dx_{y}^{2} dx_{z} & 1.0 dx_{y}^{3} & 3.0 dx_{x} dx_{z}^{2} & 6.0 dx_{x} dx_{y} dx_{z} & 3.0 dx_{x} dx_{y}^{2} & 3.0 dx_{x}^{2} dx_{z} & 3.0 dx_{x}^{2} dx_{y} & 1.0 dx_{x}^{3}\\end{array}\\right]$$"
      ],
      "text/plain": [
       "⎡                                         3                 2           2     \n",
       "⎣0.0  0  0  0  0  0  0  0  0  0  1.0⋅dx[z]   3.0⋅dx[y]⋅dx[z]   3.0⋅dx[y] ⋅dx[z\n",
       "\n",
       "            3                 2                                        2      \n",
       "]  1.0⋅dx[y]   3.0⋅dx[x]⋅dx[z]   6.0⋅dx[x]⋅dx[y]⋅dx[z]  3.0⋅dx[x]⋅dx[y]   3.0⋅\n",
       "\n",
       "     2                 2                 3⎤\n",
       "dx[x] ⋅dx[z]  3.0⋅dx[x] ⋅dx[y]  1.0⋅dx[x] ⎦"
      ]
     },
     "execution_count": 89,
     "metadata": {},
     "output_type": "execute_result"
    }
   ],
   "source": [
    "Array((powercoeff[3]*pexp)[:powlrange[3]])"
   ]
  },
  {
   "cell_type": "code",
   "execution_count": 11,
   "metadata": {},
   "outputs": [
    {
     "data": {
      "text/plain": [
       "[[((0, 0), array([1., 0., 0.])), ((0, 0), array([-1.,  0.,  0.]))],\n",
       " [((0, 0), array([0., 2., 0.])), ((0, 0), array([ 0., -2.,  0.]))],\n",
       " [((0, 0), array([0., 0., 3.])), ((0, 0), array([ 0.,  0., -3.]))]]"
      ]
     },
     "execution_count": 11,
     "metadata": {},
     "output_type": "execute_result"
    }
   ],
   "source": [
    "#take a nearest neighbor jumpnetwork for a monoatomic orthorhombic lattice\n",
    "jumpnetwork=[[((0,0),np.array([1.,0.,0.])),((0,0),np.array([-1.,0.,0.]))],\n",
    "             [((0,0),np.array([0.,2.,0.])),((0,0),np.array([0.,-2.,0.]))],\n",
    "             [((0,0),np.array([0.,0.,3.])),((0,0),np.array([0.,0.,-3.]))]]\n",
    "jumpnetwork"
   ]
  },
  {
   "cell_type": "code",
   "execution_count": 16,
   "metadata": {},
   "outputs": [
    {
     "name": "stdout",
     "output_type": "stream",
     "text": [
      "[ 1  4 10 20 35  0] 4\n"
     ]
    }
   ],
   "source": [
    "print(powlrange,Lmax)"
   ]
  },
  {
   "cell_type": "code",
   "execution_count": 69,
   "metadata": {},
   "outputs": [],
   "source": [
    "pre = np.array([(1j) ** n / factorial(n, True) for n in range(Taylor.Lmax + 1)])\n",
    "#Taylor jump function\n",
    "# N=1\n",
    "# Taylorjumps = []\n",
    "# for jumplist in jumpnetwork:\n",
    "#     # coefficients; we use tuples because we'll be successively adding to the coefficients in place\n",
    "#     c = [(n, n, np.zeros((powlrange[n], N, N), dtype=complex)) for n in range(Lmax + 1)]\n",
    "#     print(c)\n",
    "#     for (i, j, dx,c1,c2) in jumplist:\n",
    "#         pexp = Taylor.powexp(dx, normalize=False) #make the powerexpansion for the components of dx\n",
    "#         for n in range(Taylor.Lmax + 1):\n",
    "#             (c[n][2])[:, i, j] += pre[n] * (Taylor.powercoeff[n] * pexp)[:Taylor.powlrange[n]]\n",
    "#             #look at the symoblic python notebook for each of these\n",
    "#     Taylorjumps.append(Taylor(c))\n"
   ]
  },
  {
   "cell_type": "code",
   "execution_count": 71,
   "metadata": {},
   "outputs": [
    {
     "name": "stdout",
     "output_type": "stream",
     "text": [
      "(35, 1, 1)\n"
     ]
    }
   ],
   "source": [
    "print((c[-1][2]).shape)"
   ]
  },
  {
   "cell_type": "code",
   "execution_count": 73,
   "metadata": {},
   "outputs": [
    {
     "name": "stdout",
     "output_type": "stream",
     "text": [
      "n = 0\n",
      "pre-factor of Taylor expansion - (1+0j)\n",
      "powercoeff[0] - [1. 0. 0. 0. 0. 0. 0. 0. 0. 0. 0. 0. 0. 0. 0. 0. 0. 0. 0. 0. 0. 0. 0. 0.\n",
      " 0. 0. 0. 0. 0. 0. 0. 0. 0. 0. 0.]\n",
      "pexp - [1. 0. 0. 1. 0. 0. 0. 0. 0. 1. 0. 0. 0. 0. 0. 0. 0. 0. 0. 1. 0. 0. 0. 0.\n",
      " 0. 0. 0. 0. 0. 0. 0. 0. 0. 0. 1.]\n",
      "array from which terms are extracted,(powercoeff[n] * pexp) \n",
      " [1. 0. 0. 0. 0. 0. 0. 0. 0. 0. 0. 0. 0. 0. 0. 0. 0. 0. 0. 0. 0. 0. 0. 0.\n",
      " 0. 0. 0. 0. 0. 0. 0. 0. 0. 0. 0.]\n",
      "Ending index in the array, powlrange[n]- 1\n",
      "[[[1.+0.j]]]\n",
      "\n",
      "n = 1\n",
      "pre-factor of Taylor expansion - 1j\n",
      "powercoeff[1] - [0. 1. 1. 1. 0. 0. 0. 0. 0. 0. 0. 0. 0. 0. 0. 0. 0. 0. 0. 0. 0. 0. 0. 0.\n",
      " 0. 0. 0. 0. 0. 0. 0. 0. 0. 0. 0.]\n",
      "pexp - [1. 0. 0. 1. 0. 0. 0. 0. 0. 1. 0. 0. 0. 0. 0. 0. 0. 0. 0. 1. 0. 0. 0. 0.\n",
      " 0. 0. 0. 0. 0. 0. 0. 0. 0. 0. 1.]\n",
      "array from which terms are extracted,(powercoeff[n] * pexp) \n",
      " [0. 0. 0. 1. 0. 0. 0. 0. 0. 0. 0. 0. 0. 0. 0. 0. 0. 0. 0. 0. 0. 0. 0. 0.\n",
      " 0. 0. 0. 0. 0. 0. 0. 0. 0. 0. 0.]\n",
      "Ending index in the array, powlrange[n]- 4\n",
      "[[[0.+0.j]]\n",
      "\n",
      " [[0.+0.j]]\n",
      "\n",
      " [[0.+0.j]]\n",
      "\n",
      " [[0.+1.j]]]\n",
      "\n",
      "n = 2\n",
      "pre-factor of Taylor expansion - (-0.5+0j)\n",
      "powercoeff[2] - [0. 0. 0. 0. 1. 2. 1. 2. 2. 1. 0. 0. 0. 0. 0. 0. 0. 0. 0. 0. 0. 0. 0. 0.\n",
      " 0. 0. 0. 0. 0. 0. 0. 0. 0. 0. 0.]\n",
      "pexp - [1. 0. 0. 1. 0. 0. 0. 0. 0. 1. 0. 0. 0. 0. 0. 0. 0. 0. 0. 1. 0. 0. 0. 0.\n",
      " 0. 0. 0. 0. 0. 0. 0. 0. 0. 0. 1.]\n",
      "array from which terms are extracted,(powercoeff[n] * pexp) \n",
      " [0. 0. 0. 0. 0. 0. 0. 0. 0. 1. 0. 0. 0. 0. 0. 0. 0. 0. 0. 0. 0. 0. 0. 0.\n",
      " 0. 0. 0. 0. 0. 0. 0. 0. 0. 0. 0.]\n",
      "Ending index in the array, powlrange[n]- 10\n",
      "[[[ 0. +0.j]]\n",
      "\n",
      " [[ 0. +0.j]]\n",
      "\n",
      " [[ 0. +0.j]]\n",
      "\n",
      " [[ 0. +0.j]]\n",
      "\n",
      " [[ 0. +0.j]]\n",
      "\n",
      " [[ 0. +0.j]]\n",
      "\n",
      " [[ 0. +0.j]]\n",
      "\n",
      " [[ 0. +0.j]]\n",
      "\n",
      " [[ 0. +0.j]]\n",
      "\n",
      " [[-0.5+0.j]]]\n",
      "\n",
      "n = 3\n",
      "pre-factor of Taylor expansion - (-0-0.16666666666666666j)\n",
      "powercoeff[3] - [0. 0. 0. 0. 0. 0. 0. 0. 0. 0. 1. 3. 3. 1. 3. 6. 3. 3. 3. 1. 0. 0. 0. 0.\n",
      " 0. 0. 0. 0. 0. 0. 0. 0. 0. 0. 0.]\n",
      "pexp - [1. 0. 0. 1. 0. 0. 0. 0. 0. 1. 0. 0. 0. 0. 0. 0. 0. 0. 0. 1. 0. 0. 0. 0.\n",
      " 0. 0. 0. 0. 0. 0. 0. 0. 0. 0. 1.]\n",
      "array from which terms are extracted,(powercoeff[n] * pexp) \n",
      " [0. 0. 0. 0. 0. 0. 0. 0. 0. 0. 0. 0. 0. 0. 0. 0. 0. 0. 0. 1. 0. 0. 0. 0.\n",
      " 0. 0. 0. 0. 0. 0. 0. 0. 0. 0. 0.]\n",
      "Ending index in the array, powlrange[n]- 20\n",
      "[[[0.+0.        j]]\n",
      "\n",
      " [[0.+0.        j]]\n",
      "\n",
      " [[0.+0.        j]]\n",
      "\n",
      " [[0.+0.        j]]\n",
      "\n",
      " [[0.+0.        j]]\n",
      "\n",
      " [[0.+0.        j]]\n",
      "\n",
      " [[0.+0.        j]]\n",
      "\n",
      " [[0.+0.        j]]\n",
      "\n",
      " [[0.+0.        j]]\n",
      "\n",
      " [[0.+0.        j]]\n",
      "\n",
      " [[0.+0.        j]]\n",
      "\n",
      " [[0.+0.        j]]\n",
      "\n",
      " [[0.+0.        j]]\n",
      "\n",
      " [[0.+0.        j]]\n",
      "\n",
      " [[0.+0.        j]]\n",
      "\n",
      " [[0.+0.        j]]\n",
      "\n",
      " [[0.+0.        j]]\n",
      "\n",
      " [[0.+0.        j]]\n",
      "\n",
      " [[0.+0.        j]]\n",
      "\n",
      " [[0.-0.16666667j]]]\n",
      "\n",
      "n = 4\n",
      "pre-factor of Taylor expansion - (0.041666666666666664+0j)\n",
      "powercoeff[4] - [ 0.  0.  0.  0.  0.  0.  0.  0.  0.  0.  0.  0.  0.  0.  0.  0.  0.  0.\n",
      "  0.  0.  1.  4.  6.  4.  1.  4. 12. 12.  4.  6. 12.  6.  4.  4.  1.]\n",
      "pexp - [1. 0. 0. 1. 0. 0. 0. 0. 0. 1. 0. 0. 0. 0. 0. 0. 0. 0. 0. 1. 0. 0. 0. 0.\n",
      " 0. 0. 0. 0. 0. 0. 0. 0. 0. 0. 1.]\n",
      "array from which terms are extracted,(powercoeff[n] * pexp) \n",
      " [0. 0. 0. 0. 0. 0. 0. 0. 0. 0. 0. 0. 0. 0. 0. 0. 0. 0. 0. 0. 0. 0. 0. 0.\n",
      " 0. 0. 0. 0. 0. 0. 0. 0. 0. 0. 1.]\n",
      "Ending index in the array, powlrange[n]- 35\n",
      "[[[0.        +0.j]]\n",
      "\n",
      " [[0.        +0.j]]\n",
      "\n",
      " [[0.        +0.j]]\n",
      "\n",
      " [[0.        +0.j]]\n",
      "\n",
      " [[0.        +0.j]]\n",
      "\n",
      " [[0.        +0.j]]\n",
      "\n",
      " [[0.        +0.j]]\n",
      "\n",
      " [[0.        +0.j]]\n",
      "\n",
      " [[0.        +0.j]]\n",
      "\n",
      " [[0.        +0.j]]\n",
      "\n",
      " [[0.        +0.j]]\n",
      "\n",
      " [[0.        +0.j]]\n",
      "\n",
      " [[0.        +0.j]]\n",
      "\n",
      " [[0.        +0.j]]\n",
      "\n",
      " [[0.        +0.j]]\n",
      "\n",
      " [[0.        +0.j]]\n",
      "\n",
      " [[0.        +0.j]]\n",
      "\n",
      " [[0.        +0.j]]\n",
      "\n",
      " [[0.        +0.j]]\n",
      "\n",
      " [[0.        +0.j]]\n",
      "\n",
      " [[0.        +0.j]]\n",
      "\n",
      " [[0.        +0.j]]\n",
      "\n",
      " [[0.        +0.j]]\n",
      "\n",
      " [[0.        +0.j]]\n",
      "\n",
      " [[0.        +0.j]]\n",
      "\n",
      " [[0.        +0.j]]\n",
      "\n",
      " [[0.        +0.j]]\n",
      "\n",
      " [[0.        +0.j]]\n",
      "\n",
      " [[0.        +0.j]]\n",
      "\n",
      " [[0.        +0.j]]\n",
      "\n",
      " [[0.        +0.j]]\n",
      "\n",
      " [[0.        +0.j]]\n",
      "\n",
      " [[0.        +0.j]]\n",
      "\n",
      " [[0.        +0.j]]\n",
      "\n",
      " [[0.04166667+0.j]]]\n",
      "\n",
      "n = 0\n",
      "pre-factor of Taylor expansion - (1+0j)\n",
      "powercoeff[0] - [1. 0. 0. 0. 0. 0. 0. 0. 0. 0. 0. 0. 0. 0. 0. 0. 0. 0. 0. 0. 0. 0. 0. 0.\n",
      " 0. 0. 0. 0. 0. 0. 0. 0. 0. 0. 0.]\n",
      "pexp - [ 1.  0.  0. -1.  0.  0.  0. -0. -0.  1.  0.  0.  0.  0. -0. -0. -0.  0.\n",
      "  0. -1.  0.  0.  0.  0.  0. -0. -0. -0. -0.  0.  0.  0. -0. -0.  1.]\n",
      "array from which terms are extracted,(powercoeff[n] * pexp) \n",
      " [ 1.  0.  0. -0.  0.  0.  0. -0. -0.  0.  0.  0.  0.  0. -0. -0. -0.  0.\n",
      "  0. -0.  0.  0.  0.  0.  0. -0. -0. -0. -0.  0.  0.  0. -0. -0.  0.]\n",
      "Ending index in the array, powlrange[n]- 1\n",
      "[[[2.+0.j]]]\n",
      "\n",
      "n = 1\n",
      "pre-factor of Taylor expansion - 1j\n",
      "powercoeff[1] - [0. 1. 1. 1. 0. 0. 0. 0. 0. 0. 0. 0. 0. 0. 0. 0. 0. 0. 0. 0. 0. 0. 0. 0.\n",
      " 0. 0. 0. 0. 0. 0. 0. 0. 0. 0. 0.]\n",
      "pexp - [ 1.  0.  0. -1.  0.  0.  0. -0. -0.  1.  0.  0.  0.  0. -0. -0. -0.  0.\n",
      "  0. -1.  0.  0.  0.  0.  0. -0. -0. -0. -0.  0.  0.  0. -0. -0.  1.]\n",
      "array from which terms are extracted,(powercoeff[n] * pexp) \n",
      " [ 0.  0.  0. -1.  0.  0.  0. -0. -0.  0.  0.  0.  0.  0. -0. -0. -0.  0.\n",
      "  0. -0.  0.  0.  0.  0.  0. -0. -0. -0. -0.  0.  0.  0. -0. -0.  0.]\n",
      "Ending index in the array, powlrange[n]- 4\n",
      "[[[0.+0.j]]\n",
      "\n",
      " [[0.+0.j]]\n",
      "\n",
      " [[0.+0.j]]\n",
      "\n",
      " [[0.+0.j]]]\n",
      "\n",
      "n = 2\n",
      "pre-factor of Taylor expansion - (-0.5+0j)\n",
      "powercoeff[2] - [0. 0. 0. 0. 1. 2. 1. 2. 2. 1. 0. 0. 0. 0. 0. 0. 0. 0. 0. 0. 0. 0. 0. 0.\n",
      " 0. 0. 0. 0. 0. 0. 0. 0. 0. 0. 0.]\n",
      "pexp - [ 1.  0.  0. -1.  0.  0.  0. -0. -0.  1.  0.  0.  0.  0. -0. -0. -0.  0.\n",
      "  0. -1.  0.  0.  0.  0.  0. -0. -0. -0. -0.  0.  0.  0. -0. -0.  1.]\n",
      "array from which terms are extracted,(powercoeff[n] * pexp) \n",
      " [ 0.  0.  0. -0.  0.  0.  0. -0. -0.  1.  0.  0.  0.  0. -0. -0. -0.  0.\n",
      "  0. -0.  0.  0.  0.  0.  0. -0. -0. -0. -0.  0.  0.  0. -0. -0.  0.]\n",
      "Ending index in the array, powlrange[n]- 10\n",
      "[[[ 0.+0.j]]\n",
      "\n",
      " [[ 0.+0.j]]\n",
      "\n",
      " [[ 0.+0.j]]\n",
      "\n",
      " [[ 0.+0.j]]\n",
      "\n",
      " [[ 0.+0.j]]\n",
      "\n",
      " [[ 0.+0.j]]\n",
      "\n",
      " [[ 0.+0.j]]\n",
      "\n",
      " [[ 0.+0.j]]\n",
      "\n",
      " [[ 0.+0.j]]\n",
      "\n",
      " [[-1.+0.j]]]\n",
      "\n",
      "n = 3\n",
      "pre-factor of Taylor expansion - (-0-0.16666666666666666j)\n",
      "powercoeff[3] - [0. 0. 0. 0. 0. 0. 0. 0. 0. 0. 1. 3. 3. 1. 3. 6. 3. 3. 3. 1. 0. 0. 0. 0.\n",
      " 0. 0. 0. 0. 0. 0. 0. 0. 0. 0. 0.]\n",
      "pexp - [ 1.  0.  0. -1.  0.  0.  0. -0. -0.  1.  0.  0.  0.  0. -0. -0. -0.  0.\n",
      "  0. -1.  0.  0.  0.  0.  0. -0. -0. -0. -0.  0.  0.  0. -0. -0.  1.]\n",
      "array from which terms are extracted,(powercoeff[n] * pexp) \n",
      " [ 0.  0.  0. -0.  0.  0.  0. -0. -0.  0.  0.  0.  0.  0. -0. -0. -0.  0.\n",
      "  0. -1.  0.  0.  0.  0.  0. -0. -0. -0. -0.  0.  0.  0. -0. -0.  0.]\n",
      "Ending index in the array, powlrange[n]- 20\n",
      "[[[0.+0.j]]\n",
      "\n",
      " [[0.+0.j]]\n",
      "\n",
      " [[0.+0.j]]\n",
      "\n",
      " [[0.+0.j]]\n",
      "\n",
      " [[0.+0.j]]\n",
      "\n",
      " [[0.+0.j]]\n",
      "\n",
      " [[0.+0.j]]\n",
      "\n",
      " [[0.+0.j]]\n",
      "\n",
      " [[0.+0.j]]\n",
      "\n",
      " [[0.+0.j]]\n",
      "\n",
      " [[0.+0.j]]\n",
      "\n",
      " [[0.+0.j]]\n",
      "\n",
      " [[0.+0.j]]\n",
      "\n",
      " [[0.+0.j]]\n",
      "\n",
      " [[0.+0.j]]\n",
      "\n",
      " [[0.+0.j]]\n",
      "\n",
      " [[0.+0.j]]\n",
      "\n",
      " [[0.+0.j]]\n",
      "\n",
      " [[0.+0.j]]\n",
      "\n",
      " [[0.+0.j]]]\n",
      "\n",
      "n = 4\n",
      "pre-factor of Taylor expansion - (0.041666666666666664+0j)\n",
      "powercoeff[4] - [ 0.  0.  0.  0.  0.  0.  0.  0.  0.  0.  0.  0.  0.  0.  0.  0.  0.  0.\n",
      "  0.  0.  1.  4.  6.  4.  1.  4. 12. 12.  4.  6. 12.  6.  4.  4.  1.]\n",
      "pexp - [ 1.  0.  0. -1.  0.  0.  0. -0. -0.  1.  0.  0.  0.  0. -0. -0. -0.  0.\n",
      "  0. -1.  0.  0.  0.  0.  0. -0. -0. -0. -0.  0.  0.  0. -0. -0.  1.]\n",
      "array from which terms are extracted,(powercoeff[n] * pexp) \n",
      " [ 0.  0.  0. -0.  0.  0.  0. -0. -0.  0.  0.  0.  0.  0. -0. -0. -0.  0.\n",
      "  0. -0.  0.  0.  0.  0.  0. -0. -0. -0. -0.  0.  0.  0. -0. -0.  1.]\n",
      "Ending index in the array, powlrange[n]- 35\n",
      "[[[0.        +0.j]]\n",
      "\n",
      " [[0.        +0.j]]\n",
      "\n",
      " [[0.        +0.j]]\n",
      "\n",
      " [[0.        +0.j]]\n",
      "\n",
      " [[0.        +0.j]]\n",
      "\n",
      " [[0.        +0.j]]\n",
      "\n",
      " [[0.        +0.j]]\n",
      "\n",
      " [[0.        +0.j]]\n",
      "\n",
      " [[0.        +0.j]]\n",
      "\n",
      " [[0.        +0.j]]\n",
      "\n",
      " [[0.        +0.j]]\n",
      "\n",
      " [[0.        +0.j]]\n",
      "\n",
      " [[0.        +0.j]]\n",
      "\n",
      " [[0.        +0.j]]\n",
      "\n",
      " [[0.        +0.j]]\n",
      "\n",
      " [[0.        +0.j]]\n",
      "\n",
      " [[0.        +0.j]]\n",
      "\n",
      " [[0.        +0.j]]\n",
      "\n",
      " [[0.        +0.j]]\n",
      "\n",
      " [[0.        +0.j]]\n",
      "\n",
      " [[0.        +0.j]]\n",
      "\n",
      " [[0.        +0.j]]\n",
      "\n",
      " [[0.        +0.j]]\n",
      "\n",
      " [[0.        +0.j]]\n",
      "\n",
      " [[0.        +0.j]]\n",
      "\n",
      " [[0.        +0.j]]\n",
      "\n",
      " [[0.        +0.j]]\n",
      "\n",
      " [[0.        +0.j]]\n",
      "\n",
      " [[0.        +0.j]]\n",
      "\n",
      " [[0.        +0.j]]\n",
      "\n",
      " [[0.        +0.j]]\n",
      "\n",
      " [[0.        +0.j]]\n",
      "\n",
      " [[0.        +0.j]]\n",
      "\n",
      " [[0.        +0.j]]\n",
      "\n",
      " [[0.08333333+0.j]]]\n",
      "\n"
     ]
    }
   ],
   "source": [
    "c = [(n, n, np.zeros((powlrange[n], N, N), dtype=complex)) for n in range(Lmax + 1)]\n",
    "for ((i, j), dx) in jumpnetwork[0]:\n",
    "    pexp = PE.Taylor3D.powexp(dx, normalize=False)\n",
    "    for n in range(Lmax + 1):\n",
    "        (c[n][2])[:, i, j] += pre[n] * (powercoeff[n] * pexp)[:powlrange[n]]\n",
    "        print(\"n = {}\".format(n))\n",
    "        print(\"pre-factor of Taylor expansion - {}\".format(pre[n]))\n",
    "        print(\"powercoeff[{}] - {}\".format(n,powercoeff[n]))\n",
    "        print(\"pexp - {}\".format(pexp))\n",
    "        print(\"array from which terms are extracted,(powercoeff[n] * pexp) \\n {}\".format(powercoeff[n] * pexp))\n",
    "        print(\"Ending index in the array, powlrange[n]- {}\".format(powlrange[n]))\n",
    "        print (c[n][2])\n",
    "        print()\n",
    "        #look at the symoblic python notebook for each of these"
   ]
  },
  {
   "cell_type": "code",
   "execution_count": 75,
   "metadata": {},
   "outputs": [
    {
     "data": {
      "text/plain": [
       "<onsager.PowerExpansion.Taylor3D at 0x7f666af72828>"
      ]
     },
     "execution_count": 75,
     "metadata": {},
     "output_type": "execute_result"
    }
   ],
   "source": [
    "Taylor(c)"
   ]
  },
  {
   "cell_type": "code",
   "execution_count": 76,
   "metadata": {},
   "outputs": [
    {
     "data": {
      "text/plain": [
       "array([<onsager.PowerExpansion.Taylor3D object at 0x7f669806c1d0>,\n",
       "       <onsager.PowerExpansion.Taylor3D object at 0x7f66980763c8>,\n",
       "       <onsager.PowerExpansion.Taylor3D object at 0x7f6669cb3160>],\n",
       "      dtype=object)"
      ]
     },
     "execution_count": 76,
     "metadata": {},
     "output_type": "execute_result"
    }
   ],
   "source": [
    "symmrates = np.array([1,2,3])\n",
    "symmrates*Taylor(c)"
   ]
  },
  {
   "cell_type": "code",
   "execution_count": null,
   "metadata": {},
   "outputs": [],
   "source": []
  }
 ],
 "metadata": {
  "kernelspec": {
   "display_name": "Python 3",
   "language": "python",
   "name": "python3"
  },
  "language_info": {
   "codemirror_mode": {
    "name": "ipython",
    "version": 3
   },
   "file_extension": ".py",
   "mimetype": "text/x-python",
   "name": "python",
   "nbconvert_exporter": "python",
   "pygments_lexer": "ipython3",
   "version": "3.5.2"
  }
 },
 "nbformat": 4,
 "nbformat_minor": 2
}
