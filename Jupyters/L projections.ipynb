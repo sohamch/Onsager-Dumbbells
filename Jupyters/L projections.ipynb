{
 "cells": [
  {
   "cell_type": "code",
   "execution_count": 1,
   "metadata": {},
   "outputs": [],
   "source": [
    "import numpy as np\n",
    "import onsager.PowerExpansion as PE"
   ]
  },
  {
   "cell_type": "code",
   "execution_count": 17,
   "metadata": {},
   "outputs": [],
   "source": [
    "t3d = PE.Taylor3D()"
   ]
  },
  {
   "cell_type": "code",
   "execution_count": 19,
   "metadata": {},
   "outputs": [
    {
     "data": {
      "text/plain": [
       "array([[ 0, -1, -1, -1, -1, -1, -1, -1, -1],\n",
       "       [ 2,  3, -1, -1, -1, -1, -1, -1,  1],\n",
       "       [ 6,  7,  8, -1, -1, -1, -1,  4,  5],\n",
       "       [12, 13, 14, 15, -1, -1,  9, 10, 11],\n",
       "       [20, 21, 22, 23, 24, 16, 17, 18, 19]])"
      ]
     },
     "execution_count": 19,
     "metadata": {},
     "output_type": "execute_result"
    }
   ],
   "source": [
    "t3d.Ylm2ind"
   ]
  },
  {
   "cell_type": "code",
   "execution_count": 112,
   "metadata": {},
   "outputs": [],
   "source": [
    "projLylm=np.zeros((t3d.Lmax+2,t3d.NYlm,t3d.NYlm),dtype=complex)"
   ]
  },
  {
   "cell_type": "code",
   "execution_count": 113,
   "metadata": {},
   "outputs": [],
   "source": [
    "for l,m in ((l,m)for l in range(t3d.Lmax+1)for m in range(-l,l+1)):\n",
    "    lm = t3d.Ylm2ind[l,m]\n",
    "    projLylm[l,lm,lm] = 1\n",
    "    projLylm[-1,lm,lm] = 1"
   ]
  },
  {
   "cell_type": "code",
   "execution_count": 114,
   "metadata": {},
   "outputs": [
    {
     "data": {
      "text/plain": [
       "(25, 25)"
      ]
     },
     "execution_count": 114,
     "metadata": {},
     "output_type": "execute_result"
    }
   ],
   "source": [
    "projLylm[2].shape"
   ]
  },
  {
   "cell_type": "code",
   "execution_count": 115,
   "metadata": {},
   "outputs": [
    {
     "name": "stdout",
     "output_type": "stream",
     "text": [
      "[1. 3. 5. 7. 9.]\n"
     ]
    }
   ],
   "source": [
    "#Now we check that the number of 1+0js on the diagonals is correct.\n",
    "#For l=2, there should be 5. In general there should be 2l+1\n",
    "counts = np.zeros(t3d.Lmax+1)\n",
    "for l in range(t3d.Lmax+1):\n",
    "    for i in range(25):\n",
    "        if projLylm[l,i,i] == 1+0j:\n",
    "            counts[l]+=1\n",
    "print(counts)"
   ]
  },
  {
   "cell_type": "code",
   "execution_count": 116,
   "metadata": {},
   "outputs": [
    {
     "data": {
      "text/plain": [
       "True"
      ]
     },
     "execution_count": 116,
     "metadata": {},
     "output_type": "execute_result"
    }
   ],
   "source": [
    "#now, we work out the inner tensordot, for say l=2\n",
    "tdot = np.tensordot(projLylm[2],t3d.powYlm,axes=(1,1))\n",
    "tdot_test = np.zeros((projLylm[2].shape[0],t3d.powYlm.shape[0]),dtype=complex) #th surviving axes\n",
    "for i in range(projLylm[2].shape[0]):#We eliminate axis 1\n",
    "    for j in range(t3d.powYlm.shape[0]):#We eliminate axis 1\n",
    "        for k in range(t3d.powYlm.shape[1]):\n",
    "            tdot_test[i,j] += projLylm[2][i,k]*t3d.powYlm[j,k]\n",
    "np.allclose(tdot,tdot_test)"
   ]
  },
  {
   "cell_type": "code",
   "execution_count": 117,
   "metadata": {},
   "outputs": [],
   "source": [
    "#Now, let us do the same thing for all ls\n",
    "tdot_test = np.zeros((t3d.Lmax+2,t3d.NYlm,t3d.powYlm.shape[0]),dtype=complex) #th surviving axes\n",
    "for l in range(t3d.Lmax+2):\n",
    "    for i in range(projLylm[l].shape[0]):#We eliminate axis 1\n",
    "        for j in range(t3d.powYlm.shape[0]):#We eliminate axis 1\n",
    "            for k in range(t3d.powYlm.shape[1]):\n",
    "                tdot_test[l][i,j] += projLylm[l][i,k]*t3d.powYlm[j,k]"
   ]
  },
  {
   "cell_type": "code",
   "execution_count": 118,
   "metadata": {},
   "outputs": [
    {
     "data": {
      "text/plain": [
       "(3.5449077018110318+0j)"
      ]
     },
     "execution_count": 118,
     "metadata": {},
     "output_type": "execute_result"
    }
   ],
   "source": [
    "tdot_test[0][0][0]"
   ]
  },
  {
   "cell_type": "code",
   "execution_count": 119,
   "metadata": {},
   "outputs": [
    {
     "data": {
      "text/plain": [
       "array([1.+0.j, 0.+0.j, 0.+0.j, 0.+0.j, 0.+0.j, 0.+0.j, 0.+0.j, 0.+0.j,\n",
       "       0.+0.j, 0.+0.j, 0.+0.j, 0.+0.j, 0.+0.j, 0.+0.j, 0.+0.j, 0.+0.j,\n",
       "       0.+0.j, 0.+0.j, 0.+0.j, 0.+0.j, 0.+0.j, 0.+0.j, 0.+0.j, 0.+0.j,\n",
       "       0.+0.j])"
      ]
     },
     "execution_count": 119,
     "metadata": {},
     "output_type": "execute_result"
    }
   ],
   "source": [
    "projLylm[0][0]"
   ]
  },
  {
   "cell_type": "code",
   "execution_count": 120,
   "metadata": {},
   "outputs": [
    {
     "data": {
      "text/plain": [
       "array([0, 0, 3])"
      ]
     },
     "execution_count": 120,
     "metadata": {},
     "output_type": "execute_result"
    }
   ],
   "source": [
    "t3d.ind2pow[10]"
   ]
  },
  {
   "cell_type": "code",
   "execution_count": 121,
   "metadata": {
    "scrolled": true
   },
   "outputs": [
    {
     "name": "stdout",
     "output_type": "stream",
     "text": [
      "0 0j\n",
      "1 0j\n",
      "2 (1.2279920495357857+0j)\n",
      "3 0j\n",
      "4 0j\n",
      "5 0j\n",
      "6 0j\n",
      "7 0j\n",
      "8 0j\n",
      "9 0j\n",
      "10 0j\n",
      "11 0j\n",
      "12 (0.5359396685525429+0j)\n",
      "13 0j\n",
      "14 0j\n",
      "15 0j\n",
      "16 0j\n",
      "17 0j\n",
      "18 0j\n",
      "19 0j\n",
      "20 0j\n",
      "21 0j\n",
      "22 0j\n",
      "23 0j\n",
      "24 0j\n"
     ]
    }
   ],
   "source": [
    "for i,j in enumerate(t3d.powYlm[10]):\n",
    "    print(i,j)"
   ]
  },
  {
   "cell_type": "code",
   "execution_count": 122,
   "metadata": {},
   "outputs": [
    {
     "data": {
      "text/plain": [
       "(array([1, 0]), array([3, 0]))"
      ]
     },
     "execution_count": 122,
     "metadata": {},
     "output_type": "execute_result"
    }
   ],
   "source": [
    "t3d.ind2Ylm[2],t3d.ind2Ylm[12]"
   ]
  },
  {
   "cell_type": "code",
   "execution_count": 123,
   "metadata": {
    "scrolled": true
   },
   "outputs": [
    {
     "name": "stdout",
     "output_type": "stream",
     "text": [
      "0 0j\n",
      "1 0j\n",
      "2 0j\n",
      "3 0j\n",
      "4 0j\n",
      "5 0j\n",
      "6 0j\n",
      "7 0j\n",
      "8 0j\n",
      "9 (1+0j)\n",
      "10 (1+0j)\n",
      "11 (1+0j)\n",
      "12 (1+0j)\n",
      "13 (1+0j)\n",
      "14 (1+0j)\n",
      "15 (1+0j)\n",
      "16 0j\n",
      "17 0j\n",
      "18 0j\n",
      "19 0j\n",
      "20 0j\n",
      "21 0j\n",
      "22 0j\n",
      "23 0j\n",
      "24 0j\n"
     ]
    }
   ],
   "source": [
    "for i in range(25):\n",
    "    print(i,projLylm[3][i,i])"
   ]
  },
  {
   "cell_type": "code",
   "execution_count": 124,
   "metadata": {},
   "outputs": [
    {
     "data": {
      "text/plain": [
       "(0.5359396685525429+0j)"
      ]
     },
     "execution_count": 124,
     "metadata": {},
     "output_type": "execute_result"
    }
   ],
   "source": [
    "tdot_test[3][12][10]"
   ]
  },
  {
   "cell_type": "code",
   "execution_count": 125,
   "metadata": {},
   "outputs": [],
   "source": [
    "#So, the inner tensor product, tdot[l][i][j] gives the contribution of the i_th [l,m] combination in ind2Ylm,\n",
    "#to the expansion of the j_th (n0+n1+n2=l) combination in ind2pow"
   ]
  },
  {
   "cell_type": "code",
   "execution_count": 126,
   "metadata": {},
   "outputs": [],
   "source": [
    "#So, now let's do the outer tensor product\n",
    "projL = np.zeros((t3d.Lmax + 2, t3d.Npower, t3d.Npower))\n",
    "for l in range(t3d.Lmax+2):\n",
    "    projL[l]=np.tensordot(t3d.Ylmpow,tdot_test[l],axes=(0,0)).real"
   ]
  },
  {
   "cell_type": "code",
   "execution_count": 127,
   "metadata": {},
   "outputs": [
    {
     "data": {
      "text/plain": [
       "True"
      ]
     },
     "execution_count": 127,
     "metadata": {},
     "output_type": "execute_result"
    }
   ],
   "source": [
    "np.allclose(projL,t3d.Lproj)"
   ]
  },
  {
   "cell_type": "code",
   "execution_count": 130,
   "metadata": {},
   "outputs": [
    {
     "data": {
      "text/plain": [
       "((25, 35), (25, 35))"
      ]
     },
     "execution_count": 130,
     "metadata": {},
     "output_type": "execute_result"
    }
   ],
   "source": [
    "t3d.Ylmpow.shape,tdot_test[0].shape"
   ]
  },
  {
   "cell_type": "code",
   "execution_count": 137,
   "metadata": {},
   "outputs": [],
   "source": [
    "#We will be eliminating the 0th axes. So axes 1 survive.\n",
    "tdot_outer=np.zeros((t3d.Lmax+2,t3d.Npower,t3d.Npower))\n",
    "for l in range(t3d.Lmax+2):\n",
    "    for i in range(t3d.Ylmpow.shape[1]):#the surviving axes of the first arguments of the tensordot\n",
    "        for j in range(tdot_test[l].shape[1]):\n",
    "            for k in range(tdot_test[l].shape[0]):\n",
    "                tdot_outer[l][i,j] += (t3d.Ylmpow[k,i]*tdot_test[l][k,j]).real\n",
    "        "
   ]
  },
  {
   "cell_type": "code",
   "execution_count": 138,
   "metadata": {},
   "outputs": [
    {
     "data": {
      "text/plain": [
       "True"
      ]
     },
     "execution_count": 138,
     "metadata": {},
     "output_type": "execute_result"
    }
   ],
   "source": [
    "np.allclose(t3d.Lproj,tdot_outer.real)"
   ]
  },
  {
   "cell_type": "code",
   "execution_count": 139,
   "metadata": {},
   "outputs": [
    {
     "data": {
      "text/plain": [
       "(6, 35, 35)"
      ]
     },
     "execution_count": 139,
     "metadata": {},
     "output_type": "execute_result"
    }
   ],
   "source": [
    "tdot_outer.shape"
   ]
  },
  {
   "cell_type": "code",
   "execution_count": 140,
   "metadata": {},
   "outputs": [
    {
     "data": {
      "text/plain": [
       "(6, 35, 35)"
      ]
     },
     "execution_count": 140,
     "metadata": {},
     "output_type": "execute_result"
    }
   ],
   "source": [
    "t3d.Lproj.shape"
   ]
  },
  {
   "cell_type": "code",
   "execution_count": null,
   "metadata": {},
   "outputs": [],
   "source": []
  }
 ],
 "metadata": {
  "kernelspec": {
   "display_name": "Python 3",
   "language": "python",
   "name": "python3"
  },
  "language_info": {
   "codemirror_mode": {
    "name": "ipython",
    "version": 3
   },
   "file_extension": ".py",
   "mimetype": "text/x-python",
   "name": "python",
   "nbconvert_exporter": "python",
   "pygments_lexer": "ipython3",
   "version": "3.5.2"
  }
 },
 "nbformat": 4,
 "nbformat_minor": 2
}
