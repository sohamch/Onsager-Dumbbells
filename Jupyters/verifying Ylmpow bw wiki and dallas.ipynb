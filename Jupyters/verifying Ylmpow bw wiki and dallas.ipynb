{
 "cells": [
  {
   "cell_type": "code",
   "execution_count": 11,
   "metadata": {},
   "outputs": [],
   "source": [
    "import numpy as np\n",
    "from scipy.misc import comb\n",
    "from scipy.special import factorial\n",
    "import onsager.PowerExpansion as PE"
   ]
  },
  {
   "cell_type": "code",
   "execution_count": 2,
   "metadata": {},
   "outputs": [],
   "source": [
    "Taylor = PE.Taylor3D"
   ]
  },
  {
   "cell_type": "code",
   "execution_count": 4,
   "metadata": {},
   "outputs": [],
   "source": [
    "T3d = Taylor()\n",
    "ylmp_onsager = Taylor.Ylmpow"
   ]
  },
  {
   "cell_type": "code",
   "execution_count": 6,
   "metadata": {},
   "outputs": [
    {
     "data": {
      "text/plain": [
       "(25, 35)"
      ]
     },
     "execution_count": 6,
     "metadata": {},
     "output_type": "execute_result"
    }
   ],
   "source": [
    "ylmp_onsager.shape"
   ]
  },
  {
   "cell_type": "code",
   "execution_count": 13,
   "metadata": {},
   "outputs": [],
   "source": [
    "ylmp_test = np.zeros((25,35),dtype=complex)"
   ]
  },
  {
   "cell_type": "code",
   "execution_count": 15,
   "metadata": {},
   "outputs": [
    {
     "name": "stderr",
     "output_type": "stream",
     "text": [
      "/usr/local/lib/python3.5/dist-packages/ipykernel_launcher.py:9: DeprecationWarning: `comb` is deprecated!\n",
      "Importing `comb` from scipy.misc is deprecated in scipy 1.0.0. Use `scipy.special.comb` instead.\n",
      "  if __name__ == '__main__':\n"
     ]
    }
   ],
   "source": [
    "Lmax=T3d.Lmax\n",
    "for l in range(Lmax+1):\n",
    "    #do the positive ms, then use conjugation relations\n",
    "    for m in range(l+1):\n",
    "        ind = T3d.Ylm2ind[l,m]\n",
    "        pre = (-1)**m*np.sqrt((2*l+1)*factorial(l-m,True)/(4*np.pi*factorial(l+m,True)))\n",
    "        #first the x,y part\n",
    "        for j in range(m+1):\n",
    "            xy = comb(m,j) #this will have x**j, y**(m-j)\n",
    "            #Then the zz part\n",
    "            for k in range((l-m)//2 + 1):\n",
    "                zz = (-1)**k*factorial(2*l-2*k,True)/(2**l*factorial(k,True)*factorial(l-k,True)*factorial(l-2*k-m,True))\n",
    "                ylmp_test[ind,T3d.pow2ind[j,m-j,l-2*k-m]] = pre*zz*xy*(1j)**(m-j)\n",
    "    #now the negative m values using conjugation relationship\n",
    "    for m in range(-m,0):\n",
    "        ind=T3d.Ylm2ind[l,m]\n",
    "        indpos = T3d.Ylm2ind[l,-m]\n",
    "        for p in range(T3d.Npower): #i.,e all power combinations of x,y,z\n",
    "            ylmp_test[ind,p] = (-1)**(-m) * ylmp_test[indpos,p].conjugate()"
   ]
  },
  {
   "cell_type": "code",
   "execution_count": 16,
   "metadata": {},
   "outputs": [
    {
     "data": {
      "text/plain": [
       "True"
      ]
     },
     "execution_count": 16,
     "metadata": {},
     "output_type": "execute_result"
    }
   ],
   "source": [
    "np.allclose(T3d.Ylmpow,ylmp_test)"
   ]
  },
  {
   "cell_type": "code",
   "execution_count": null,
   "metadata": {},
   "outputs": [],
   "source": []
  }
 ],
 "metadata": {
  "kernelspec": {
   "display_name": "Python 3",
   "language": "python",
   "name": "python3"
  },
  "language_info": {
   "codemirror_mode": {
    "name": "ipython",
    "version": 3
   },
   "file_extension": ".py",
   "mimetype": "text/x-python",
   "name": "python",
   "nbconvert_exporter": "python",
   "pygments_lexer": "ipython3",
   "version": "3.5.2"
  }
 },
 "nbformat": 4,
 "nbformat_minor": 2
}
