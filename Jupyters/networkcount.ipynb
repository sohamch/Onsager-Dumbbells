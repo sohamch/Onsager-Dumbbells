{
 "cells": [
  {
   "cell_type": "code",
   "execution_count": 1,
   "metadata": {},
   "outputs": [],
   "source": [
    "import numpy as np"
   ]
  },
  {
   "cell_type": "code",
   "execution_count": 2,
   "metadata": {},
   "outputs": [
    {
     "data": {
      "text/plain": [
       "array([[False, False, False],\n",
       "       [False, False, False],\n",
       "       [False, False, False]])"
      ]
     },
     "execution_count": 2,
     "metadata": {},
     "output_type": "execute_result"
    }
   ],
   "source": [
    "jngraph = np.zeros((3,3),dtype=bool)\n",
    "jngraph"
   ]
  },
  {
   "cell_type": "code",
   "execution_count": 11,
   "metadata": {},
   "outputs": [
    {
     "data": {
      "text/plain": [
       "array([[False,  True, False],\n",
       "       [ True, False, False],\n",
       "       [False, False, False]])"
      ]
     },
     "execution_count": 11,
     "metadata": {},
     "output_type": "execute_result"
    }
   ],
   "source": [
    "jngraph[0,1]=True\n",
    "jngraph[1,0]=True\n",
    "jngraph[0,2]=False\n",
    "jngraph[2,0]=False\n",
    "jngraph\n",
    "#Work out what the connectivity should be?"
   ]
  },
  {
   "cell_type": "code",
   "execution_count": 12,
   "metadata": {},
   "outputs": [
    {
     "name": "stdout",
     "output_type": "stream",
     "text": [
      "{0, 1, 2}\n",
      "set()\n"
     ]
    }
   ],
   "source": [
    "connectivity = 0\n",
    "disconnected = {i for i in range(3)}#this is a set.\n",
    "#If a certain site is found to be connected to some other site, it will be removed from this site.\n",
    "#Note that in a real jumpnetwork, the diagonal elements of jngraph will be false, since we don't calculate those jumps.\n",
    "print(disconnected)\n",
    "while len(disconnected)>0:\n",
    "    # take the \"first\" element out, and find everything it's connected to:\n",
    "    i = min(disconnected)\n",
    "    cset = {i}\n",
    "    disconnected.remove(i)\n",
    "    while True:\n",
    "        clen = len(cset)\n",
    "        for n in cset.copy():\n",
    "            for m in disconnected.copy():\n",
    "                if jngraph[n,m]:#Are the two sites connected by a jump?\n",
    "                    cset.add(m)\n",
    "                    disconnected.remove(m)\n",
    "        # check if we've stopped adding new members:\n",
    "        if clen == len(cset): break\n",
    "    connectivity += 1\n",
    "print(disconnected)"
   ]
  },
  {
   "cell_type": "code",
   "execution_count": 13,
   "metadata": {},
   "outputs": [
    {
     "data": {
      "text/plain": [
       "2"
      ]
     },
     "execution_count": 13,
     "metadata": {},
     "output_type": "execute_result"
    }
   ],
   "source": [
    "connectivity"
   ]
  },
  {
   "cell_type": "code",
   "execution_count": 13,
   "metadata": {},
   "outputs": [
    {
     "data": {
      "text/plain": [
       "array([[False,  True, False],\n",
       "       [ True, False, False],\n",
       "       [False, False, False]])"
      ]
     },
     "execution_count": 13,
     "metadata": {},
     "output_type": "execute_result"
    }
   ],
   "source": [
    "#Now make two and three absolutely disconnected, i.e, disconnect 1 from 3.\n",
    "#So now, we will have 1-2 connected. 3 on it's own. So connectivity should be 2.\n",
    "jngraph[0,2]=False\n",
    "jngraph[2,0]=False\n",
    "jngraph"
   ]
  },
  {
   "cell_type": "code",
   "execution_count": 14,
   "metadata": {},
   "outputs": [],
   "source": [
    "connectivity = 0\n",
    "disconnected = {i for i in range(3)}#this is a set.\n",
    "while len(disconnected)>0:\n",
    "    # take the \"first\" element out, and find everything it's connected to:\n",
    "    i = min(disconnected)\n",
    "    cset = {i}\n",
    "    disconnected.remove(i)\n",
    "    while True:\n",
    "        clen = len(cset)\n",
    "        for n in cset.copy():\n",
    "            for m in disconnected.copy():\n",
    "                if jngraph[n,m]:\n",
    "                    cset.add(m)\n",
    "                    disconnected.remove(m)\n",
    "        # check if we've stopped adding new members:\n",
    "        if clen == len(cset): break\n",
    "    connectivity += 1"
   ]
  },
  {
   "cell_type": "code",
   "execution_count": 15,
   "metadata": {},
   "outputs": [
    {
     "data": {
      "text/plain": [
       "2"
      ]
     },
     "execution_count": 15,
     "metadata": {},
     "output_type": "execute_result"
    }
   ],
   "source": [
    "connectivity"
   ]
  },
  {
   "cell_type": "code",
   "execution_count": 16,
   "metadata": {},
   "outputs": [],
   "source": [
    "import onsager.crystal as crystal"
   ]
  },
  {
   "cell_type": "code",
   "execution_count": 17,
   "metadata": {},
   "outputs": [],
   "source": [
    "FCC = crystal.Crystal.FCC(1.)"
   ]
  },
  {
   "cell_type": "code",
   "execution_count": 18,
   "metadata": {},
   "outputs": [
    {
     "data": {
      "text/plain": [
       "Crystal(array([[0. , 0.5, 0.5],       [0.5, 0. , 0.5],       [0.5, 0.5, 0. ]]),[[array([0., 0., 0.])]], spins=None, chemistry=['0'])"
      ]
     },
     "execution_count": 18,
     "metadata": {},
     "output_type": "execute_result"
    }
   ],
   "source": [
    "FCC"
   ]
  },
  {
   "cell_type": "code",
   "execution_count": null,
   "metadata": {},
   "outputs": [],
   "source": []
  }
 ],
 "metadata": {
  "kernelspec": {
   "display_name": "Python 3",
   "language": "python",
   "name": "python3"
  },
  "language_info": {
   "codemirror_mode": {
    "name": "ipython",
    "version": 3
   },
   "file_extension": ".py",
   "mimetype": "text/x-python",
   "name": "python",
   "nbconvert_exporter": "python",
   "pygments_lexer": "ipython3",
   "version": "3.5.2"
  }
 },
 "nbformat": 4,
 "nbformat_minor": 2
}
