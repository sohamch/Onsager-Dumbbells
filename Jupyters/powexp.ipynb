{
 "cells": [
  {
   "cell_type": "code",
   "execution_count": 1,
   "metadata": {},
   "outputs": [],
   "source": [
    "import numpy as np\n",
    "from scipy.special import factorial"
   ]
  },
  {
   "cell_type": "code",
   "execution_count": 2,
   "metadata": {},
   "outputs": [],
   "source": [
    "#important things from makepowylm\n",
    "Lmax=4\n",
    "NYlm = (Lmax + 1) ** 2 #No. of spherical harmonics basis functions upto l=Lmax\n",
    "Npower = NYlm + ((Lmax + 1) * Lmax * (Lmax - 1)) // 6 #no of terms in a homogeneous polynomial of order Lmax\n",
    "pow2ind = -np.ones((Lmax + 1, Lmax + 1, Lmax + 1), dtype=int)\n",
    "ind2pow = np.zeros((Npower, 3), dtype=int)\n",
    "powlrange = np.zeros(Lmax + 2, dtype=int)\n",
    "powlrange[-1] = 0\n",
    "ind=0\n",
    "for l in range(Lmax + 1):\n",
    "    for n1 in range(l + 1):\n",
    "        for n2 in range(l + 1 - n1):\n",
    "            n3 = l - n1 - n2\n",
    "            pow2ind[n1, n2, n3] = ind\n",
    "            ind2pow[ind, 0], ind2pow[ind, 1], ind2pow[ind, 2] = n1, n2, n3\n",
    "            ind += 1\n",
    "    powlrange[l] = ind"
   ]
  },
  {
   "cell_type": "code",
   "execution_count": 14,
   "metadata": {},
   "outputs": [
    {
     "data": {
      "text/plain": [
       "array([[0, 0, 0],\n",
       "       [0, 0, 1],\n",
       "       [0, 1, 0],\n",
       "       [1, 0, 0],\n",
       "       [0, 0, 2],\n",
       "       [0, 1, 1],\n",
       "       [0, 2, 0],\n",
       "       [1, 0, 1],\n",
       "       [1, 1, 0],\n",
       "       [2, 0, 0],\n",
       "       [0, 0, 3],\n",
       "       [0, 1, 2],\n",
       "       [0, 2, 1],\n",
       "       [0, 3, 0],\n",
       "       [1, 0, 2],\n",
       "       [1, 1, 1],\n",
       "       [1, 2, 0],\n",
       "       [2, 0, 1],\n",
       "       [2, 1, 0],\n",
       "       [3, 0, 0],\n",
       "       [0, 0, 4],\n",
       "       [0, 1, 3],\n",
       "       [0, 2, 2],\n",
       "       [0, 3, 1],\n",
       "       [0, 4, 0],\n",
       "       [1, 0, 3],\n",
       "       [1, 1, 2],\n",
       "       [1, 2, 1],\n",
       "       [1, 3, 0],\n",
       "       [2, 0, 2],\n",
       "       [2, 1, 1],\n",
       "       [2, 2, 0],\n",
       "       [3, 0, 1],\n",
       "       [3, 1, 0],\n",
       "       [4, 0, 0]])"
      ]
     },
     "execution_count": 14,
     "metadata": {},
     "output_type": "execute_result"
    }
   ],
   "source": [
    "ind2pow"
   ]
  },
  {
   "cell_type": "code",
   "execution_count": 3,
   "metadata": {},
   "outputs": [
    {
     "name": "stdout",
     "output_type": "stream",
     "text": [
      "[1.     0.9    0.7    0.3    0.81   0.63   0.49   0.27   0.21   0.09\n",
      " 0.729  0.567  0.441  0.343  0.243  0.189  0.147  0.081  0.063  0.027\n",
      " 0.6561 0.5103 0.3969 0.3087 0.2401 0.2187 0.1701 0.1323 0.1029 0.0729\n",
      " 0.0567 0.0441 0.0243 0.0189 0.0081]\n"
     ]
    }
   ],
   "source": [
    "#powexp - simple multiplication\n",
    "u = [0.3,0.7,0.9]\n",
    "upow = np.zeros(Npower)\n",
    "for n0 in range(Lmax+1):\n",
    "    for n1 in range(Lmax+1):\n",
    "        for n2 in range(Lmax+1):\n",
    "            if n0+n1+n2<=Lmax:\n",
    "                upow[pow2ind[n0,n1,n2]] = (u[0]**n0)*(u[1]**n1)*(u[2]**n2)\n",
    "print(upow)"
   ]
  },
  {
   "cell_type": "code",
   "execution_count": 5,
   "metadata": {},
   "outputs": [
    {
     "name": "stdout",
     "output_type": "stream",
     "text": [
      "[1.     0.9    0.7    0.3    0.81   0.63   0.49   0.27   0.21   0.09\n",
      " 0.729  0.567  0.441  0.343  0.243  0.189  0.147  0.081  0.063  0.027\n",
      " 0.6561 0.5103 0.3969 0.3087 0.2401 0.2187 0.1701 0.1323 0.1029 0.0729\n",
      " 0.0567 0.0441 0.0243 0.0189 0.0081]\n"
     ]
    }
   ],
   "source": [
    "#Now how it is in the code\n",
    "xyz = np.ones((Lmax + 1, 3))\n",
    "for n in range(1, Lmax + 1):\n",
    "    xyz[n, :] = xyz[n - 1, :] * u[:] #starting from index 1, the row j of xyz represent\n",
    "    #the components of u0 raised to the jth power\n",
    "for n0, n1, n2 in ((n0, n1, n2) for n0 in range(Lmax + 1)\n",
    "                   for n1 in range(Lmax + 1)\n",
    "                   for n2 in range(Lmax + 1)\n",
    "                   if n0 + n1 + n2 <= Lmax):\n",
    "    upow[pow2ind[n0, n1, n2]] = xyz[n0, 0] * xyz[n1, 1] * xyz[n2, 2]\n",
    "print(upow)"
   ]
  },
  {
   "cell_type": "code",
   "execution_count": 9,
   "metadata": {},
   "outputs": [],
   "source": [
    "upow=[]\n",
    "upow.append(1)\n",
    "for l in ind2pow[1:]:\n",
    "    upow.append(u[0]**l[0]*u[1]**l[1]*u[2]**l[2])\n",
    "upow=np.array(upow)"
   ]
  },
  {
   "cell_type": "code",
   "execution_count": 12,
   "metadata": {},
   "outputs": [
    {
     "name": "stdout",
     "output_type": "stream",
     "text": [
      "[1.     0.9    0.7    0.3    0.81   0.63   0.49   0.27   0.21   0.09\n",
      " 0.729  0.567  0.441  0.343  0.243  0.189  0.147  0.081  0.063  0.027\n",
      " 0.6561 0.5103 0.3969 0.3087 0.2401 0.2187 0.1701 0.1323 0.1029 0.0729\n",
      " 0.0567 0.0441 0.0243 0.0189 0.0081]\n"
     ]
    }
   ],
   "source": [
    "print(upow)"
   ]
  },
  {
   "cell_type": "code",
   "execution_count": 16,
   "metadata": {},
   "outputs": [
    {
     "data": {
      "text/plain": [
       "array([ 2,  6, 15, 40])"
      ]
     },
     "execution_count": 16,
     "metadata": {},
     "output_type": "execute_result"
    }
   ],
   "source": [
    "a=np.array([1,2,3,4])\n",
    "b=np.array([2,3,5,10])\n",
    "a*b"
   ]
  },
  {
   "cell_type": "code",
   "execution_count": 18,
   "metadata": {},
   "outputs": [],
   "source": [
    "pre = np.array([(1j) ** n / factorial(n, True) for n in range(Lmax + 1)])"
   ]
  },
  {
   "cell_type": "code",
   "execution_count": null,
   "metadata": {},
   "outputs": [],
   "source": []
  }
 ],
 "metadata": {
  "kernelspec": {
   "display_name": "Python 3",
   "language": "python",
   "name": "python3"
  },
  "language_info": {
   "codemirror_mode": {
    "name": "ipython",
    "version": 3
   },
   "file_extension": ".py",
   "mimetype": "text/x-python",
   "name": "python",
   "nbconvert_exporter": "python",
   "pygments_lexer": "ipython3",
   "version": "3.5.2"
  }
 },
 "nbformat": 4,
 "nbformat_minor": 2
}
