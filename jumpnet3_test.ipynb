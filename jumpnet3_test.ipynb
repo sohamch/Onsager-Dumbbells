{
 "cells": [
  {
   "cell_type": "code",
   "execution_count": 13,
   "metadata": {},
   "outputs": [],
   "source": [
    "import numpy as np\n",
    "import onsager.crystal as crystal\n",
    "from gensets import *\n",
    "from test_structs import *\n",
    "from states import *\n",
    "from representations import *\n",
    "from jumpnet3 import *\n",
    "import matplotlib.pyplot as plt"
   ]
  },
  {
   "cell_type": "code",
   "execution_count": 2,
   "metadata": {},
   "outputs": [],
   "source": [
    "famp0 = [np.array([1.,0.,0.])/np.linalg.norm(np.array([1.,0.,0.]))*0.126]\n",
    "family = [famp0]\n",
    "pairs_pure = genpuresets(Fe_bcc,0,family)"
   ]
  },
  {
   "cell_type": "code",
   "execution_count": 3,
   "metadata": {},
   "outputs": [
    {
     "data": {
      "text/plain": [
       "[(0, array([0.   , 0.126, 0.   ])),\n",
       " (0, array([ 0.   ,  0.   , -0.126])),\n",
       " (0, array([-0.126,  0.   ,  0.   ]))]"
      ]
     },
     "execution_count": 3,
     "metadata": {},
     "output_type": "execute_result"
    }
   ],
   "source": [
    "pairs_pure"
   ]
  },
  {
   "cell_type": "code",
   "execution_count": 4,
   "metadata": {},
   "outputs": [
    {
     "name": "stdout",
     "output_type": "stream",
     "text": [
      "Entering main loop\n"
     ]
    }
   ],
   "source": [
    "jumplist = purejumps(Fe_bcc,0,pairs_pure,0.3,0.01,0.01)"
   ]
  },
  {
   "cell_type": "code",
   "execution_count": 5,
   "metadata": {},
   "outputs": [],
   "source": [
    "jlist=jumplist[0]"
   ]
  },
  {
   "cell_type": "code",
   "execution_count": 6,
   "metadata": {},
   "outputs": [
    {
     "data": {
      "text/plain": [
       "289"
      ]
     },
     "execution_count": 6,
     "metadata": {},
     "output_type": "execute_result"
    }
   ],
   "source": [
    "len(jlist)"
   ]
  },
  {
   "cell_type": "code",
   "execution_count": 8,
   "metadata": {},
   "outputs": [
    {
     "name": "stdout",
     "output_type": "stream",
     "text": [
      "Jump object:\n",
      "Initial state:\n",
      "\tdumbbell :basis index = 0, lattice vector = [0 0 0], orientation = [-0.126  0.     0.   ]\n",
      "Final state:\n",
      "\tdumbbell :basis index = 0, lattice vector = [0 1 0], orientation = [-0.126  0.     0.   ]\n",
      "Jumping from c = -1 to c= -1\n",
      "\n",
      "24\n"
     ]
    }
   ],
   "source": [
    "print(jlist[0][0])\n",
    "print(len(jlist[0]))"
   ]
  },
  {
   "cell_type": "code",
   "execution_count": 21,
   "metadata": {},
   "outputs": [],
   "source": [
    "tcheck = np.array(jumplist[1])*1000\n"
   ]
  },
  {
   "cell_type": "code",
   "execution_count": 22,
   "metadata": {},
   "outputs": [
    {
     "data": {
      "image/png": "[encoded data removed]",
      "text/plain": [
       "<Figure size 432x288 with 1 Axes>"
      ]
     },
     "metadata": {},
     "output_type": "display_data"
    }
   ],
   "source": [
    "plt.plot(tlen,tcheck)\n",
    "plt.show()"
   ]
  },
  {
   "cell_type": "code",
   "execution_count": 23,
   "metadata": {},
   "outputs": [
    {
     "data": {
      "text/plain": [
       "array([0.0269413 , 0.00619888, 0.00810623, 0.00596046, 0.01096725,\n",
       "       0.00596046, 0.00786781, 0.00500679, 0.00786781, 0.00619888,\n",
       "       0.00810623, 0.00619888, 0.00905991, 0.00596046, 0.00691414,\n",
       "       0.00596046, 0.00786781, 0.00596046, 0.00786781, 0.00619888,\n",
       "       0.00810623, 0.00596046, 0.00810623, 0.00619888, 0.00786781,\n",
       "       0.00596046, 0.00786781, 0.00500679, 0.00810623, 0.00596046,\n",
       "       0.00810623, 0.00596046, 0.00810623, 0.00596046, 0.00786781,\n",
       "       0.00596046, 0.00786781, 0.00596046, 0.00810623, 0.00500679,\n",
       "       0.00810623, 0.00619888, 0.00810623, 0.00596046, 0.00810623,\n",
       "       0.00596046, 0.00786781, 0.00596046, 0.00810623, 0.00596046,\n",
       "       0.00786781, 0.00596046, 0.00882149, 0.00810623, 0.00810623,\n",
       "       0.00691414, 0.0140667 , 0.00691414, 0.01001358, 0.00691414,\n",
       "       0.00905991, 0.00596046, 0.00786781, 0.00596046, 0.00786781,\n",
       "       0.00715256, 0.00810623, 0.00596046, 0.00810623, 0.00596046,\n",
       "       0.00786781, 0.00596046, 0.00786781, 0.00715256, 0.00810623,\n",
       "       0.00691414, 0.00810623, 0.00500679, 0.00786781, 0.00596046,\n",
       "       0.00810623, 0.00596046, 0.00810623, 0.00500679, 0.00691414,\n",
       "       0.00596046, 0.00691414, 0.00596046, 0.00810623, 0.00596046,\n",
       "       0.00810623, 0.00596046, 0.00786781, 0.00715256, 0.00715256,\n",
       "       0.00619888, 0.00810623, 0.00596046, 0.00810623, 0.00500679,\n",
       "       0.00715256, 0.00691414, 0.00691414, 0.00596046, 0.00786781,\n",
       "       0.00596046, 0.00786781, 0.00596046, 0.00810623, 0.00619888,\n",
       "       0.00691414, 0.00596046, 0.00810623, 0.00596046, 0.00810623,\n",
       "       0.00596046, 0.00810623, 0.00500679, 0.00786781, 0.00500679,\n",
       "       0.00810623, 0.00596046, 0.00786781, 0.00596046, 0.00810623,\n",
       "       0.00596046, 0.00691414, 0.00500679, 0.00786781, 0.00619888,\n",
       "       0.00786781, 0.00619888, 0.00905991, 0.00596046, 0.0128746 ,\n",
       "       0.01001358, 0.01311302, 0.00691414, 0.00810623, 0.00596046,\n",
       "       0.00810623, 0.00596046, 0.00786781, 0.00596046, 0.00786781,\n",
       "       0.00596046, 0.00715256, 0.00619888, 0.00810623, 0.00596046,\n",
       "       0.00691414, 0.00596046, 0.00810623, 0.00619888, 0.00786781,\n",
       "       0.00596046, 0.00691414, 0.00596046, 0.00810623, 0.00619888,\n",
       "       0.00786781, 0.00596046, 0.00786781, 0.00596046, 0.00786781,\n",
       "       0.00691414, 0.00810623, 0.00596046, 0.00905991, 0.00596046,\n",
       "       0.00691414, 0.00596046, 0.00786781, 0.00596046, 0.00810623,\n",
       "       0.00619888, 0.00810623, 0.00691414, 0.00786781, 0.00596046,\n",
       "       0.00810623, 0.00596046, 0.00810623, 0.00500679, 0.00691414,\n",
       "       0.00596046, 0.00810623, 0.00619888, 0.00810623, 0.00596046,\n",
       "       0.00786781, 0.00596046, 0.00715256, 0.00596046, 0.00715256,\n",
       "       0.00500679, 0.00786781, 0.00596046, 0.00715256, 0.00596046,\n",
       "       0.00810623, 0.00619888, 0.00786781, 0.00596046, 0.00786781,\n",
       "       0.00596046, 0.00810623, 0.00500679, 0.00810623, 0.00691414,\n",
       "       0.00786781, 0.00596046, 0.00810623, 0.00596046, 0.00786781,\n",
       "       0.00596046, 0.00810623, 0.00619888, 0.00810623, 0.00500679,\n",
       "       0.00786781, 0.00596046, 0.00810623, 0.00619888, 0.00786781,\n",
       "       0.00596046, 0.00786781, 0.00500679, 0.00810623, 0.00619888,\n",
       "       0.00786781, 0.00596046, 0.00810623, 0.00619888, 0.00786781,\n",
       "       0.00596046, 0.00810623, 0.00596046, 0.00810623, 0.00596046,\n",
       "       0.00810623, 0.00500679, 0.00810623, 0.00500679, 0.00691414,\n",
       "       0.00596046, 0.00715256, 0.00619888, 0.00810623, 0.00596046,\n",
       "       0.00691414, 0.00500679, 0.00786781, 0.00691414, 0.00786781,\n",
       "       0.00691414, 0.00810623, 0.00715256, 0.00810623, 0.00810623,\n",
       "       0.00715256, 0.00691414, 0.00786781, 0.00810623, 0.00810623,\n",
       "       0.00596046, 0.00786781, 0.00500679, 0.00810623, 0.00596046,\n",
       "       0.00786781, 0.00596046, 0.00786781, 0.00596046, 0.00810623,\n",
       "       0.00500679, 0.00810623, 0.00619888, 0.00786781, 0.00619888,\n",
       "       0.00691414, 0.00619888, 0.00715256, 0.00596046, 0.00786781,\n",
       "       0.00596046, 0.00691414, 0.00596046, 0.00786781, 0.00596046,\n",
       "       0.00786781, 0.00500679, 0.00810623, 0.00596046, 0.00810623,\n",
       "       0.00596046, 0.00905991, 0.00596046, 0.00810623, 0.00619888,\n",
       "       0.00905991, 0.00596046, 0.00691414, 0.00596046, 0.00691414,\n",
       "       0.00596046, 0.00882149, 0.00691414, 0.00810623, 0.00619888,\n",
       "       0.00786781, 0.00500679, 0.01096725, 0.00596046, 0.00786781,\n",
       "       0.00596046, 0.00810623, 0.00596046, 0.00810623, 0.00596046,\n",
       "       0.00691414, 0.00596046, 0.00786781, 0.00619888, 0.00810623,\n",
       "       0.00500679, 0.00691414, 0.00596046, 0.00810623, 0.00596046,\n",
       "       0.00691414, 0.00596046, 0.00786781, 0.00500679, 0.00691414,\n",
       "       0.00596046, 0.00786781, 0.00596046, 0.00691414, 0.00619888,\n",
       "       0.00786781, 0.00596046, 0.00691414, 0.00596046, 0.00810623,\n",
       "       0.00500679, 0.00691414, 0.00596046, 0.00786781, 0.00596046,\n",
       "       0.00810623, 0.00715256, 0.00905991, 0.00596046, 0.00715256,\n",
       "       0.00691414, 0.00810623, 0.00596046, 0.00786781, 0.00596046,\n",
       "       0.00810623, 0.00596046, 0.00691414, 0.00596046, 0.00786781,\n",
       "       0.00596046, 0.00715256, 0.00500679, 0.00810623, 0.00810623,\n",
       "       0.00691414, 0.00810623, 0.00810623, 0.00596046, 0.00810623,\n",
       "       0.00596046, 0.00810623, 0.00596046, 0.00715256, 0.00596046,\n",
       "       0.00786781, 0.00596046, 0.00715256, 0.00619888, 0.00786781,\n",
       "       0.00596046, 0.01096725, 0.00715256, 0.00786781, 0.00596046,\n",
       "       0.00786781, 0.00596046, 0.00810623, 0.00691414, 0.00786781,\n",
       "       0.00596046, 0.00810623, 0.00500679, 0.00810623, 0.00500679,\n",
       "       0.00715256, 0.00596046, 0.00691414, 0.00596046, 0.00786781,\n",
       "       0.00500679, 0.00810623, 0.00476837, 0.00810623, 0.00691414,\n",
       "       0.00810623, 0.00596046, 0.00786781, 0.00500679, 0.00715256,\n",
       "       0.00596046, 0.00810623, 0.00596046, 0.00786781, 0.00500679,\n",
       "       0.00810623, 0.00596046, 0.00691414, 0.00596046, 0.00810623,\n",
       "       0.00596046, 0.00691414, 0.00596046, 0.00786781, 0.00715256,\n",
       "       0.00810623, 0.00619888, 0.00810623, 0.00619888, 0.00786781,\n",
       "       0.00596046, 0.00786781, 0.00596046, 0.00786781, 0.00596046,\n",
       "       0.00905991, 0.00500679, 0.00786781, 0.00596046, 0.00810623,\n",
       "       0.00596046, 0.00786781, 0.00500679, 0.00810623, 0.00596046,\n",
       "       0.00786781, 0.00619888, 0.0140667 , 0.00882149, 0.00810623,\n",
       "       0.00596046, 0.00810623, 0.00596046, 0.00715256, 0.00596046,\n",
       "       0.00786781, 0.00810623, 0.00691414, 0.00810623, 0.00786781,\n",
       "       0.00596046, 0.00810623, 0.00596046, 0.00786781, 0.00596046,\n",
       "       0.00786781, 0.00596046, 0.00786781, 0.00596046, 0.00691414,\n",
       "       0.00596046, 0.00786781, 0.00500679, 0.00786781, 0.00619888,\n",
       "       0.00810623, 0.00596046, 0.00691414, 0.00596046, 0.00810623,\n",
       "       0.00596046, 0.00691414, 0.00596046, 0.00905991, 0.00596046,\n",
       "       0.00786781, 0.00596046, 0.00786781, 0.00715256, 0.00905991,\n",
       "       0.00810623, 0.00905991, 0.00691414, 0.00691414, 0.00619888,\n",
       "       0.00786781, 0.00596046, 0.00715256, 0.00596046, 0.00810623,\n",
       "       0.00596046, 0.00786781, 0.00500679, 0.00691414, 0.00596046,\n",
       "       0.00786781, 0.00619888, 0.00810623, 0.00619888, 0.00810623,\n",
       "       0.00500679])"
      ]
     },
     "execution_count": 23,
     "metadata": {},
     "output_type": "execute_result"
    }
   ],
   "source": [
    "tcheck"
   ]
  },
  {
   "cell_type": "code",
   "execution_count": null,
   "metadata": {},
   "outputs": [],
   "source": []
  }
 ],
 "metadata": {
  "kernelspec": {
   "display_name": "Python 3",
   "language": "python",
   "name": "python3"
  },
  "language_info": {
   "codemirror_mode": {
    "name": "ipython",
    "version": 3
   },
   "file_extension": ".py",
   "mimetype": "text/x-python",
   "name": "python",
   "nbconvert_exporter": "python",
   "pygments_lexer": "ipython3",
   "version": "3.5.2"
  }
 },
 "nbformat": 4,
 "nbformat_minor": 2
}
