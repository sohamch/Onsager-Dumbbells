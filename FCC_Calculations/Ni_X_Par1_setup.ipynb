{
 "cells": [
  {
   "cell_type": "markdown",
   "metadata": {},
   "source": [
    "# Ni - X computations part 1\n",
    "\n",
    "## Setting up the Onsager Calculator"
   ]
  },
  {
   "cell_type": "code",
   "execution_count": 1,
   "metadata": {},
   "outputs": [],
   "source": [
    "import sys\n",
    "sys.path.append(\"../\")"
   ]
  },
  {
   "cell_type": "code",
   "execution_count": 2,
   "metadata": {},
   "outputs": [
    {
     "name": "stderr",
     "output_type": "stream",
     "text": [
      "/usr/local/lib/python3.6/dist-packages/onsager-1.3.3-py3.6.egg/onsager/cluster.py:835: NumbaDeprecationWarning: The 'numba.jitclass' decorator has moved to 'numba.experimental.jitclass' to better reflect the experimental nature of the functionality. Please update your imports to accommodate this change and see http://numba.pydata.org/numba-doc/latest/reference/deprecation.html#change-of-jitclass-location for the time frame.\n"
     ]
    }
   ],
   "source": [
    "import numpy as np\n",
    "from Onsager_calc_db import *\n",
    "import onsager.crystal as crystal\n",
    "from states import *\n",
    "from stars import *\n",
    "from vector_stars import *\n",
    "import time\n",
    "import pickle\n",
    "\n",
    "# Note - a deprecation warning may be printed, but it related to a cluster expansion code built into the\n",
    "# onsager code (Trinkle-2017, Trinkle-2018) and does not affect this extension of onsager for dumbbell\n",
    "# mediated diffusion."
   ]
  },
  {
   "cell_type": "code",
   "execution_count": 3,
   "metadata": {},
   "outputs": [
    {
     "name": "stdout",
     "output_type": "stream",
     "text": [
      "#Lattice:\n",
      "  a1 = [0.    0.176 0.176]\n",
      "  a2 = [0.176 0.    0.176]\n",
      "  a3 = [0.176 0.176 0.   ]\n",
      "#Basis:\n",
      "  (Ni) 0.0 = [0. 0. 0.]\n"
     ]
    }
   ],
   "source": [
    "# make FCC lattice - all length units we use are in nanometers.\n",
    "latt = np.array([[0., 0.5, 0.5], [0.5, 0., 0.5], [0.5, 0.5, 0.]]) * 0.352\n",
    "Ni = crystal.Crystal(latt, [[np.array([0., 0., 0.])]], [\"Ni\"])\n",
    "\n",
    "# Next, we set up the dumbbell containers.\n",
    "# The \"pdbcontainer\" and \"mdbcontainer\" objects (see states.py) contain all information regarding pure and\n",
    "# mixed dumbbells, including: The possible orientations (pdbcontainer.iorlist), the symmetry grouping\n",
    "# of the dumbbells (pdbcontainer.symorlist), the group operations between them, and functions to generate\n",
    "# pure and mixed dumbbell jump networks.\n",
    "\n",
    "# We set up orientation vectors along <100> directions.\n",
    "# Note that the orientation vector is a nominal vector. It helps in symmetry analysis and\n",
    "# identificiation of jump types, but atomic displacements are only considered site-to-site in the\n",
    "# transport coefficients. This simplification is allowed by the invariance principle of mass\n",
    "# transport (Trinkle, 2018).\n",
    "# To keep things somewhat physically relevant, we choose this orientation vector length to be the same\n",
    "# as the host atomic diameter (0.326 nm for Ni).\n",
    "o = np.array([1.,0.,0.])*0.163*2\n",
    "famp0 = [o.copy()]  # multiple orientation families can be set up if desired, but we need only one.\n",
    "family = [famp0]\n",
    "pdbcontainer_Ni = dbStates(Ni, 0, family)\n",
    "mdbcontainer_Ni = mStates(Ni, 0, family)\n",
    "\n",
    "# Calculate the omega0 and omega2 jump networks.\n",
    "# The inputs to both functions are as follows:\n",
    "# The first input - the cutoff site-to-site distance for dumbbell jumps to be considered. We set this up to\n",
    "# be the nearest neighbor distance.\n",
    "# The next two inputs are cutoff distances for solute-solvent atoms and solvent-solvent atoms, such that\n",
    "# if two atoms come within that distance of each other, then they are considered to collide (see collision.py)\n",
    "jset0, jset2 = pdbcontainer_Ni.jumpnetwork(0.25, 0.01, 0.01), mdbcontainer_Ni.jumpnetwork(0.25, 0.01, 0.01)\n",
    "print(Ni)"
   ]
  },
  {
   "cell_type": "code",
   "execution_count": 4,
   "metadata": {},
   "outputs": [
    {
     "data": {
      "text/plain": [
       "[4, 10]"
      ]
     },
     "execution_count": 4,
     "metadata": {},
     "output_type": "execute_result"
    }
   ],
   "source": [
    "# Modify jnet0\n",
    "jnet0 = jset0[0]\n",
    "# These contain jumps in the form of jump objects\n",
    "\n",
    "jnet0_indexed = jset0[1] \n",
    "# These contain jumps in the form of ((i, j), dx) where \"i\" is the index assigned to the initial dumbbell state\n",
    "# and j is the index assigned to the final dumbbell state.\n",
    "\n",
    "# The 90-degree roto-translation jump is the jump that has the shortest total atomic dispalcements.\n",
    "# Let's try to sort the jumps accordingly.\n",
    "\n",
    "# We first get rid of the rotation jumps\n",
    "z = np.zeros(3)\n",
    "indices = []\n",
    "for jt, jlist in enumerate(jnet0):\n",
    "    \n",
    "    # We'll skip on-site rotations for now and add them later\n",
    "    if np.allclose(jnet0_indexed[jt][0][1], z):\n",
    "        continue\n",
    "    indices.append(jt)\n",
    "    \n",
    "def sortkey(entry):\n",
    "    jmp = jnet0[entry][0]\n",
    "    # Get the initial orientation vector.\n",
    "    or1 = pdbcontainer_Ni.iorlist[jmp.state1.iorind][1]\n",
    "    \n",
    "    # Get the Final orientation vector.\n",
    "    or2 = pdbcontainer_Ni.iorlist[jmp.state2.iorind][1]\n",
    "    \n",
    "    # Get the site-to-site displacements\n",
    "    dx = disp(pdbcontainer_Ni, jmp.state1, jmp.state2)\n",
    "    \n",
    "    # Get the nominal displacements along orientation vectors, which are only used to sort the jumps.\n",
    "    # For the jump object, the quantity \"c1\" says whether the atom at the head (c1=1) or tail(c1=-1)\n",
    "    # of the orientation vector is executing the jump, while the quantity \"c2\" says whether the jumping atom\n",
    "    # ends up at the head (c2=1) or the tail (c2=-1) of the final orientation vector (see representations.py).\n",
    "    dx1 = np.linalg.norm(jmp.c1*or1/2.)\n",
    "    dx2 = np.linalg.norm(dx + jmp.c2*or2/2. - jmp.c1*or1/2.)\n",
    "    dx3 = np.linalg.norm(-jmp.c2*or2/2.)\n",
    "    return dx1+dx2+dx3  # return the total displacement of the atoms.\n",
    "\n",
    "# Sort the indices according to total displacements.\n",
    "ind_sort = sorted(indices, key=sortkey)\n",
    "#keep only the required index\n",
    "ind_sort = [ind_sort[0]]\n",
    "# Add in the rotations\n",
    "for jt, jlist in enumerate(jnet0):\n",
    "    if np.allclose(jnet0_indexed[jt][0][1], z):\n",
    "        ind_sort.append(jt)\n",
    "ind_sort"
   ]
  },
  {
   "cell_type": "code",
   "execution_count": 5,
   "metadata": {},
   "outputs": [
    {
     "name": "stdout",
     "output_type": "stream",
     "text": [
      "Jump object:\n",
      "Initial state:\n",
      "\tdumbbell : (i, or) index = 1, lattice vector = [0 0 0]\n",
      "Final state:\n",
      "\tdumbbell : (i, or) index = 0, lattice vector = [1 0 0]\n",
      "Jumping from c1 = 1 to c2 = -1\n",
      "\n",
      "Jump object:\n",
      "Initial state:\n",
      "\tdumbbell : (i, or) index = 1, lattice vector = [0 0 0]\n",
      "Final state:\n",
      "\tdumbbell : (i, or) index = 0, lattice vector = [0 0 0]\n",
      "Jumping from c1 = 1 to c2 = -1\n",
      "\n"
     ]
    }
   ],
   "source": [
    "# Let's check if we got the correct jump\n",
    "\n",
    "# For a dumbbell, the (i, or) indices (iorInd) correspond to (basis site, orientation vector) pairs.\n",
    "# The corresponding values can be found at onsagercalculator.pdbcontainer.iorlist, which we print out\n",
    "# in the next cell.\n",
    "\n",
    "print(jnet0[ind_sort[0]][0])\n",
    "print(jnet0[ind_sort[1]][0])"
   ]
  },
  {
   "cell_type": "code",
   "execution_count": 6,
   "metadata": {},
   "outputs": [
    {
     "data": {
      "text/plain": [
       "[(0, array([-1.13877191e-17, -1.13877191e-17,  3.26000000e-01])),\n",
       " (0, array([ 1.13877191e-17,  3.26000000e-01, -1.13877191e-17])),\n",
       " (0, array([-3.26000000e-01, -1.13877191e-17, -1.13877191e-17]))]"
      ]
     },
     "execution_count": 6,
     "metadata": {},
     "output_type": "execute_result"
    }
   ],
   "source": [
    "# Indices are assigned to dumbbell (basis index, orientation) pairs based on their order in the following list.\n",
    "\n",
    "pdbcontainer_Ni.iorlist"
   ]
  },
  {
   "cell_type": "code",
   "execution_count": 7,
   "metadata": {},
   "outputs": [],
   "source": [
    "# Remake the omega0 jump networks with the jumps that we require.\n",
    "jset0new = ([jnet0[i] for i in ind_sort], [jnet0_indexed[i] for i in ind_sort])"
   ]
  },
  {
   "cell_type": "code",
   "execution_count": 8,
   "metadata": {},
   "outputs": [
    {
     "name": "stdout",
     "output_type": "stream",
     "text": [
      "[0, 1, 2, 3, 4, 5, 6, 7, 8, 9]\n",
      "[9, 10]\n"
     ]
    }
   ],
   "source": [
    "# Now, we modify the mixed dumbbell jumpnetwork to also give the lowest displacement jump\n",
    "# Modify jnet2\n",
    "jnet2 = jset2[0]\n",
    "jnet2_indexed = jset2[1]\n",
    "# Let's try to sort the jumps according to closest distance\n",
    "# we don't want the rotational jumps as before.\n",
    "z = np.zeros(3)\n",
    "indices2 = []\n",
    "for jt, jlist in enumerate(jnet2):\n",
    "    if np.allclose(jnet2_indexed[jt][0][1], z):\n",
    "        continue\n",
    "    indices2.append(jt)    \n",
    "print(indices2)\n",
    "\n",
    "def sortkey2(entry):\n",
    "    jmp = jnet2[entry][0]\n",
    "    or1 = mdbcontainer_Ni.iorlist[jmp.state1.db.iorind][1]\n",
    "    or2 = mdbcontainer_Ni.iorlist[jmp.state2.db.iorind][1]\n",
    "    dx = disp(mdbcontainer_Ni, jmp.state1, jmp.state2)\n",
    "    # c1 and c2 are always +1 for mixed dumbbell jumps.\n",
    "    dx1 = np.linalg.norm(jmp.c1*or1/2.)\n",
    "    dx2 = np.linalg.norm(dx + jmp.c2*or2/2. - jmp.c1*or1/2.)\n",
    "    dx3 = np.linalg.norm(-jmp.c2*or2/2.)\n",
    "    return dx1+dx2+dx3\n",
    "\n",
    "ind_sort2 = sorted(indices2, key=sortkey2)\n",
    "ind_sort2 = [ind_sort2[0]]\n",
    "# Add in the rotations\n",
    "for jt, jlist in enumerate(jnet2):\n",
    "    if np.allclose(jnet2_indexed[jt][0][1], z):\n",
    "        ind_sort2.append(jt)\n",
    "print(ind_sort2)"
   ]
  },
  {
   "cell_type": "code",
   "execution_count": 9,
   "metadata": {},
   "outputs": [
    {
     "name": "stdout",
     "output_type": "stream",
     "text": [
      "Jump object:\n",
      "Initial state:\n",
      "\tSolute loctation:basis index = 0, lattice vector = [0 0 0]\n",
      "\tdumbbell : (i, or) index = 4, lattice vector = [0 0 0]\n",
      "Final state:\n",
      "\tSolute loctation :basis index = 0, lattice vector = [-1  0  1]\n",
      "\tdumbbell : (i, or) index = 0, lattice vector = [-1  0  1]\n",
      "Jumping from c1 = 1 to c2 = 1\n",
      "Jump object:\n",
      "Initial state:\n",
      "\tSolute loctation:basis index = 0, lattice vector = [0 0 0]\n",
      "\tdumbbell : (i, or) index = 2, lattice vector = [0 0 0]\n",
      "Final state:\n",
      "\tSolute loctation :basis index = 0, lattice vector = [0 0 0]\n",
      "\tdumbbell : (i, or) index = 0, lattice vector = [0 0 0]\n",
      "Jumping from c1 = 1 to c2 = 1\n"
     ]
    }
   ],
   "source": [
    "# check if we have the correct type of jump\n",
    "print(jnet2[ind_sort2[0]][0])\n",
    "print(jnet2[ind_sort2[1]][0])"
   ]
  },
  {
   "cell_type": "code",
   "execution_count": 10,
   "metadata": {},
   "outputs": [
    {
     "name": "stdout",
     "output_type": "stream",
     "text": [
      "(0, array([-1.13877191e-17, -1.13877191e-17,  3.26000000e-01]))\n",
      "(0, array([ 1.13877191e-17,  3.26000000e-01, -1.13877191e-17]))\n",
      "(0, array([-3.26000000e-01, -1.13877191e-17, -1.13877191e-17]))\n",
      "(0, array([ 1.13877191e-17,  1.13877191e-17, -3.26000000e-01]))\n",
      "(0, array([3.26000000e-01, 1.13877191e-17, 1.13877191e-17]))\n",
      "(0, array([-1.13877191e-17, -3.26000000e-01,  1.13877191e-17]))\n"
     ]
    }
   ],
   "source": [
    "for tup in mdbcontainer_Ni.iorlist:\n",
    "    print(tup)"
   ]
  },
  {
   "cell_type": "code",
   "execution_count": 11,
   "metadata": {},
   "outputs": [],
   "source": [
    "# Collect the jumps that we want\n",
    "jset2new = ([jnet2[i] for i in ind_sort2], [jnet2_indexed[i] for i in ind_sort2])"
   ]
  },
  {
   "cell_type": "code",
   "execution_count": 12,
   "metadata": {},
   "outputs": [
    {
     "name": "stdout",
     "output_type": "stream",
     "text": [
      "initializing thermo\n",
      "initializing kin\n",
      "initializing NN\n",
      "built shell 1: time - 0.012524604797363281\n",
      "built shell 2: time - 0.4074687957763672\n",
      "grouped states by symmetry: 0.7113573551177979\n",
      "built mixed dumbbell stars: 0.0003402233123779297\n",
      "built jtags2: 0.00037169456481933594\n",
      "built mixed indexed star: 0.001920461654663086\n",
      "building star2symlist : 6.67572021484375e-05\n",
      "building bare, mixed index dicts : 0.00013756752014160156\n",
      "2NN Shell initialization time: 1.8407313823699951\n",
      "\n",
      "generating thermodynamic shell\n",
      "built shell 1: time - 0.009063005447387695\n",
      "grouped states by symmetry: 0.10105681419372559\n",
      "built mixed dumbbell stars: 0.00020885467529296875\n",
      "built jtags2: 0.00028967857360839844\n",
      "built mixed indexed star: 0.0021250247955322266\n",
      "building star2symlist : 4.744529724121094e-05\n",
      "building bare, mixed index dicts : 0.00012612342834472656\n",
      "thermodynamic shell generated: 0.15960288047790527\n",
      "Total number of states in Thermodynamic Shell - 39, 6\n",
      "generating kinetic shell\n",
      "built shell 1: time - 0.00523066520690918\n",
      "built shell 2: time - 0.4070703983306885\n",
      "grouped states by symmetry: 0.7330007553100586\n",
      "built mixed dumbbell stars: 0.0002987384796142578\n",
      "built jtags2: 0.0002865791320800781\n",
      "built mixed indexed star: 0.0026018619537353516\n",
      "building star2symlist : 0.00015974044799804688\n",
      "building bare, mixed index dicts : 0.0002770423889160156\n",
      "Kinetic shell generated: 1.8460276126861572\n",
      "Total number of states in Kinetic Shell - 165, 6\n",
      "generating kinetic shell vector starset\n",
      "Kinetic shell vector starset generated: 0.9502079486846924\n",
      "Generating Jump networks\n",
      "building omega1\n",
      "built omega1 : time - 54.911012172698975\n",
      "building omega43\n",
      "built omega43 : time 1.2664759159088135\n",
      "Jump networks generated: 56.18559694290161\n",
      "building GF starsets\n",
      "\tComplex connections creation time: 10.331647872924805\n",
      "\tComplex connections symmetry grouping time: 2.626905918121338\n",
      "No. of pure dumbbell connections: 2781\n",
      "GF star sets built: 12.959848403930664\n",
      "Built Complex GF expansions: 9.899728536605835\n",
      "built GFstarsets: 22.87214732170105\n",
      "built rate expansions: 0.44228434562683105\n",
      "built bias expansions: 1.2300612926483154\n",
      "built outer product tensor:0.025571823120117188\n",
      "onsager calculator initiation time = 88.10384202003479\n"
     ]
    }
   ],
   "source": [
    "# Next, make an initial onsager calculator\n",
    "# All possible omega4-3 jumps will first be found, the cutoff distances of which are indicated as follows:\n",
    "# 0.25 : cutoff for site-to-site atomic displacement during omega4-3 jumps.\n",
    "# 0.01 : distance of closest approach during omega4-3 jumps. Input twice for solute-solute and solute-solvent\n",
    "# jumps.\n",
    "# Nthermo - the thermodynamic shell - one nearest neighbor in the present case.\n",
    "start = time.time()\n",
    "onsagercalculator = dumbbellMediated(pdbcontainer_Ni, mdbcontainer_Ni, jset0new, jset2new, 0.25,\n",
    "                                     0.01, 0.01, 0.01, NGFmax=4, Nthermo=1)\n",
    "print(\"onsager calculator initiation time = {}\".format(time.time() - start))"
   ]
  },
  {
   "cell_type": "code",
   "execution_count": 13,
   "metadata": {},
   "outputs": [
    {
     "name": "stdout",
     "output_type": "stream",
     "text": [
      "[0, 1, 2, 3, 4, 5, 6, 7, 8, 9, 10, 11, 12, 13]\n",
      "[8]\n"
     ]
    }
   ],
   "source": [
    "# Next, we get the omega43 jumps computed internally in the onsager calculator,\n",
    "# and extract the shortest displacement jumps in the same manner as the omega0 and omega2 jumps.\n",
    "jnet43 = onsagercalculator.jnet43\n",
    "jnet43_indexed = onsagercalculator.jnet43_indexed\n",
    "# Let's try to sort the jumps according to closest distance\n",
    "z = np.zeros(3)\n",
    "indices43 = []\n",
    "for jt, jlist in enumerate(jnet43):\n",
    "    if np.allclose(jnet43_indexed[jt][0][1], z):\n",
    "        continue\n",
    "    indices43.append(jt)    \n",
    "print(indices43)\n",
    "\n",
    "def sortkey43(entry):\n",
    "    jmp = jnet43[entry][0] # This is an omega4 jump\n",
    "    if not jmp.c2 == -1:\n",
    "        print(c2)\n",
    "    or1 = pdbcontainer_Ni.iorlist[jmp.state1.db.iorind][1]\n",
    "    or2 = mdbcontainer_Ni.iorlist[jmp.state2.db.iorind][1]\n",
    "    dx = disp4(pdbcontainer_Ni, mdbcontainer_Ni, jmp.state1, jmp.state2)\n",
    "    # remember that c2 is -1 for an omega4 jump\n",
    "    dx1 = np.linalg.norm(jmp.c1*or1/2.)\n",
    "    dx2 = np.linalg.norm(dx - or2/2. - jmp.c1*or1/2.)\n",
    "    dx3 = np.linalg.norm(jmp.c2*or2/2.)\n",
    "    return dx1+dx2+dx3\n",
    "\n",
    "ind_sort43 = sorted(indices43, key=sortkey43)[:1]\n",
    "print(ind_sort43)"
   ]
  },
  {
   "cell_type": "code",
   "execution_count": 14,
   "metadata": {},
   "outputs": [
    {
     "name": "stdout",
     "output_type": "stream",
     "text": [
      "Jump object:\n",
      "Initial state:\n",
      "\tSolute loctation:basis index = 0, lattice vector = [0 0 0]\n",
      "\tdumbbell : (i, or) index = 2, lattice vector = [0 0 1]\n",
      "Final state:\n",
      "\tSolute loctation :basis index = 0, lattice vector = [0 0 0]\n",
      "\tdumbbell : (i, or) index = 5, lattice vector = [0 0 0]\n",
      "Jumping from c1 = 1 to c2 = -1\n",
      "((30, 5), array([-0.176, -0.176,  0.   ]))\n"
     ]
    }
   ],
   "source": [
    "# check if we have the correct jump\n",
    "\n",
    "# Next, we take a look at our 90-degree roto-translational omega4-omega3 jumps\n",
    "# Since they have the same transition state energy, they are all grouped together in\n",
    "# the same list.\n",
    "\n",
    "# The Initial state is the complex state, and the Final state is the mixed dumbbell state involved\n",
    "# in the omega4 jump (the reverse is the omega3 jump.\n",
    "\n",
    "# the list into which these states are indexed are printed in the following cells\n",
    "\n",
    "\n",
    "print(jnet43[ind_sort43[0]][0])\n",
    "print(jnet43_indexed[ind_sort43[0]][0])"
   ]
  },
  {
   "cell_type": "code",
   "execution_count": 15,
   "metadata": {},
   "outputs": [
    {
     "data": {
      "text/plain": [
       "[(0, array([-1.13877191e-17, -1.13877191e-17,  3.26000000e-01])),\n",
       " (0, array([ 1.13877191e-17,  3.26000000e-01, -1.13877191e-17])),\n",
       " (0, array([-3.26000000e-01, -1.13877191e-17, -1.13877191e-17]))]"
      ]
     },
     "execution_count": 15,
     "metadata": {},
     "output_type": "execute_result"
    }
   ],
   "source": [
    "# The pure dumbbell state corresponding to the (i, or) index of the Initial state is in the same index\n",
    "# in the following list\n",
    "pdbcontainer_Ni.iorlist"
   ]
  },
  {
   "cell_type": "code",
   "execution_count": 16,
   "metadata": {},
   "outputs": [
    {
     "data": {
      "text/plain": [
       "[(0, array([-1.13877191e-17, -1.13877191e-17,  3.26000000e-01])),\n",
       " (0, array([ 1.13877191e-17,  3.26000000e-01, -1.13877191e-17])),\n",
       " (0, array([-3.26000000e-01, -1.13877191e-17, -1.13877191e-17])),\n",
       " (0, array([ 1.13877191e-17,  1.13877191e-17, -3.26000000e-01])),\n",
       " (0, array([3.26000000e-01, 1.13877191e-17, 1.13877191e-17])),\n",
       " (0, array([-1.13877191e-17, -3.26000000e-01,  1.13877191e-17]))]"
      ]
     },
     "execution_count": 16,
     "metadata": {},
     "output_type": "execute_result"
    }
   ],
   "source": [
    "# The mixed dumbbell state corresponding to the (i, or) index of the Final state is in the same index\n",
    "# place in the following list\n",
    "mdbcontainer_Ni.iorlist"
   ]
  },
  {
   "cell_type": "code",
   "execution_count": 17,
   "metadata": {},
   "outputs": [],
   "source": [
    "# reconstruct the omega43 jump network to include only the 90-degree roto-translational jumps we have just\n",
    "# filtered out.\n",
    "onsagercalculator.regenerate43(ind_sort43)"
   ]
  },
  {
   "cell_type": "code",
   "execution_count": 18,
   "metadata": {},
   "outputs": [],
   "source": [
    "# We then store the onsager calculator into a pickle file so that it need not be regenerated all the time.\n",
    "with open('NiFe_NiCr_Onsg.pkl','wb') as fl:\n",
    "    pickle.dump(onsagercalculator,fl)"
   ]
  },
  {
   "cell_type": "code",
   "execution_count": null,
   "metadata": {},
   "outputs": [],
   "source": []
  }
 ],
 "metadata": {
  "kernelspec": {
   "display_name": "Python 3",
   "language": "python",
   "name": "python3"
  },
  "language_info": {
   "codemirror_mode": {
    "name": "ipython",
    "version": 3
   },
   "file_extension": ".py",
   "mimetype": "text/x-python",
   "name": "python",
   "nbconvert_exporter": "python",
   "pygments_lexer": "ipython3",
   "version": "3.6.9"
  }
 },
 "nbformat": 4,
 "nbformat_minor": 2
}
