{
 "cells": [
  {
   "cell_type": "markdown",
   "metadata": {},
   "source": [
    "# Ni - X computations part 1\n",
    "\n",
    "## Setting up the Onsager Calculator"
   ]
  },
  {
   "cell_type": "code",
   "execution_count": 1,
   "metadata": {},
   "outputs": [],
   "source": [
    "import sys\n",
    "sys.path.append(\"../\")"
   ]
  },
  {
   "cell_type": "code",
   "execution_count": 2,
   "metadata": {},
   "outputs": [
    {
     "name": "stderr",
     "output_type": "stream",
     "text": [
      "/usr/local/lib/python3.6/dist-packages/onsager-1.3.3-py3.6.egg/onsager/cluster.py:835: NumbaDeprecationWarning: The 'numba.jitclass' decorator has moved to 'numba.experimental.jitclass' to better reflect the experimental nature of the functionality. Please update your imports to accommodate this change and see http://numba.pydata.org/numba-doc/latest/reference/deprecation.html#change-of-jitclass-location for the time frame.\n"
     ]
    }
   ],
   "source": [
    "import numpy as np\n",
    "from Onsager_calc_db import *\n",
    "import onsager.crystal as crystal\n",
    "from states import *\n",
    "from stars import *\n",
    "from vector_stars import *\n",
    "import time\n",
    "import pickle\n",
    "\n",
    "# Note - a deprecation warning may be printed, but it related to a cluster expansion code built into the\n",
    "# onsager code (Trinkle-2017, Trinkle-2018) and does not affect this extension of onsager for dumbbell\n",
    "# mediated diffusion."
   ]
  },
  {
   "cell_type": "code",
   "execution_count": 3,
   "metadata": {},
   "outputs": [
    {
     "name": "stdout",
     "output_type": "stream",
     "text": [
      "#Lattice:\n",
      "  a1 = [0.    0.176 0.176]\n",
      "  a2 = [0.176 0.    0.176]\n",
      "  a3 = [0.176 0.176 0.   ]\n",
      "#Basis:\n",
      "  (Ni) 0.0 = [0. 0. 0.]\n"
     ]
    }
   ],
   "source": [
    "# make FCC lattice - all length units we use are in nanometers.\n",
    "latt = np.array([[0., 0.5, 0.5], [0.5, 0., 0.5], [0.5, 0.5, 0.]]) * 0.352\n",
    "Ni = crystal.Crystal(latt, [[np.array([0., 0., 0.])]], [\"Ni\"])\n",
    "\n",
    "# Next, we set up the dumbbell containers.\n",
    "# The \"pdbcontainer\" and \"mdbcontainer\" objects (see states.py) contain all information regarding pure and\n",
    "# mixed dumbbells, including: The possible orientations (pdbcontainer.iorlist), the symmetry grouping\n",
    "# of the dumbbells (pdbcontainer.symorlist), the group operations between them, and functions to generate\n",
    "# pure and mixed dumbbell jump networks.\n",
    "\n",
    "# We set up orientation vectors along <100> directions.\n",
    "# Note that the orientation vector is a nominal vector. It helps in symmetry analysis and\n",
    "# identificiation of jump types, but atomic displacements are only considered site-to-site in the\n",
    "# transport coefficients. This simplification is allowed by the invariance principle of mass\n",
    "# transport (Trinkle, 2018).\n",
    "# To keep things somewhat physically relevant, we choose this orientation vector length to be the same\n",
    "# as the host atomic diameter (0.326 nm for Ni).\n",
    "o = np.array([1.,0.,0.])*0.163*2\n",
    "famp0 = [o.copy()]  # multiple orientation families can be set up if desired, but we need only one.\n",
    "family = [famp0]\n",
    "pdbcontainer_Ni = dbStates(Ni, 0, family)\n",
    "mdbcontainer_Ni = mStates(Ni, 0, family)\n",
    "\n",
    "# Calculate the omega0 and omega2 jump networks.\n",
    "# The inputs to both functions are as follows:\n",
    "# The first input - the cutoff site-to-site distance for dumbbell jumps to be considered. We set this up to\n",
    "# be the nearest neighbor distance.\n",
    "# The next two inputs are cutoff distances for solute-solvent atoms and solvent-solvent atoms, such that\n",
    "# if two atoms come within that distance of each other, then they are considered to collide (see collision.py)\n",
    "jset0, jset2 = pdbcontainer_Ni.jumpnetwork(0.25, 0.01, 0.01), mdbcontainer_Ni.jumpnetwork(0.25, 0.01, 0.01)\n",
    "print(Ni)"
   ]
  },
  {
   "cell_type": "code",
   "execution_count": 4,
   "metadata": {},
   "outputs": [
    {
     "data": {
      "text/plain": [
       "[5, 10]"
      ]
     },
     "execution_count": 4,
     "metadata": {},
     "output_type": "execute_result"
    }
   ],
   "source": [
    "# Modify jnet0\n",
    "jnet0 = jset0[0]\n",
    "# These contain jumps in the form of jump objects\n",
    "\n",
    "jnet0_indexed = jset0[1] \n",
    "# These contain jumps in the form of ((i, j), dx) where \"i\" is the index assigned to the initial dumbbell state\n",
    "# and j is the index assigned to the final dumbbell state.\n",
    "\n",
    "# The 90-degree roto-translation jump is the jump that has the shortest total atomic dispalcements.\n",
    "# Let's try to sort the jumps accordingly.\n",
    "\n",
    "# We first get rid of the rotation jumps\n",
    "z = np.zeros(3)\n",
    "indices = []\n",
    "for jt, jlist in enumerate(jnet0):\n",
    "    \n",
    "    # We'll skip on-site rotations for now and add them later\n",
    "    if np.allclose(jnet0_indexed[jt][0][1], z):\n",
    "        continue\n",
    "    indices.append(jt)\n",
    "    \n",
    "def sortkey(entry):\n",
    "    jmp = jnet0[entry][0]\n",
    "    # Get the initial orientation vector.\n",
    "    or1 = pdbcontainer_Ni.iorlist[jmp.state1.iorind][1]\n",
    "    \n",
    "    # Get the Final orientation vector.\n",
    "    or2 = pdbcontainer_Ni.iorlist[jmp.state2.iorind][1]\n",
    "    \n",
    "    # Get the site-to-site displacements\n",
    "    dx = disp(pdbcontainer_Ni, jmp.state1, jmp.state2)\n",
    "    \n",
    "    # Get the nominal displacements along orientation vectors, which are only used to sort the jumps.\n",
    "    # For the jump object, the quantity \"c1\" says whether the atom at the head (c1=1) or tail(c1=-1)\n",
    "    # of the orientation vector is executing the jump, while the quantity \"c2\" says whether the jumping atom\n",
    "    # ends up at the head (c2=1) or the tail (c2=-1) of the final orientation vector (see representations.py).\n",
    "    dx1 = np.linalg.norm(jmp.c1*or1/2.)\n",
    "    dx2 = np.linalg.norm(dx + jmp.c2*or2/2. - jmp.c1*or1/2.)\n",
    "    dx3 = np.linalg.norm(-jmp.c2*or2/2.)\n",
    "    return dx1+dx2+dx3  # return the total displacement of the atoms.\n",
    "\n",
    "# Sort the indices according to total displacements.\n",
    "ind_sort = sorted(indices, key=sortkey)\n",
    "#keep only the required index\n",
    "ind_sort = [ind_sort[0]]\n",
    "# Add in the rotations\n",
    "for jt, jlist in enumerate(jnet0):\n",
    "    if np.allclose(jnet0_indexed[jt][0][1], z):\n",
    "        ind_sort.append(jt)\n",
    "ind_sort"
   ]
  },
  {
   "cell_type": "code",
   "execution_count": 5,
   "metadata": {},
   "outputs": [
    {
     "name": "stdout",
     "output_type": "stream",
     "text": [
      "Jump object:\n",
      "Initial state:\n",
      "\tdumbbell : (i, or) index = 0, lattice vector = [0 0 0]\n",
      "Final state:\n",
      "\tdumbbell : (i, or) index = 1, lattice vector = [ 0  0 -1]\n",
      "Jumping from c1 = -1 to c2 = -1\n",
      "\n",
      "Jump object:\n",
      "Initial state:\n",
      "\tdumbbell : (i, or) index = 0, lattice vector = [0 0 0]\n",
      "Final state:\n",
      "\tdumbbell : (i, or) index = 2, lattice vector = [0 0 0]\n",
      "Jumping from c1 = -1 to c2 = 1\n",
      "\n"
     ]
    }
   ],
   "source": [
    "# Let's check if we got the correct jump\n",
    "\n",
    "# For a dumbbell, the (i, or) indices (iorInd) correspond to (basis site, orientation vector) pairs.\n",
    "# The corresponding values can be found at onsagercalculator.pdbcontainer.iorlist, which we print out\n",
    "# in the next cell.\n",
    "\n",
    "print(jnet0[ind_sort[0]][0])\n",
    "print(jnet0[ind_sort[1]][0])"
   ]
  },
  {
   "cell_type": "code",
   "execution_count": 6,
   "metadata": {},
   "outputs": [
    {
     "data": {
      "text/plain": [
       "[(0, array([ 1.13877191e-17,  3.26000000e-01, -1.13877191e-17])),\n",
       " (0, array([-3.26000000e-01, -1.13877191e-17, -1.13877191e-17])),\n",
       " (0, array([ 1.13877191e-17,  1.13877191e-17, -3.26000000e-01]))]"
      ]
     },
     "execution_count": 6,
     "metadata": {},
     "output_type": "execute_result"
    }
   ],
   "source": [
    "# Indices are assigned to dumbbell (basis index, orientation) pairs based on their order in the following list.\n",
    "\n",
    "pdbcontainer_Ni.iorlist"
   ]
  },
  {
   "cell_type": "code",
   "execution_count": 7,
   "metadata": {},
   "outputs": [],
   "source": [
    "# Remake the omega0 jump networks with the jumps that we require.\n",
    "jset0new = ([jnet0[i] for i in ind_sort], [jnet0_indexed[i] for i in ind_sort])"
   ]
  },
  {
   "cell_type": "code",
   "execution_count": 8,
   "metadata": {},
   "outputs": [
    {
     "name": "stdout",
     "output_type": "stream",
     "text": [
      "[0, 1, 2, 3, 4, 5, 6, 7, 8, 9]\n",
      "[8, 10]\n"
     ]
    }
   ],
   "source": [
    "# Now, we modify the mixed dumbbell jumpnetwork to also give the lowest displacement jump\n",
    "# Modify jnet2\n",
    "jnet2 = jset2[0]\n",
    "jnet2_indexed = jset2[1]\n",
    "# Let's try to sort the jumps according to closest distance\n",
    "# we don't want the rotational jumps as before.\n",
    "z = np.zeros(3)\n",
    "indices2 = []\n",
    "for jt, jlist in enumerate(jnet2):\n",
    "    if np.allclose(jnet2_indexed[jt][0][1], z):\n",
    "        continue\n",
    "    indices2.append(jt)    \n",
    "print(indices2)\n",
    "\n",
    "def sortkey2(entry):\n",
    "    jmp = jnet2[entry][0]\n",
    "    or1 = mdbcontainer_Ni.iorlist[jmp.state1.db.iorind][1]\n",
    "    or2 = mdbcontainer_Ni.iorlist[jmp.state2.db.iorind][1]\n",
    "    dx = disp(mdbcontainer_Ni, jmp.state1, jmp.state2)\n",
    "    # c1 and c2 are always +1 for mixed dumbbell jumps.\n",
    "    dx1 = np.linalg.norm(jmp.c1*or1/2.)\n",
    "    dx2 = np.linalg.norm(dx + jmp.c2*or2/2. - jmp.c1*or1/2.)\n",
    "    dx3 = np.linalg.norm(-jmp.c2*or2/2.)\n",
    "    return dx1+dx2+dx3\n",
    "\n",
    "ind_sort2 = sorted(indices2, key=sortkey2)\n",
    "ind_sort2 = [ind_sort2[0]]\n",
    "# Add in the rotations\n",
    "for jt, jlist in enumerate(jnet2):\n",
    "    if np.allclose(jnet2_indexed[jt][0][1], z):\n",
    "        ind_sort2.append(jt)\n",
    "print(ind_sort2)"
   ]
  },
  {
   "cell_type": "code",
   "execution_count": 9,
   "metadata": {},
   "outputs": [
    {
     "name": "stdout",
     "output_type": "stream",
     "text": [
      "Jump object:\n",
      "Initial state:\n",
      "\tSolute loctation:basis index = 0, lattice vector = [0 0 0]\n",
      "\tdumbbell : (i, or) index = 1, lattice vector = [0 0 0]\n",
      "Final state:\n",
      "\tSolute loctation :basis index = 0, lattice vector = [ 0  0 -1]\n",
      "\tdumbbell : (i, or) index = 0, lattice vector = [ 0  0 -1]\n",
      "Jumping from c1 = 1 to c2 = 1\n",
      "Jump object:\n",
      "Initial state:\n",
      "\tSolute loctation:basis index = 0, lattice vector = [0 0 0]\n",
      "\tdumbbell : (i, or) index = 0, lattice vector = [0 0 0]\n",
      "Final state:\n",
      "\tSolute loctation :basis index = 0, lattice vector = [0 0 0]\n",
      "\tdumbbell : (i, or) index = 3, lattice vector = [0 0 0]\n",
      "Jumping from c1 = 1 to c2 = 1\n"
     ]
    }
   ],
   "source": [
    "# check if we have the correct type of jump\n",
    "print(jnet2[ind_sort2[0]][0])\n",
    "print(jnet2[ind_sort2[1]][0])"
   ]
  },
  {
   "cell_type": "code",
   "execution_count": 10,
   "metadata": {},
   "outputs": [
    {
     "name": "stdout",
     "output_type": "stream",
     "text": [
      "(0, array([ 1.13877191e-17,  3.26000000e-01, -1.13877191e-17]))\n",
      "(0, array([-3.26000000e-01, -1.13877191e-17, -1.13877191e-17]))\n",
      "(0, array([3.26000000e-01, 1.13877191e-17, 1.13877191e-17]))\n",
      "(0, array([ 1.13877191e-17,  1.13877191e-17, -3.26000000e-01]))\n",
      "(0, array([-1.13877191e-17, -1.13877191e-17,  3.26000000e-01]))\n",
      "(0, array([-1.13877191e-17, -3.26000000e-01,  1.13877191e-17]))\n"
     ]
    }
   ],
   "source": [
    "for tup in mdbcontainer_Ni.iorlist:\n",
    "    print(tup)"
   ]
  },
  {
   "cell_type": "code",
   "execution_count": 11,
   "metadata": {},
   "outputs": [],
   "source": [
    "# Collect the jumps that we want\n",
    "jset2new = ([jnet2[i] for i in ind_sort2], [jnet2_indexed[i] for i in ind_sort2])"
   ]
  },
  {
   "cell_type": "code",
   "execution_count": 12,
   "metadata": {},
   "outputs": [
    {
     "name": "stdout",
     "output_type": "stream",
     "text": [
      "initializing thermo\n",
      "initializing kin\n",
      "initializing NN\n",
      "built shell 1: time - 0.008854866027832031\n",
      "built shell 2: time - 0.39752984046936035\n",
      "grouped states by symmetry: 0.7657279968261719\n",
      "built mixed dumbbell stars: 0.0002675056457519531\n",
      "built jtags2: 0.0004086494445800781\n",
      "built mixed indexed star: 0.0016887187957763672\n",
      "building star2symlist : 6.866455078125e-05\n",
      "building bare, mixed index dicts : 0.00012731552124023438\n",
      "2NN Shell initialization time: 1.8335762023925781\n",
      "\n",
      "generating thermodynamic shell\n",
      "built shell 1: time - 0.005079507827758789\n",
      "grouped states by symmetry: 0.0697777271270752\n",
      "built mixed dumbbell stars: 0.000209808349609375\n",
      "built jtags2: 0.00013256072998046875\n",
      "built mixed indexed star: 0.0015456676483154297\n",
      "building star2symlist : 3.504753112792969e-05\n",
      "building bare, mixed index dicts : 8.940696716308594e-05\n",
      "thermodynamic shell generated: 0.11075806617736816\n",
      "Total number of states in Thermodynamic Shell - 39, 6\n",
      "generating kinetic shell\n",
      "built shell 1: time - 0.0055158138275146484\n",
      "built shell 2: time - 0.38465332984924316\n",
      "grouped states by symmetry: 0.7274057865142822\n",
      "built mixed dumbbell stars: 0.00025081634521484375\n",
      "built jtags2: 0.00020599365234375\n",
      "built mixed indexed star: 0.001768350601196289\n",
      "building star2symlist : 0.00015997886657714844\n",
      "building bare, mixed index dicts : 0.00026988983154296875\n",
      "Kinetic shell generated: 1.7530326843261719\n",
      "Total number of states in Kinetic Shell - 165, 6\n",
      "generating kinetic shell vector starset\n",
      "Kinetic shell vector starset generated: 0.9790794849395752\n",
      "Generating Jump networks\n",
      "building omega1\n",
      "built omega1 : time - 57.79785346984863\n",
      "building omega43\n",
      "built omega43 : time 1.2473821640014648\n",
      "Jump networks generated: 59.053688049316406\n",
      "building GF starsets\n",
      "\tComplex connections creation time: 10.555986642837524\n",
      "\tComplex connections symmetry grouping time: 2.6185660362243652\n",
      "No. of pure dumbbell connections: 2781\n",
      "No. of mixed dumbbell connections: 36\n",
      "GF star sets built: 13.220487594604492\n",
      "Built Complex GF expansions: 9.73265528678894\n",
      "Built Mixed GF expansions: 0.008456230163574219\n",
      "built GFstarsets: 22.975109338760376\n",
      "built rate expansions: 0.42698144912719727\n",
      "built bias expansions: 1.2428576946258545\n",
      "built outer product tensor:0.02557826042175293\n",
      "onsager calculator initiation time = 90.59428668022156\n"
     ]
    }
   ],
   "source": [
    "# Next, make an initial onsager calculator\n",
    "# All possible omega4-3 jumps will first be found, the cutoff distances of which are indicated as follows:\n",
    "# 0.25 : cutoff for site-to-site atomic displacement during omega4-3 jumps.\n",
    "# 0.01 : distance of closest approach during omega4-3 jumps. Input twice for solute-solute and solute-solvent\n",
    "# jumps.\n",
    "# Nthermo - the thermodynamic shell - one nearest neighbor in the present case.\n",
    "start = time.time()\n",
    "onsagercalculator = dumbbellMediated(pdbcontainer_Ni, mdbcontainer_Ni, jset0new, jset2new, 0.25,\n",
    "                                     0.01, 0.01, 0.01, NGFmax=4, Nthermo=1)\n",
    "print(\"onsager calculator initiation time = {}\".format(time.time() - start))"
   ]
  },
  {
   "cell_type": "code",
   "execution_count": 13,
   "metadata": {},
   "outputs": [
    {
     "name": "stdout",
     "output_type": "stream",
     "text": [
      "[0, 1, 2, 3, 4, 5, 6, 7, 8, 9, 10, 11, 12, 13]\n",
      "[4]\n"
     ]
    }
   ],
   "source": [
    "# Next, we get the omega43 jumps computed internally in the onsager calculator,\n",
    "# and extract the shortest displacement jumps in the same manner as the omega0 and omega2 jumps.\n",
    "jnet43 = onsagercalculator.jnet43\n",
    "jnet43_indexed = onsagercalculator.jnet43_indexed\n",
    "# Let's try to sort the jumps according to closest distance\n",
    "z = np.zeros(3)\n",
    "indices43 = []\n",
    "for jt, jlist in enumerate(jnet43):\n",
    "    if np.allclose(jnet43_indexed[jt][0][1], z):\n",
    "        continue\n",
    "    indices43.append(jt)    \n",
    "print(indices43)\n",
    "\n",
    "def sortkey43(entry):\n",
    "    jmp = jnet43[entry][0] # This is an omega4 jump\n",
    "    if not jmp.c2 == -1:\n",
    "        print(c2)\n",
    "    or1 = pdbcontainer_Ni.iorlist[jmp.state1.db.iorind][1]\n",
    "    or2 = mdbcontainer_Ni.iorlist[jmp.state2.db.iorind][1]\n",
    "    dx = disp4(pdbcontainer_Ni, mdbcontainer_Ni, jmp.state1, jmp.state2)\n",
    "    # remember that c2 is -1 for an omega4 jump\n",
    "    dx1 = np.linalg.norm(jmp.c1*or1/2.)\n",
    "    dx2 = np.linalg.norm(dx - or2/2. - jmp.c1*or1/2.)\n",
    "    dx3 = np.linalg.norm(jmp.c2*or2/2.)\n",
    "    return dx1+dx2+dx3\n",
    "\n",
    "ind_sort43 = sorted(indices43, key=sortkey43)[:1]\n",
    "print(ind_sort43)"
   ]
  },
  {
   "cell_type": "code",
   "execution_count": 14,
   "metadata": {},
   "outputs": [
    {
     "name": "stdout",
     "output_type": "stream",
     "text": [
      "Jump object:\n",
      "Initial state:\n",
      "\tSolute loctation:basis index = 0, lattice vector = [0 0 0]\n",
      "\tdumbbell : (i, or) index = 2, lattice vector = [ 1  0 -1]\n",
      "Final state:\n",
      "\tSolute loctation :basis index = 0, lattice vector = [0 0 0]\n",
      "\tdumbbell : (i, or) index = 2, lattice vector = [0 0 0]\n",
      "Jumping from c1 = 1 to c2 = -1\n",
      "((7, 2), array([ 0.176,  0.   , -0.176]))\n"
     ]
    }
   ],
   "source": [
    "# check if we have the correct jump\n",
    "\n",
    "# Next, we take a look at our 90-degree roto-translational omega4-omega3 jumps\n",
    "# Since they have the same transition state energy, they are all grouped together in\n",
    "# the same list.\n",
    "\n",
    "# The Initial state is the complex state, and the Final state is the mixed dumbbell state involved\n",
    "# in the omega4 jump (the reverse is the omega3 jump.\n",
    "\n",
    "# the list into which these states are indexed are printed in the following cells\n",
    "\n",
    "\n",
    "print(jnet43[ind_sort43[0]][0])\n",
    "print(jnet43_indexed[ind_sort43[0]][0])"
   ]
  },
  {
   "cell_type": "code",
   "execution_count": 15,
   "metadata": {},
   "outputs": [
    {
     "data": {
      "text/plain": [
       "[(0, array([ 1.13877191e-17,  3.26000000e-01, -1.13877191e-17])),\n",
       " (0, array([-3.26000000e-01, -1.13877191e-17, -1.13877191e-17])),\n",
       " (0, array([ 1.13877191e-17,  1.13877191e-17, -3.26000000e-01]))]"
      ]
     },
     "execution_count": 15,
     "metadata": {},
     "output_type": "execute_result"
    }
   ],
   "source": [
    "# The pure dumbbell state corresponding to the (i, or) index of the Initial state is in the same index\n",
    "# in the following list\n",
    "pdbcontainer_Ni.iorlist"
   ]
  },
  {
   "cell_type": "code",
   "execution_count": 16,
   "metadata": {},
   "outputs": [
    {
     "data": {
      "text/plain": [
       "[(0, array([ 1.13877191e-17,  3.26000000e-01, -1.13877191e-17])),\n",
       " (0, array([-3.26000000e-01, -1.13877191e-17, -1.13877191e-17])),\n",
       " (0, array([3.26000000e-01, 1.13877191e-17, 1.13877191e-17])),\n",
       " (0, array([ 1.13877191e-17,  1.13877191e-17, -3.26000000e-01])),\n",
       " (0, array([-1.13877191e-17, -1.13877191e-17,  3.26000000e-01])),\n",
       " (0, array([-1.13877191e-17, -3.26000000e-01,  1.13877191e-17]))]"
      ]
     },
     "execution_count": 16,
     "metadata": {},
     "output_type": "execute_result"
    }
   ],
   "source": [
    "# The mixed dumbbell state corresponding to the (i, or) index of the Final state is in the same index\n",
    "# place in the following list\n",
    "mdbcontainer_Ni.iorlist"
   ]
  },
  {
   "cell_type": "code",
   "execution_count": 17,
   "metadata": {},
   "outputs": [],
   "source": [
    "# reconstruct the omega43 jump network to include only the 90-degree roto-translational jumps we have just\n",
    "# filtered out.\n",
    "onsagercalculator.regenerate43(ind_sort43)"
   ]
  },
  {
   "cell_type": "code",
   "execution_count": 18,
   "metadata": {},
   "outputs": [],
   "source": [
    "# We then store the onsager calculator into a pickle file so that it need not be regenerated all the time.\n",
    "with open('NiFe_NiCr_Onsg.pkl','wb') as fl:\n",
    "    pickle.dump(onsagercalculator,fl)"
   ]
  }
 ],
 "metadata": {
  "kernelspec": {
   "display_name": "Python 3",
   "language": "python",
   "name": "python3"
  },
  "language_info": {
   "codemirror_mode": {
    "name": "ipython",
    "version": 3
   },
   "file_extension": ".py",
   "mimetype": "text/x-python",
   "name": "python",
   "nbconvert_exporter": "python",
   "pygments_lexer": "ipython3",
   "version": "3.6.9"
  }
 },
 "nbformat": 4,
 "nbformat_minor": 2
}
