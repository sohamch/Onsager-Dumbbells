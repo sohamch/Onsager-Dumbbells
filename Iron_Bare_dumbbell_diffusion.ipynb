{
 "cells": [
  {
   "cell_type": "code",
   "execution_count": 1,
   "metadata": {},
   "outputs": [],
   "source": [
    "import numpy as np\n",
    "import onsager.crystal as crystal\n",
    "from states import *\n",
    "from representations import *\n",
    "import matplotlib.pyplot as plt\n",
    "from scipy.constants import physical_constants\n",
    "from Onsager_calc_db import BareDumbbell\n",
    "import matplotlib.pyplot as plt\n",
    "from scipy.optimize import curve_fit"
   ]
  },
  {
   "cell_type": "code",
   "execution_count": 2,
   "metadata": {},
   "outputs": [
    {
     "name": "stdout",
     "output_type": "stream",
     "text": [
      "#Lattice:\n",
      "  a1 = [-0.142765  0.142765  0.142765]\n",
      "  a2 = [ 0.142765 -0.142765  0.142765]\n",
      "  a3 = [ 0.142765  0.142765 -0.142765]\n",
      "#Basis:\n",
      "  (Fe) 0.0 = [0. 0. 0.]\n"
     ]
    }
   ],
   "source": [
    "kB = physical_constants['Boltzmann constant in eV/K'][0]\n",
    "a0 = 0.28553\n",
    "Fe = crystal.Crystal.BCC(a0, \"Fe\")\n",
    "print(Fe)"
   ]
  },
  {
   "cell_type": "code",
   "execution_count": 3,
   "metadata": {},
   "outputs": [
    {
     "name": "stdout",
     "output_type": "stream",
     "text": [
      "20\n"
     ]
    }
   ],
   "source": [
    "famp0 = [np.array([1.,1.,0.])/np.sqrt(2)*0.126]\n",
    "family = [famp0]\n",
    "pdbcontainer = dbStates(Fe,0,family)\n",
    "jset,jind = pdbcontainer.jumpnetwork(0.25,0.01,0.01)\n",
    "print(len(jind))"
   ]
  },
  {
   "cell_type": "code",
   "execution_count": 4,
   "metadata": {},
   "outputs": [
    {
     "name": "stdout",
     "output_type": "stream",
     "text": [
      "17\n",
      "0.24727623354257078\n"
     ]
    }
   ],
   "source": [
    "#Now extract the required jumps\n",
    "#We remove the on-site rotations and then consider only the nearest neighbor jumps\n",
    "#We assume that there is the same transition state for all the final orientations of the dumbell.\n",
    "dx = np.array([0.5,0.5,0.5])*a0-np.array([0.0,0.0,0.0])*a0\n",
    "mod_dx=np.sqrt(np.dot(dx,dx))\n",
    "jsetnew=[]\n",
    "jindnew=[]\n",
    "for i,jl in enumerate(jind):\n",
    "    dx = jl[0][2]\n",
    "    if np.allclose(np.dot(dx,dx),mod_dx**2,atol=1e-8):\n",
    "        jsetnew.append(jset[i])\n",
    "        jindnew.append(jind[i])\n",
    "print(len(jindnew))\n",
    "print(mod_dx)"
   ]
  },
  {
   "cell_type": "code",
   "execution_count": 5,
   "metadata": {},
   "outputs": [],
   "source": [
    "diffuser = BareDumbbell(pdbcontainer, jindnew)\n",
    "Dconv = 1e-2\n",
    "vu0 = 10*Dconv\n",
    "#Dconv and vu0 are the same as the Fe-C example in Onsager. We Note that our lengths are also in nanometers.\n",
    "Etrans = 0.33\n",
    "\n",
    "#Next we make the thermodict.\n",
    "FeDbthermodict = {'pre': np.ones(len(pdbcontainer.symorlist)), 'ene': np.zeros(len(pdbcontainer.symorlist)),\n",
    "                 'preT': vu0*np.ones(len(jindnew)),\n",
    "                 'eneT': Etrans*np.ones(len(jindnew))}"
   ]
  },
  {
   "cell_type": "code",
   "execution_count": 6,
   "metadata": {},
   "outputs": [],
   "source": [
    "#Next, we calculate the bare dumbbell diffusivities over a range of temperatures with unfiltered jumps.\n",
    "Trange = np.linspace(300, 1200, 91)\n",
    "Dlist=[]\n",
    "for T in Trange:\n",
    "    beta = 1./(kB*T)\n",
    "    D = diffuser.diffusivity(FeDbthermodict['pre'], beta*FeDbthermodict['ene'], \n",
    "                             FeDbthermodict['preT'], beta*FeDbthermodict['eneT'])\n",
    "    Dlist.append(D[0][0])"
   ]
  },
  {
   "cell_type": "code",
   "execution_count": 7,
   "metadata": {},
   "outputs": [],
   "source": [
    "#Next, we calculated total squared displacement of atoms to filter out the Johnson jumps\n",
    "def calc_sq_disp(jump,crys,chem):\n",
    "    R1i = crys.unit2cart(jump.state1.R,crys.basis[chem][jump.state1.i])+(jump.c1/2.)*jump.state1.o\n",
    "    R2i = crys.unit2cart(jump.state1.R,crys.basis[chem][jump.state1.i])-(jump.c1/2.)*jump.state1.o\n",
    "    R3i = crys.unit2cart(jump.state2.R,crys.basis[chem][jump.state2.i])\n",
    "    R1f = crys.unit2cart(jump.state2.R,crys.basis[chem][jump.state2.i])+(jump.c2/2.)*jump.state2.o\n",
    "    R2f = crys.unit2cart(jump.state1.R,crys.basis[chem][jump.state1.i])\n",
    "    R3f = crys.unit2cart(jump.state2.R,crys.basis[chem][jump.state2.i])-(jump.c2/2.)*jump.state2.o\n",
    "    \n",
    "    dx1 = R1f-R1i\n",
    "    dx2 = R2f-R2i\n",
    "    dx3 = R3f-R3i\n",
    "    \n",
    "#     print(R1i,R2i,R3i)\n",
    "#     print(R1f,R2f,R3f)\n",
    "    \n",
    "    return np.dot(dx1,dx1)+np.dot(dx2,dx2)+np.dot(dx3,dx3)    "
   ]
  },
  {
   "cell_type": "code",
   "execution_count": 8,
   "metadata": {},
   "outputs": [
    {
     "name": "stdout",
     "output_type": "stream",
     "text": [
      "16\n"
     ]
    }
   ],
   "source": [
    "#The Johnson jump has the minimum squated displacement\n",
    "idxmin = 0\n",
    "for i,jl in enumerate(jsetnew):\n",
    "    dsp = calc_sq_disp(jl[0],Fe,0)\n",
    "    if dsp < calc_sq_disp(jsetnew[idxmin][0],Fe,0):\n",
    "        idxmin=i\n",
    "print(idxmin)"
   ]
  },
  {
   "cell_type": "code",
   "execution_count": 9,
   "metadata": {},
   "outputs": [
    {
     "name": "stdout",
     "output_type": "stream",
     "text": [
      "(0, array([-0.08909545,  0.        ,  0.08909545]))\n",
      "(0, array([ 0.        , -0.08909545, -0.08909545]))\n",
      "(0, array([-0.08909545, -0.08909545,  0.        ]))\n",
      "(0, array([ 0.        , -0.08909545,  0.08909545]))\n",
      "(0, array([0.08909545, 0.        , 0.08909545]))\n",
      "(0, array([-0.08909545,  0.08909545,  0.        ]))\n"
     ]
    }
   ],
   "source": [
    "#See which orientations need to be searched for.\n",
    "for pair in pdbcontainer.iorlist:\n",
    "    print(pair)"
   ]
  },
  {
   "cell_type": "code",
   "execution_count": 10,
   "metadata": {},
   "outputs": [
    {
     "name": "stdout",
     "output_type": "stream",
     "text": [
      "Jump object:\n",
      "Initial state:\n",
      "\tdumbbell :basis index = 0, lattice vector = [0 0 0], orientation = [-0.08909545 -0.08909545  0.        ]\n",
      "Final state:\n",
      "\tdumbbell :basis index = 0, lattice vector = [-1 -1 -1], orientation = [ 0.         -0.08909545 -0.08909545]\n",
      "Jumping from c = 1 to c= -1\n",
      "\n",
      "Jump object:\n",
      "Initial state:\n",
      "\tdumbbell :basis index = 0, lattice vector = [0 0 0], orientation = [-0.08909545 -0.08909545  0.        ]\n",
      "Final state:\n",
      "\tdumbbell :basis index = 0, lattice vector = [1 1 1], orientation = [ 0.         -0.08909545 -0.08909545]\n",
      "Jumping from c = -1 to c= 1\n",
      "\n"
     ]
    }
   ],
   "source": [
    "#See if the Johnson jump is in this list\n",
    "johnsonjumps=[]\n",
    "for j in jsetnew[idxmin]:\n",
    "    if np.allclose(j.state1.o,np.array([-0.08909545, -0.08909545,  0.])):\n",
    "        if np.allclose(j.state2.o,np.array([0.        , -0.08909545, -0.08909545])):\n",
    "            print(j)\n",
    "            johnsonjumps.append(j)\n",
    "                   "
   ]
  },
  {
   "cell_type": "code",
   "execution_count": 11,
   "metadata": {},
   "outputs": [
    {
     "name": "stdout",
     "output_type": "stream",
     "text": [
      "Jump object:\n",
      "Initial state:\n",
      "\tdumbbell :basis index = 0, lattice vector = [0 0 0], orientation = [-0.08909545 -0.08909545  0.        ]\n",
      "Final state:\n",
      "\tdumbbell :basis index = 0, lattice vector = [-1 -1 -1], orientation = [ 0.         -0.08909545 -0.08909545]\n",
      "Jumping from c = 1 to c= -1\n",
      "\n"
     ]
    }
   ],
   "source": [
    "jtest = johnsonjumps[0]\n",
    "print(jtest)"
   ]
  },
  {
   "cell_type": "code",
   "execution_count": 12,
   "metadata": {},
   "outputs": [],
   "source": [
    "count=0\n",
    "for jlist in jset:\n",
    "    for j in jlist:\n",
    "        if np.allclose(j.state1.R,jtest.state1.R):\n",
    "            if np.allclose(j.state2.R,np.array([1,1,1])):\n",
    "                count+=1"
   ]
  },
  {
   "cell_type": "code",
   "execution_count": 13,
   "metadata": {},
   "outputs": [
    {
     "name": "stdout",
     "output_type": "stream",
     "text": [
      "144\n"
     ]
    }
   ],
   "source": [
    "print(count)"
   ]
  },
  {
   "cell_type": "code",
   "execution_count": 14,
   "metadata": {},
   "outputs": [],
   "source": [
    "jindmin = [jindnew[idxmin]]\n",
    "jsetmin = [jsetnew[idxmin]]"
   ]
  },
  {
   "cell_type": "code",
   "execution_count": 15,
   "metadata": {},
   "outputs": [],
   "source": [
    "diffuser = BareDumbbell(pdbcontainer, jindmin)\n",
    "Dconv = 1e-2\n",
    "vu0 = 10*Dconv\n",
    "#Dconv and vu0 are the same as the Fe-C example in Onsager. We Note that our lengths are also in nanometers.\n",
    "Etrans = 0.33\n",
    "\n",
    "#Next we make the thermodict.\n",
    "FeDbthermodict = {'pre': np.ones(len(pdbcontainer.symorlist)), 'ene': np.zeros(len(pdbcontainer.symorlist)),\n",
    "                 'preT': vu0*np.ones(len(jindmin)),\n",
    "                 'eneT': Etrans*np.ones(len(jindmin))}"
   ]
  },
  {
   "cell_type": "code",
   "execution_count": 16,
   "metadata": {},
   "outputs": [],
   "source": [
    "Trange = np.linspace(300, 1200, 91)\n",
    "Dminlist=[]\n",
    "for T in Trange:\n",
    "    beta = 1./(kB*T)\n",
    "    D = diffuser.diffusivity(FeDbthermodict['pre'], beta*FeDbthermodict['ene'], \n",
    "                             FeDbthermodict['preT'], beta*FeDbthermodict['eneT'])\n",
    "    Dminlist.append(D[0][0])"
   ]
  },
  {
   "cell_type": "code",
   "execution_count": 17,
   "metadata": {},
   "outputs": [
    {
     "data": {
      "image/png": "[encoded data removed]",
      "text/plain": [
       "<matplotlib.figure.Figure at 0x7ff6e2c2b898>"
      ]
     },
     "metadata": {},
     "output_type": "display_data"
    }
   ],
   "source": [
    "D = np.array(Dlist)\n",
    "Dmin = np.array(Dminlist)\n",
    "plt.figure(figsize=(10,12))\n",
    "plt.semilogy(1/Trange*1000,D,\"r\",label=\"Unfiltered\",linewidth=6.0)\n",
    "plt.semilogy(1/Trange*1000,Dmin,label=\"Filtered\",linewidth=4.0)\n",
    "plt.semilogy(1/Trange*1000,Dmin*24,\"g\",label=\"Filtered*24\",linewidth=4.0)\n",
    "plt.xlabel(\"1/T (1/1000Kelvin^-1)\",fontsize=18)\n",
    "plt.ylabel(\"D (cm^2/s)\",fontsize=18)\n",
    "plt.xticks(fontsize=18)\n",
    "plt.yticks(fontsize=18)\n",
    "plt.legend(fontsize=18)\n",
    "plt.savefig(\"D vs invT.png\",bbox_inches = 'tight')"
   ]
  },
  {
   "cell_type": "code",
   "execution_count": 15,
   "metadata": {},
   "outputs": [
    {
     "name": "stdout",
     "output_type": "stream",
     "text": [
      "[5.59444261e-07 8.44476801e-07 1.24234350e-06 1.78539706e-06\n",
      " 2.51167612e-06 3.46515159e-06 4.69587442e-06 6.26002239e-06\n",
      " 8.21984733e-06 1.06435271e-05 1.36049296e-05 1.71832974e-05\n",
      " 2.14628630e-05 2.65324073e-05 3.24847698e-05 3.94163246e-05\n",
      " 4.74264310e-05 5.66168697e-05 6.70912740e-05 7.89545635e-05\n",
      " 9.23123882e-05 1.07270590e-04 1.23934683e-04 1.42409367e-04\n",
      " 1.62798061e-04 1.85202473e-04 2.09722209e-04 2.36454406e-04\n",
      " 2.65493409e-04 2.96930479e-04 3.30853534e-04 3.67346931e-04\n",
      " 4.06491275e-04 4.48363255e-04 4.93035524e-04 5.40576592e-04\n",
      " 5.91050751e-04 6.44518031e-04 7.01034165e-04 7.60650590e-04\n",
      " 8.23414453e-04 8.89368642e-04 9.58551836e-04 1.03099856e-03\n",
      " 1.10673924e-03 1.18580033e-03 1.26820436e-03 1.35397004e-03\n",
      " 1.44311238e-03 1.53564281e-03 1.63156927e-03 1.73089635e-03\n",
      " 1.83362541e-03 1.93975470e-03 2.04927949e-03 2.16219219e-03\n",
      " 2.27848248e-03 2.39813747e-03 2.52114174e-03 2.64747758e-03\n",
      " 2.77712501e-03 2.91006195e-03 3.04626435e-03 3.18570626e-03\n",
      " 3.32835999e-03 3.47419619e-03 3.62318397e-03 3.77529098e-03\n",
      " 3.93048356e-03 4.08872680e-03 4.24998463e-03 4.41421993e-03\n",
      " 4.58139461e-03 4.75146968e-03 4.92440538e-03 5.10016118e-03\n",
      " 5.27869592e-03 5.45996784e-03 5.64393469e-03 5.83055375e-03\n",
      " 6.01978190e-03 6.21157572e-03 6.40589149e-03 6.60268528e-03\n",
      " 6.80191299e-03 7.00353038e-03 7.20749315e-03 7.41375697e-03\n",
      " 7.62227749e-03 7.83301043e-03 8.04591157e-03]\n"
     ]
    }
   ],
   "source": [
    "print(D)"
   ]
  },
  {
   "cell_type": "code",
   "execution_count": 18,
   "metadata": {},
   "outputs": [
    {
     "name": "stdout",
     "output_type": "stream",
     "text": [
      "[5.59444261e-07 8.44476801e-07 1.24234350e-06 1.78539706e-06\n",
      " 2.51167612e-06 3.46515159e-06 4.69587442e-06 6.26002239e-06\n",
      " 8.21984733e-06 1.06435271e-05 1.36049296e-05 1.71832974e-05\n",
      " 2.14628630e-05 2.65324073e-05 3.24847698e-05 3.94163246e-05\n",
      " 4.74264310e-05 5.66168697e-05 6.70912740e-05 7.89545635e-05\n",
      " 9.23123882e-05 1.07270590e-04 1.23934683e-04 1.42409367e-04\n",
      " 1.62798061e-04 1.85202473e-04 2.09722209e-04 2.36454406e-04\n",
      " 2.65493409e-04 2.96930479e-04 3.30853534e-04 3.67346931e-04\n",
      " 4.06491275e-04 4.48363255e-04 4.93035524e-04 5.40576592e-04\n",
      " 5.91050751e-04 6.44518031e-04 7.01034165e-04 7.60650590e-04\n",
      " 8.23414453e-04 8.89368642e-04 9.58551836e-04 1.03099856e-03\n",
      " 1.10673924e-03 1.18580033e-03 1.26820436e-03 1.35397004e-03\n",
      " 1.44311238e-03 1.53564281e-03 1.63156927e-03 1.73089635e-03\n",
      " 1.83362541e-03 1.93975470e-03 2.04927949e-03 2.16219219e-03\n",
      " 2.27848248e-03 2.39813747e-03 2.52114174e-03 2.64747758e-03\n",
      " 2.77712501e-03 2.91006195e-03 3.04626435e-03 3.18570626e-03\n",
      " 3.32835999e-03 3.47419619e-03 3.62318397e-03 3.77529098e-03\n",
      " 3.93048356e-03 4.08872680e-03 4.24998463e-03 4.41421993e-03\n",
      " 4.58139461e-03 4.75146968e-03 4.92440538e-03 5.10016118e-03\n",
      " 5.27869592e-03 5.45996784e-03 5.64393469e-03 5.83055375e-03\n",
      " 6.01978190e-03 6.21157572e-03 6.40589149e-03 6.60268528e-03\n",
      " 6.80191299e-03 7.00353038e-03 7.20749315e-03 7.41375697e-03\n",
      " 7.62227749e-03 7.83301043e-03 8.04591157e-03]\n"
     ]
    }
   ],
   "source": [
    "print(Dmin*24)"
   ]
  },
  {
   "cell_type": "code",
   "execution_count": null,
   "metadata": {},
   "outputs": [],
   "source": []
  }
 ],
 "metadata": {
  "kernelspec": {
   "display_name": "Python 3",
   "language": "python",
   "name": "python3"
  },
  "language_info": {
   "codemirror_mode": {
    "name": "ipython",
    "version": 3
   },
   "file_extension": ".py",
   "mimetype": "text/x-python",
   "name": "python",
   "nbconvert_exporter": "python",
   "pygments_lexer": "ipython3",
   "version": "3.5.2"
  }
 },
 "nbformat": 4,
 "nbformat_minor": 2
}
