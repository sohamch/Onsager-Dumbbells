{
 "cells": [
  {
   "cell_type": "markdown",
   "metadata": {},
   "source": [
    "import modules"
   ]
  },
  {
   "cell_type": "code",
   "execution_count": 7,
   "metadata": {},
   "outputs": [],
   "source": [
    "import numpy as np\n",
    "import onsager.crystal as crystal"
   ]
  },
  {
   "cell_type": "markdown",
   "metadata": {},
   "source": [
    "A Pair object (that represents a dumbbell-solute state) should have the following attributes:\n",
    "1. It should have the locations of the solute and dumbbell.\n",
    "2. A pair object contains information regarding which atom in it is going to jump.\n",
    "3. We should be able to apply Group operations to it to generate new pairs.\n",
    "4. We should be able to add a Jump object to a Pair object to create another pair object.\n",
    "5. We should be able to test for equality."
   ]
  },
  {
   "cell_type": "code",
   "execution_count": 10,
   "metadata": {},
   "outputs": [],
   "source": [
    "class pairs(object):\n",
    "    \n",
    "    def __init__(self,crys,chem,i_s,i_d,R_s,R_d,c,ptr):\n",
    "        '''\n",
    "            param: crys - crystal object on which diffusion will occur.\n",
    "            param: chem - Index of sublattice (in crys) on which diffusion will occur.\n",
    "            param: i_s,i_d : basis indices of solute and dumbbell\n",
    "            param: R_s,R_d : lattice vectors for solute and dumbbell\n",
    "            param: c - orientation vector of the dumbbell (centered at dumbbell site).\n",
    "            param: ptr - (+-1) - points to the \"jumping\" atom in the dumbbell. +1 means the atom at the head\n",
    "                   of the vector \"c\", -1 means the atom at the tail of the vector \"c\".\n",
    "                   In case of mixed dumbbell, ptr=1 means that solute will be jumping, which means mixed dumbbell jump.\n",
    "        '''\n",
    "        self.crys = crys\n",
    "        self.chem = chem\n",
    "        self.i_s = i_s\n",
    "        self.i_d = i_d\n",
    "        self.R_s = R_s.copy()\n",
    "        self.R_d = R_d.copy()\n",
    "        self.c = c.copy()\n",
    "        self.ptr = ptr\n",
    "    \n",
    "    def __eq__(self, other):\n",
    "        true_class = isinstance(other,self.__class__)\n",
    "        true_vectors = np.allclose(self.R_s,other.R_s) and np.allclose(self.c,other.c)\n",
    "        true_indices = (self.i_s == other.i_s and self.i_s == other.i_s and self.ptr == other.ptr)\n",
    "        return (true_class and true_vectors and true_indices)\n",
    "    \n",
    "    def __add__(self,other):\n",
    "        if not isinstance(other,Jumps):\n",
    "            raise TypeError(\"Can only add a jump to a state. Make sure they have same crystal and chemistry\")\n",
    "            #should I put an additional check to see if the crystal and chemistry are the same?\n",
    "        if not (self.i_s==other.i and self.ptr==other.ptr1 and np.allclose(self.R_d,other.R1) and np.allclose(self.c,other.c1)):\n",
    "            raise ArithmeticError(\"Initial state of Jumps object must match current dumbbell state\")\n",
    "        if self.i_s==self.i_d and np.allclose(self.R_s,self.R_d) and self.ptr==1: #meaning mixed dumbbell jump\n",
    "            return self.__class__(self.crys,self.chem,other.j,other.j,other.R2,other.R2,other.c2,1)\n",
    "        else: #solute remains fixed, dumbbell jumps\n",
    "            return self.__class__(self.crys,self.chem,self.i_s,other.j,self.R_s,other.R2,other.c2,self.ptr)\n",
    "    \n",
    "    def g_op(self,g):#apply group operation\n",
    "        R_s_new, (c,i_s_new) = self.crys.g_pos(g,self.R_s,(self.chem,self.i_s))\n",
    "        R_d_new, (c,i_d_new) = self.crys.g_pos(g,self.R_d,(self.chem,self.i_d))\n",
    "        c_new = np.dot(g.cartrot,self.c)\n",
    "        return self.__class__(self.crys,self.chem,i_s_new,i_d_new,R_s_new,R_d_new,c_new,self.ptr)\n",
    "        "
   ]
  },
  {
   "cell_type": "markdown",
   "metadata": {},
   "source": [
    "Jump objects are rather simple, contain just initial and final orientations, location and pointers towards tagged atom (+1 for head of orientation vector, -1 for tail of orientation vector)."
   ]
  },
  {
   "cell_type": "code",
   "execution_count": 11,
   "metadata": {},
   "outputs": [],
   "source": [
    "class Jumps(object):\n",
    "    \n",
    "    def __init__(self,crys,i,j,R1,R2,dx,c1,c2,ptr1,pt2):\n",
    "        '''\n",
    "            param: i - initial basis index of dumbbell\n",
    "            param: j - final basis index of dumbbell\n",
    "            param: R1 - intial lattice vector of the dumbbell\n",
    "            param: R2 - final lattice vector of the dumbbell\n",
    "            param: c1,c2 - initial,final orientations of the dumbbell\n",
    "            param: ptr1,ptr2 - initial,final final pointers towards tagged atom.\n",
    "        '''\n",
    "        self.crys = crys\n",
    "        self.i = i\n",
    "        self.j = j\n",
    "        self.R1 = R1.copy()\n",
    "        self.R2 = R2.copy()\n",
    "        self.dx = self.crys.pos2cart(R2, j) - self.crys.pos2cart(R1, i)\n",
    "        self.c1 = c1.copy()\n",
    "        self.c2 = c2.copy()\n",
    "        self.ptr1 = ptr1\n",
    "        self.ptr2 = ptr2"
   ]
  },
  {
   "cell_type": "markdown",
   "metadata": {},
   "source": [
    "General workflow:\n",
    "1. Generate a jumpnetwork containing transitions.\n",
    "2. Convert the transitions to Jumps objects.\n",
    "3. Add the Jumps objects to existing Pairs to generate new Pairs."
   ]
  },
  {
   "cell_type": "code",
   "execution_count": null,
   "metadata": {},
   "outputs": [],
   "source": []
  }
 ],
 "metadata": {
  "kernelspec": {
   "display_name": "Python 3",
   "language": "python",
   "name": "python3"
  },
  "language_info": {
   "codemirror_mode": {
    "name": "ipython",
    "version": 3
   },
   "file_extension": ".py",
   "mimetype": "text/x-python",
   "name": "python",
   "nbconvert_exporter": "python",
   "pygments_lexer": "ipython3",
   "version": "3.5.2"
  }
 },
 "nbformat": 4,
 "nbformat_minor": 2
}
