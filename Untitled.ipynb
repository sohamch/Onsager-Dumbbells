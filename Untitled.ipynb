{
 "cells": [
  {
   "cell_type": "code",
   "execution_count": 1,
   "metadata": {},
   "outputs": [],
   "source": [
    "import numpy as np\n",
    "from gensets import *\n",
    "from test_structs import *\n",
    "from representations import *\n",
    "import onsager.crystal as crystal\n",
    "from states import *"
   ]
  },
  {
   "cell_type": "code",
   "execution_count": 2,
   "metadata": {},
   "outputs": [],
   "source": [
    "famp0 = [np.array([1.,0.,0.])]\n",
    "famp12 = [np.array([1.,1.,0.])]"
   ]
  },
  {
   "cell_type": "code",
   "execution_count": 3,
   "metadata": {},
   "outputs": [],
   "source": [
    "family = [famp0,famp12]\n",
    "pairs_pure = genpuresets(tet2,0,family)"
   ]
  },
  {
   "cell_type": "code",
   "execution_count": 4,
   "metadata": {
    "scrolled": true
   },
   "outputs": [
    {
     "name": "stdout",
     "output_type": "stream",
     "text": [
      "CPU times: user 43.6 s, sys: 253 ms, total: 43.9 s\n",
      "Wall time: 43.8 s\n"
     ]
    }
   ],
   "source": [
    "%time pairset = genPairSets(tet2,0,pairs_pure,1)"
   ]
  },
  {
   "cell_type": "code",
   "execution_count": 13,
   "metadata": {},
   "outputs": [
    {
     "data": {
      "text/plain": [
       "908"
      ]
     },
     "execution_count": 13,
     "metadata": {},
     "output_type": "execute_result"
    }
   ],
   "source": [
    "len(pairset)"
   ]
  },
  {
   "cell_type": "code",
   "execution_count": 5,
   "metadata": {},
   "outputs": [
    {
     "name": "stdout",
     "output_type": "stream",
     "text": [
      "CPU times: user 35.9 s, sys: 263 ms, total: 36.1 s\n",
      "Wall time: 36.1 s\n"
     ]
    }
   ],
   "source": [
    "%time pset = Pairstates(tet2,0,pairset)"
   ]
  },
  {
   "cell_type": "code",
   "execution_count": 6,
   "metadata": {},
   "outputs": [
    {
     "data": {
      "text/plain": [
       "84"
      ]
     },
     "execution_count": 6,
     "metadata": {},
     "output_type": "execute_result"
    }
   ],
   "source": [
    "len(pset.sympairlist)"
   ]
  },
  {
   "cell_type": "code",
   "execution_count": 7,
   "metadata": {},
   "outputs": [
    {
     "data": {
      "text/plain": [
       "list"
      ]
     },
     "execution_count": 7,
     "metadata": {},
     "output_type": "execute_result"
    }
   ],
   "source": [
    "type(pset.sympairlist[0])"
   ]
  },
  {
   "cell_type": "code",
   "execution_count": 8,
   "metadata": {
    "scrolled": false
   },
   "outputs": [
    {
     "data": {
      "text/plain": [
       "[SdPair(i_s=0, R_s=array([0, 0, 0]), db=dumbbell(i=2, o=array([-1., -1.,  0.]), R=array([-1,  0,  0]))),\n",
       " SdPair(i_s=0, R_s=array([0, 0, 0]), db=dumbbell(i=1, o=array([-1., -1., -0.]), R=array([-1,  1,  0]))),\n",
       " SdPair(i_s=0, R_s=array([0, 0, 0]), db=dumbbell(i=2, o=array([-1., -1., -0.]), R=array([ 1, -1,  0]))),\n",
       " SdPair(i_s=0, R_s=array([0, 0, 0]), db=dumbbell(i=2, o=array([-1.,  1., -0.]), R=array([1, 0, 0]))),\n",
       " SdPair(i_s=0, R_s=array([0, 0, 0]), db=dumbbell(i=1, o=array([-1., -1.,  0.]), R=array([ 0, -1,  0]))),\n",
       " SdPair(i_s=0, R_s=array([0, 0, 0]), db=dumbbell(i=1, o=array([-1.,  1., -0.]), R=array([-1, -1,  0]))),\n",
       " SdPair(i_s=0, R_s=array([0, 0, 0]), db=dumbbell(i=1, o=array([-1.,  1.,  0.]), R=array([0, 1, 0]))),\n",
       " SdPair(i_s=0, R_s=array([0, 0, 0]), db=dumbbell(i=2, o=array([-1.,  1.,  0.]), R=array([-1, -1,  0])))]"
      ]
     },
     "execution_count": 8,
     "metadata": {},
     "output_type": "execute_result"
    }
   ],
   "source": [
    "pset.sympairlist[10]"
   ]
  },
  {
   "cell_type": "code",
   "execution_count": 9,
   "metadata": {
    "scrolled": true
   },
   "outputs": [],
   "source": [
    "for pair in pset.sympairlist[0]:\n",
    "    for pair1 in pairset:\n",
    "        if (-pair1.db==pair.db):\n",
    "            print (pair)"
   ]
  },
  {
   "cell_type": "code",
   "execution_count": 16,
   "metadata": {},
   "outputs": [],
   "source": [
    "count=0\n",
    "for j,i in enumerate(pset.sympairlist):\n",
    "    for pair in i:\n",
    "        if pair.db.i==0 and np.allclose(pair.db.R,np.array([1,1,0]),atol=1e-8):\n",
    "            count=1\n",
    "            lis=i.copy()\n",
    "            break\n",
    "    if count == 1:\n",
    "        break"
   ]
  },
  {
   "cell_type": "code",
   "execution_count": 17,
   "metadata": {},
   "outputs": [
    {
     "data": {
      "text/plain": [
       "[SdPair(i_s=0, R_s=array([0, 0, 0]), db=dumbbell(i=0, o=array([ 0., -1.,  0.]), R=array([-1, -1,  0]))),\n",
       " SdPair(i_s=0, R_s=array([0, 0, 0]), db=dumbbell(i=0, o=array([1., 0., 0.]), R=array([1, 1, 0]))),\n",
       " SdPair(i_s=0, R_s=array([0, 0, 0]), db=dumbbell(i=0, o=array([-0., -1., -0.]), R=array([1, 1, 0]))),\n",
       " SdPair(i_s=0, R_s=array([0, 0, 0]), db=dumbbell(i=0, o=array([ 0., -1.,  0.]), R=array([ 1, -1,  0]))),\n",
       " SdPair(i_s=0, R_s=array([0, 0, 0]), db=dumbbell(i=0, o=array([ 1., -0., -0.]), R=array([-1, -1,  0]))),\n",
       " SdPair(i_s=0, R_s=array([0, 0, 0]), db=dumbbell(i=0, o=array([1., 0., 0.]), R=array([ 1, -1,  0]))),\n",
       " SdPair(i_s=0, R_s=array([0, 0, 0]), db=dumbbell(i=0, o=array([ 1., -0., -0.]), R=array([-1,  1,  0]))),\n",
       " SdPair(i_s=0, R_s=array([0, 0, 0]), db=dumbbell(i=0, o=array([-0., -1., -0.]), R=array([-1,  1,  0])))]"
      ]
     },
     "execution_count": 17,
     "metadata": {},
     "output_type": "execute_result"
    }
   ],
   "source": [
    "lis"
   ]
  },
  {
   "cell_type": "code",
   "execution_count": 14,
   "metadata": {},
   "outputs": [],
   "source": [
    "sm =0\n",
    "for i in pset.sympairlist:\n",
    "    sm += len(i)"
   ]
  },
  {
   "cell_type": "code",
   "execution_count": 15,
   "metadata": {},
   "outputs": [
    {
     "data": {
      "text/plain": [
       "908"
      ]
     },
     "execution_count": 15,
     "metadata": {},
     "output_type": "execute_result"
    }
   ],
   "source": [
    "sm"
   ]
  },
  {
   "cell_type": "code",
   "execution_count": null,
   "metadata": {},
   "outputs": [],
   "source": []
  }
 ],
 "metadata": {
  "kernelspec": {
   "display_name": "Python 3",
   "language": "python",
   "name": "python3"
  },
  "language_info": {
   "codemirror_mode": {
    "name": "ipython",
    "version": 3
   },
   "file_extension": ".py",
   "mimetype": "text/x-python",
   "name": "python",
   "nbconvert_exporter": "python",
   "pygments_lexer": "ipython3",
   "version": "3.5.2"
  }
 },
 "nbformat": 4,
 "nbformat_minor": 2
}
