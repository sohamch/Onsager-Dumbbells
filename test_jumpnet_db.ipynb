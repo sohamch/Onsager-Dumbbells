{
 "cells": [
  {
   "cell_type": "code",
   "execution_count": 73,
   "metadata": {},
   "outputs": [
    {
     "name": "stdout",
     "output_type": "stream",
     "text": [
      "#Lattice:\n",
      "  a1 = [0.5  0.5  0.55]\n",
      "  a2 = [-0.5   0.5  -0.55]\n",
      "  a3 = [-0.5  -0.5   0.55]\n",
      "#Basis:\n",
      "  (A1) 0.0 = [0. 0. 0.]\n",
      "\n",
      "[0.55814557 0.55814557 0.61396013]\n",
      "\n",
      "[array([-0.55814557, -0.55814557,  0.61396013]), array([ 0.55814557, -0.55814557,  0.61396013]), array([-0.55814557,  0.55814557,  0.61396013]), array([-0.55814557, -0.55814557, -0.61396013])] 4\n",
      "\n",
      "[0.63757671 0.31878836 0.70133438]\n",
      "\n",
      "[array([-0.31878836, -0.63757671,  0.70133438]), array([ 0.63757671, -0.31878836,  0.70133438]), array([-0.31878836,  0.63757671,  0.70133438]), array([-0.63757671, -0.31878836, -0.70133438]), array([ 0.31878836, -0.63757671,  0.70133438]), array([ 0.63757671,  0.31878836, -0.70133438]), array([ 0.63757671, -0.31878836, -0.70133438]), array([-0.31878836, -0.63757671, -0.70133438])] 8\n"
     ]
    }
   ],
   "source": [
    "import numpy as np\n",
    "import onsager.crystal as crystal\n",
    "import unittest\n",
    "def costheta(a,b):\n",
    "    b = ((np.dot(a,b)/(np.linalg.norm(a)*np.linalg.norm(b))))\n",
    "    return(b)\n",
    "a = 1.\n",
    "c = 1.1\n",
    "a1 = np.array([a,0,0])\n",
    "a2 = np.array([0,a,0])\n",
    "a3 = np.array([0,0,c])\n",
    "lattice = np.array([a1,a2,a3])\n",
    "basis = [np.array([0.,0.,0.]),np.array([0.5,0.5,0.5])]\n",
    "chemistry = ['A1','A2']\n",
    "crys = crystal.Crystal(lattice,basis,chemistry)\n",
    "print(crys)\n",
    "print ()\n",
    "o1 = np.array([1,1,1.1])/np.linalg.norm(np.array([1,1,1.1]))\n",
    "print (o1)\n",
    "print ()\n",
    "olist = []\n",
    "for g in crys.G:\n",
    "    o_new = np.dot(g.cartrot,o1)\n",
    "    if not any(np.allclose(o_new,o) for o in olist):\n",
    "        if not any(np.allclose(costheta(o_new,o),-1.0) for o in olist):\n",
    "            olist.append(o_new)\n",
    "print (olist,len(olist))\n",
    "print ()\n",
    "o2 = np.array([1,0.5,1.1])/np.linalg.norm(np.array([1,0.5,1.1]))\n",
    "print (o2)\n",
    "print ()\n",
    "olist2 = []\n",
    "for g in crys.G:\n",
    "    o_new = np.dot(g.cartrot,o2)\n",
    "    if not any(np.allclose(o_new,o) for o in olist2):\n",
    "        if not any(np.allclose(costheta(o_new,o),-1.0) for o in olist2):\n",
    "            olist2.append(o_new)\n",
    "print (olist2,len(olist2))"
   ]
  },
  {
   "cell_type": "code",
   "execution_count": 67,
   "metadata": {},
   "outputs": [],
   "source": [
    "class jumpnet_test_db(unittest.TestCase):\n",
    "    def test_pairgen(self):\n",
    "        or_pure = np.array([1,1,1.1])/np.linalg.norm(np.array([1,1,1.1])) # 111 type\n",
    "        or_mixed = np.array([1,0.5,1.1])/np.linalg.norm(np.array([1,0.5,1.1])) #121 type\n",
    "        #calculate the symmetric number of these orientations as n1 and n2\n",
    "        pair = crys.pair_gen(0,or_pure,or_mixed)\n",
    "        self.assertEqual(len(pair)==1)#only one basis site.\n",
    "        self.assertEqual(len(pair[0][1])== 4)\n",
    "        self.assertEqual(len(pair[0][1])== 8)\n",
    "    def test_jumps(self):\n",
    "        "
   ]
  },
  {
   "cell_type": "code",
   "execution_count": null,
   "metadata": {},
   "outputs": [],
   "source": []
  }
 ],
 "metadata": {
  "kernelspec": {
   "display_name": "Python 3",
   "language": "python",
   "name": "python3"
  },
  "language_info": {
   "codemirror_mode": {
    "name": "ipython",
    "version": 3
   },
   "file_extension": ".py",
   "mimetype": "text/x-python",
   "name": "python",
   "nbconvert_exporter": "python",
   "pygments_lexer": "ipython3",
   "version": "3.5.2"
  }
 },
 "nbformat": 4,
 "nbformat_minor": 2
}
