{
 "cells": [
  {
   "cell_type": "code",
   "execution_count": 1,
   "metadata": {},
   "outputs": [],
   "source": [
    "import sys\n",
    "sys.path.append(\"../\")\n",
    "sys.path.append(\"../../\")"
   ]
  },
  {
   "cell_type": "code",
   "execution_count": 2,
   "metadata": {},
   "outputs": [
    {
     "name": "stderr",
     "output_type": "stream",
     "text": [
      "/usr/local/lib/python3.6/dist-packages/onsager-1.3.3-py3.6.egg/onsager/cluster.py:835: NumbaDeprecationWarning: The 'numba.jitclass' decorator has moved to 'numba.experimental.jitclass' to better reflect the experimental nature of the functionality. Please update your imports to accommodate this change and see http://numba.pydata.org/numba-doc/latest/reference/deprecation.html#change-of-jitclass-location for the time frame.\n"
     ]
    }
   ],
   "source": [
    "import numpy as np\n",
    "from Onsager_calc_db import *\n",
    "import onsager.crystal as crystal\n",
    "from states import *\n",
    "from stars import *\n",
    "from vector_stars import *\n",
    "import time"
   ]
  },
  {
   "cell_type": "code",
   "execution_count": 6,
   "metadata": {},
   "outputs": [
    {
     "name": "stdout",
     "output_type": "stream",
     "text": [
      "#Lattice:\n",
      "  a1 = [0.5 0.5 0.5]\n",
      "  a2 = [-0.5  0.5 -0.5]\n",
      "  a3 = [-0.5 -0.5  0.5]\n",
      "#Basis:\n",
      "  (Fe) 0.0 = [0. 0. 0.]\n"
     ]
    }
   ],
   "source": [
    "# make a BCC lattice\n",
    "# We'll modify the jumpnetwork to keep only the 60 degree reorientational jumps.\n",
    "a0 = 1.0\n",
    "latt = np.array([[1., 0., 0.], [0., 1., 0.], [0., 0., 1.]]) * a0\n",
    "Fe = crystal.Crystal(latt, [[np.array([0., 0., 0.]), np.array([0.5, 0.5, 0.5])]], [\"Fe\"])\n",
    "# Now give it the orientations - for BCC it's [110]\n",
    "o = np.array([1.,1.,0.])/np.linalg.norm(np.array([1.,1.,0.]))*0.1\n",
    "famp0 = [o.copy()]\n",
    "family = [famp0]\n",
    "pdbcontainer_fe = dbStates(Fe, 0, family)\n",
    "mdbcontainer_fe = mStates(Fe, 0, family)\n",
    "jcut = np.sqrt(3)*1.01*a0/2.\n",
    "jset0, jset2 = pdbcontainer_fe.jumpnetwork(jcut, 0.01, 0.01), mdbcontainer_fe.jumpnetwork(jcut, 0.01, 0.01)\n",
    "print(Fe)"
   ]
  },
  {
   "cell_type": "code",
   "execution_count": 7,
   "metadata": {},
   "outputs": [],
   "source": [
    "# Modify jnet0\n",
    "jnet0 = jset0[0]\n",
    "jnet0_indexed = jset0[1]\n",
    "# Let's try to sort the jumps according to closest distance\n",
    "# except rotational jumps, we don't want them.\n",
    "z = np.zeros(3)\n",
    "indices = []\n",
    "\n",
    "for jt, jlist in enumerate(jnet0):\n",
    "    if np.allclose(jnet0_indexed[jt][0][1], z):\n",
    "        continue\n",
    "    indices.append(jt)\n",
    "    \n",
    "def sortkey(entry):\n",
    "    jmp = jnet0[entry][0]\n",
    "    or1 = pdbcontainer_fe.iorlist[jmp.state1.iorind][1]\n",
    "    or2 = pdbcontainer_fe.iorlist[jmp.state2.iorind][1]\n",
    "    dx = disp(pdbcontainer_fe, jmp.state1, jmp.state2)\n",
    "    dx1 = np.linalg.norm(jmp.c1*or1/2.)\n",
    "    dx2 = np.linalg.norm(dx + jmp.c2*or2/2. - jmp.c1*or1/2.)\n",
    "    dx3 = np.linalg.norm(-jmp.c2*or2/2.)\n",
    "    return dx1+dx2+dx3\n",
    "ind_sort = sorted(indices, key=sortkey)"
   ]
  },
  {
   "cell_type": "code",
   "execution_count": 8,
   "metadata": {},
   "outputs": [
    {
     "name": "stdout",
     "output_type": "stream",
     "text": [
      "Jump object:\n",
      "Initial state:\n",
      "\tdumbbell : (i, or) index = 0, lattice vector = [0 0 0]\n",
      "Final state:\n",
      "\tdumbbell : (i, or) index = 3, lattice vector = [0 0 1]\n",
      "Jumping from c1 = -1 to c2 = 1\n",
      "\n"
     ]
    }
   ],
   "source": [
    "# Let's check if we got the correct jump\n",
    "print(jnet0[ind_sort[0]][0])"
   ]
  },
  {
   "cell_type": "code",
   "execution_count": 9,
   "metadata": {},
   "outputs": [
    {
     "data": {
      "text/plain": [
       "[(0, array([ 0.07071068,  0.        , -0.07071068])),\n",
       " (0, array([-0.07071068,  0.        , -0.07071068])),\n",
       " (0, array([-0.07071068,  0.07071068,  0.        ])),\n",
       " (0, array([0.07071068, 0.07071068, 0.        ])),\n",
       " (0, array([ 0.        , -0.07071068,  0.07071068])),\n",
       " (0, array([0.        , 0.07071068, 0.07071068]))]"
      ]
     },
     "execution_count": 9,
     "metadata": {},
     "output_type": "execute_result"
    }
   ],
   "source": [
    "pdbcontainer_fe.iorlist"
   ]
  },
  {
   "cell_type": "code",
   "execution_count": 10,
   "metadata": {},
   "outputs": [],
   "source": [
    "# take only the lowest displacement jump\n",
    "# that is the jump we want.\n",
    "jset0new = ([jnet0[ind_sort[0]]], [jnet0_indexed[ind_sort[0]]])"
   ]
  },
  {
   "cell_type": "code",
   "execution_count": 11,
   "metadata": {},
   "outputs": [
    {
     "name": "stdout",
     "output_type": "stream",
     "text": [
      "[0, 1, 2, 3, 4, 5, 6, 7, 8, 9, 10, 11, 12, 13, 14, 15, 16]\n",
      "[3, 2, 4, 1, 5, 0, 8, 6, 12, 9, 11, 10, 13, 7, 14, 16, 15]\n"
     ]
    }
   ],
   "source": [
    "# Now, we modify the mixed dumbbell jumpnetwork to also give the lowest displacement jump\n",
    "# Modify jnet0\n",
    "jnet2 = jset2[0]\n",
    "jnet2_indexed = jset2[1]\n",
    "# Let's try to sort the jumps according to closest distance\n",
    "# we don't want the rotational jumps as before.\n",
    "z = np.zeros(3)\n",
    "indices2 = []\n",
    "for jt, jlist in enumerate(jnet2):\n",
    "    if np.allclose(jnet2_indexed[jt][0][1], z):\n",
    "        continue\n",
    "#     # get the 90 degree reorientations\n",
    "#     or1 = mdbcontainer_fe.iorlist[jlist[0].state1.db.iorind][1]\n",
    "#     or2 = mdbcontainer_fe.iorlist[jlist[0].state2.db.iorind][1]\n",
    "#     if not np.dot(or1, or2) <= 1e-8:\n",
    "#         continue\n",
    "    indices2.append(jt)    \n",
    "print(indices2)\n",
    "\n",
    "def sortkey2(entry):\n",
    "    jmp = jnet2[entry][0]\n",
    "    or1 = mdbcontainer_fe.iorlist[jmp.state1.db.iorind][1]\n",
    "    or2 = mdbcontainer_fe.iorlist[jmp.state2.db.iorind][1]\n",
    "    dx = disp(mdbcontainer_fe, jmp.state1, jmp.state2)\n",
    "    # c1 and c2 are always +1 for mixed dumbbell jumps.\n",
    "    dx1 = np.linalg.norm(jmp.c1*or1/2.)\n",
    "    dx2 = np.linalg.norm(dx + jmp.c2*or2/2. - jmp.c1*or1/2.)\n",
    "    dx3 = np.linalg.norm(-jmp.c2*or2/2.)\n",
    "    return dx1+dx2+dx3\n",
    "ind_sort2 = sorted(indices2, key=sortkey2)\n",
    "print(ind_sort2)"
   ]
  },
  {
   "cell_type": "code",
   "execution_count": 12,
   "metadata": {},
   "outputs": [
    {
     "name": "stdout",
     "output_type": "stream",
     "text": [
      "Jump object:\n",
      "Initial state:\n",
      "\tSolute loctation:basis index = 0, lattice vector = [0 0 0]\n",
      "\tdumbbell : (i, or) index = 1, lattice vector = [0 0 0]\n",
      "Final state:\n",
      "\tSolute loctation :basis index = 0, lattice vector = [-1  0  0]\n",
      "\tdumbbell : (i, or) index = 9, lattice vector = [-1  0  0]\n",
      "Jumping from c1 = 1 to c2 = 1\n"
     ]
    }
   ],
   "source": [
    "# check if we have the correct type of jump\n",
    "print(jnet2[ind_sort2[0]][0])"
   ]
  },
  {
   "cell_type": "code",
   "execution_count": 13,
   "metadata": {},
   "outputs": [
    {
     "name": "stdout",
     "output_type": "stream",
     "text": [
      "(0, array([ 0.07071068,  0.        , -0.07071068]))\n",
      "(0, array([-0.07071068,  0.        , -0.07071068]))\n",
      "(0, array([-0.07071068,  0.        ,  0.07071068]))\n",
      "(0, array([-0.07071068,  0.07071068,  0.        ]))\n",
      "(0, array([0.07071068, 0.07071068, 0.        ]))\n",
      "(0, array([0.07071068, 0.        , 0.07071068]))\n",
      "(0, array([ 0.        , -0.07071068,  0.07071068]))\n",
      "(0, array([-0.07071068, -0.07071068,  0.        ]))\n",
      "(0, array([ 0.        ,  0.07071068, -0.07071068]))\n",
      "(0, array([0.        , 0.07071068, 0.07071068]))\n",
      "(0, array([ 0.        , -0.07071068, -0.07071068]))\n",
      "(0, array([ 0.07071068, -0.07071068,  0.        ]))\n"
     ]
    }
   ],
   "source": [
    "for tup in mdbcontainer_fe.iorlist:\n",
    "    print(tup)"
   ]
  },
  {
   "cell_type": "code",
   "execution_count": 14,
   "metadata": {},
   "outputs": [],
   "source": [
    "# take only the lowest displacement jump\n",
    "# that is the jump we want.\n",
    "jset2new = ([jnet2[ind_sort2[0]]], [jnet2_indexed[ind_sort2[0]]])"
   ]
  },
  {
   "cell_type": "code",
   "execution_count": 15,
   "metadata": {},
   "outputs": [
    {
     "name": "stdout",
     "output_type": "stream",
     "text": [
      "initializing thermo\n",
      "initializing kin\n",
      "initializing NN\n",
      "built shell 1: time - 0.03941917419433594\n",
      "built shell 2: time - 0.8076145648956299\n",
      "grouped states by symmetry: 1.0675935745239258\n",
      "built mixed dumbbell stars: 0.00040984153747558594\n",
      "built jtags2: 0.0003917217254638672\n",
      "built mixed indexed star: 0.005803823471069336\n",
      "building star2symlist : 0.00010418891906738281\n",
      "building bare, mixed index dicts : 0.00038170814514160156\n",
      "2NN Shell initialization time: 2.9352638721466064\n",
      "\n",
      "generating thermodynamic shell\n",
      "built shell 1: time - 0.026589155197143555\n",
      "grouped states by symmetry: 0.09664154052734375\n",
      "built mixed dumbbell stars: 0.0004019737243652344\n",
      "built jtags2: 0.0002105236053466797\n",
      "built mixed indexed star: 0.006726264953613281\n",
      "building star2symlist : 3.790855407714844e-05\n",
      "building bare, mixed index dicts : 0.00012373924255371094\n",
      "thermodynamic shell generated: 0.19748568534851074\n",
      "Total number of states in Thermodynamic Shell - 54, 12\n",
      "generating kinetic shell\n",
      "built shell 1: time - 0.03723001480102539\n",
      "built shell 2: time - 0.7893965244293213\n",
      "grouped states by symmetry: 1.034343957901001\n",
      "built mixed dumbbell stars: 0.0004012584686279297\n",
      "built jtags2: 0.00034499168395996094\n",
      "built mixed indexed star: 0.007189035415649414\n",
      "building star2symlist : 7.343292236328125e-05\n",
      "building bare, mixed index dicts : 0.00016069412231445312\n",
      "Kinetic shell generated: 2.7643377780914307\n",
      "Total number of states in Kinetic Shell - 210, 12\n",
      "generating kinetic shell vector starset\n",
      "Kinetic shell vector starset generated: 1.2008728981018066\n",
      "Generating Jump networks\n",
      "building omega1\n",
      "built omega1 : time - 1.0996837615966797\n",
      "building omega43\n",
      "built omega43 : time 3.0154361724853516\n",
      "Jump networks generated: 4.1257102489471436\n",
      "building GF starsets\n",
      "\tComplex connections creation time: 24.573588132858276\n",
      "\tComplex connections symmetry grouping time: 7.839672565460205\n",
      "No. of pure dumbbell connections: 6804\n",
      "GF star sets built: 32.41656231880188\n",
      "Built Complex GF expansions: 19.61721420288086\n",
      "built GFstarsets: 52.073402404785156\n",
      "built rate expansions: 0.4160492420196533\n",
      "built bias expansions: 1.8381948471069336\n",
      "built outer product tensor:0.03981423377990723\n",
      "onsager calculator initiation time = 68.52275562286377\n"
     ]
    }
   ],
   "source": [
    "# Now, we construct the Onsager calculator with these non-local jump sets.\n",
    "start = time.time()\n",
    "onsagercalculator = dumbbellMediated(pdbcontainer_fe, mdbcontainer_fe, jset0new, jset2new, jcut,\n",
    "                                     0.01, 0.01, 0.01, NGFmax=4, Nthermo=1)\n",
    "print(\"onsager calculator initiation time = {}\".format(time.time() - start))"
   ]
  },
  {
   "cell_type": "code",
   "execution_count": 16,
   "metadata": {},
   "outputs": [
    {
     "data": {
      "text/plain": [
       "[0, 0, 0, 0, 0, 0, 0, 0]"
      ]
     },
     "execution_count": 16,
     "metadata": {},
     "output_type": "execute_result"
    }
   ],
   "source": [
    "onsagercalculator.om1types"
   ]
  },
  {
   "cell_type": "code",
   "execution_count": 17,
   "metadata": {},
   "outputs": [
    {
     "data": {
      "text/plain": [
       "26"
      ]
     },
     "execution_count": 17,
     "metadata": {},
     "output_type": "execute_result"
    }
   ],
   "source": [
    "# First, we must also modify the omega3 and omega4 jump lists\n",
    "# NOTE - I am modifying these lists in place right now.\n",
    "# But I must come up with a way to do this separately\n",
    "len(onsagercalculator.jnet43)"
   ]
  },
  {
   "cell_type": "code",
   "execution_count": 18,
   "metadata": {},
   "outputs": [
    {
     "name": "stdout",
     "output_type": "stream",
     "text": [
      "[25, 13, 11, 23, 2, 15, 10, 21, 0, 12, 17, 4, 9, 19, 24, 3, 8, 1, 5, 20, 7, 14, 6, 22, 18, 16]\n"
     ]
    }
   ],
   "source": [
    "jnet43 = onsagercalculator.jnet43\n",
    "jnet43_indexed = onsagercalculator.jnet43_indexed\n",
    "# Let's try to sort the jumps according to closest distance\n",
    "# we don't want the rotational jumps as before.\n",
    "\n",
    "z = np.zeros(3)\n",
    "indices43 = []\n",
    "for jt, jlist in enumerate(jnet43):\n",
    "    if np.allclose(jnet43_indexed[jt][0][1], z):\n",
    "        continue\n",
    "    indices43.append(jt)    \n",
    "# print(indices43)\n",
    "\n",
    "def sortkey43(entry):\n",
    "    jmp = jnet43[entry][0] # This is an omega4 jump\n",
    "    if not jmp.c2 == -1:\n",
    "        print(c2)\n",
    "    or1 = pdbcontainer_fe.iorlist[jmp.state1.db.iorind][1]\n",
    "    or2 = mdbcontainer_fe.iorlist[jmp.state2.db.iorind][1]\n",
    "    dx = disp4(pdbcontainer_fe, mdbcontainer_fe, jmp.state1, jmp.state2)\n",
    "    # remember that c2 is -1 for an omega4 jump\n",
    "    dx1 = np.linalg.norm(jmp.c1*or1/2.)\n",
    "    dx2 = np.linalg.norm(dx - or2/2. - jmp.c1*or1/2.)\n",
    "    dx3 = np.linalg.norm(jmp.c2*or2/2.)\n",
    "    return dx1+dx2+dx3\n",
    "\n",
    "ind_sort43 = sorted(indices43, key=sortkey43)\n",
    "print(ind_sort43)"
   ]
  },
  {
   "cell_type": "code",
   "execution_count": 19,
   "metadata": {},
   "outputs": [
    {
     "name": "stdout",
     "output_type": "stream",
     "text": [
      "Jump object:\n",
      "Initial state:\n",
      "\tSolute loctation:basis index = 0, lattice vector = [0 0 0]\n",
      "\tdumbbell : (i, or) index = 4, lattice vector = [ 0 -1  0]\n",
      "Final state:\n",
      "\tSolute loctation :basis index = 0, lattice vector = [0 0 0]\n",
      "\tdumbbell : (i, or) index = 3, lattice vector = [0 0 0]\n",
      "Jumping from c1 = -1 to c2 = -1\n"
     ]
    }
   ],
   "source": [
    "# check if we have the correct jump\n",
    "print(jnet43[ind_sort43[0]][0])"
   ]
  },
  {
   "cell_type": "code",
   "execution_count": 20,
   "metadata": {},
   "outputs": [
    {
     "data": {
      "text/plain": [
       "[(0, array([ 0.07071068,  0.        , -0.07071068])),\n",
       " (0, array([-0.07071068,  0.        , -0.07071068])),\n",
       " (0, array([-0.07071068,  0.07071068,  0.        ])),\n",
       " (0, array([0.07071068, 0.07071068, 0.        ])),\n",
       " (0, array([ 0.        , -0.07071068,  0.07071068])),\n",
       " (0, array([0.        , 0.07071068, 0.07071068]))]"
      ]
     },
     "execution_count": 20,
     "metadata": {},
     "output_type": "execute_result"
    }
   ],
   "source": [
    "pdbcontainer_fe.iorlist"
   ]
  },
  {
   "cell_type": "code",
   "execution_count": 21,
   "metadata": {},
   "outputs": [
    {
     "data": {
      "text/plain": [
       "[(0, array([ 0.07071068,  0.        , -0.07071068])),\n",
       " (0, array([-0.07071068,  0.        , -0.07071068])),\n",
       " (0, array([-0.07071068,  0.        ,  0.07071068])),\n",
       " (0, array([-0.07071068,  0.07071068,  0.        ])),\n",
       " (0, array([0.07071068, 0.07071068, 0.        ])),\n",
       " (0, array([0.07071068, 0.        , 0.07071068])),\n",
       " (0, array([ 0.        , -0.07071068,  0.07071068])),\n",
       " (0, array([-0.07071068, -0.07071068,  0.        ])),\n",
       " (0, array([ 0.        ,  0.07071068, -0.07071068])),\n",
       " (0, array([0.        , 0.07071068, 0.07071068])),\n",
       " (0, array([ 0.        , -0.07071068, -0.07071068])),\n",
       " (0, array([ 0.07071068, -0.07071068,  0.        ]))]"
      ]
     },
     "execution_count": 21,
     "metadata": {},
     "output_type": "execute_result"
    }
   ],
   "source": [
    "mdbcontainer_fe.iorlist"
   ]
  },
  {
   "cell_type": "code",
   "execution_count": 22,
   "metadata": {},
   "outputs": [],
   "source": [
    "onsagercalculator.regenerate43([ind_sort43[0]])"
   ]
  },
  {
   "cell_type": "code",
   "execution_count": 23,
   "metadata": {},
   "outputs": [],
   "source": [
    "# 1.  First get the rates and thermodynamic data\n",
    "# All the energies of the \"mixed\" and pure dumbbells will be the same,\n",
    "# All the jump rates will be the same\n",
    "    # Since we have only one type each of omega0, omega2 and omega43 jumps, set their rates to zero.\n",
    "    # All omega1 rates will be the same as the above rate.\n",
    "# The \"solute\" energies will be zero since we are dealing with a chemically identical tracer.\n",
    "# All interaction energies will be zero.\n",
    "\n",
    "# 1a. Energies and pre-factors\n",
    "kT = 1\n",
    "\n",
    "predb0, enedb0 = np.ones(len(onsagercalculator.vkinetic.starset.pdbcontainer.symorlist)), \\\n",
    "                 np.random.rand(len(onsagercalculator.vkinetic.starset.pdbcontainer.symorlist))\n",
    "\n",
    "preS, eneS = np.ones(\n",
    "    len(onsagercalculator.vkinetic.starset.crys.sitelist(onsagercalculator.vkinetic.starset.chem))), \\\n",
    "             np.zeros(len(onsagercalculator.vkinetic.starset.crys.sitelist(\n",
    "                 onsagercalculator.vkinetic.starset.chem)))\n",
    "\n",
    "# These are the interaction or the excess energies and pre-factors for solutes and dumbbells.\n",
    "# The energies will all be zero.\n",
    "preSdb, eneSdb = np.ones(onsagercalculator.thermo.mixedstartindex), \\\n",
    "                 np.zeros(onsagercalculator.thermo.mixedstartindex)\n",
    "\n",
    "predb2, enedb2 = predb0.copy(), enedb0.copy()\n",
    "\n",
    "preT0, eneT0 = np.ones(len(onsagercalculator.vkinetic.starset.jnet0)), np.random.rand(\n",
    "    len(onsagercalculator.jnet0))\n",
    "preT2, eneT2 = preT0.copy(), eneT0.copy()\n",
    "preT1, eneT1 = np.ones(len(onsagercalculator.jnet1)), np.array([eneT0[onsagercalculator.om1types[jt]] for jt in\n",
    "                                                                range(len(onsagercalculator.jnet1))])\n",
    "\n",
    "preT43, eneT43 = np.ones(len(onsagercalculator.jnet43)), eneT0.copy()"
   ]
  },
  {
   "cell_type": "code",
   "execution_count": 24,
   "metadata": {},
   "outputs": [],
   "source": [
    "# 1b. Now get the beta*free energy values.\n",
    "bFdb0, bFdb2, bFS, bFSdb, bFT0, bFT1, bFT2, bFT3, bFT4 = \\\n",
    "    onsagercalculator.preene2betafree(kT, predb0, enedb0, preS, eneS, preSdb, eneSdb, predb2, enedb2,\n",
    "                                           preT0, eneT0, preT2, eneT2, preT1, eneT1, preT43, eneT43)"
   ]
  },
  {
   "cell_type": "code",
   "execution_count": 25,
   "metadata": {},
   "outputs": [
    {
     "data": {
      "text/plain": [
       "8"
      ]
     },
     "execution_count": 25,
     "metadata": {},
     "output_type": "execute_result"
    }
   ],
   "source": [
    "len(onsagercalculator.jnet1)"
   ]
  },
  {
   "cell_type": "code",
   "execution_count": 26,
   "metadata": {},
   "outputs": [],
   "source": [
    "# get the probabilities and other data from L_ij\n",
    "L0bb,(L_uc_aa,L_c_aa), (L_uc_bb,L_c_bb), (L_uc_ab,L_c_ab)=\\\n",
    "onsagercalculator.L_ij(bFdb0, bFT0, bFdb2, bFT2, bFS, bFSdb, bFT1, bFT3, bFT4)"
   ]
  },
  {
   "cell_type": "code",
   "execution_count": 27,
   "metadata": {},
   "outputs": [],
   "source": [
    "L_aa = L_uc_aa + L_c_aa"
   ]
  },
  {
   "cell_type": "code",
   "execution_count": 28,
   "metadata": {},
   "outputs": [],
   "source": [
    "L_ab = L_uc_ab + L_c_ab"
   ]
  },
  {
   "cell_type": "code",
   "execution_count": 29,
   "metadata": {},
   "outputs": [
    {
     "data": {
      "text/plain": [
       "0.4126434097962866"
      ]
     },
     "execution_count": 29,
     "metadata": {},
     "output_type": "execute_result"
    }
   ],
   "source": [
    "L_aa[0][0]/L_ab[0][0]"
   ]
  },
  {
   "cell_type": "code",
   "execution_count": null,
   "metadata": {},
   "outputs": [],
   "source": []
  }
 ],
 "metadata": {
  "kernelspec": {
   "display_name": "Python 3",
   "language": "python",
   "name": "python3"
  },
  "language_info": {
   "codemirror_mode": {
    "name": "ipython",
    "version": 3
   },
   "file_extension": ".py",
   "mimetype": "text/x-python",
   "name": "python",
   "nbconvert_exporter": "python",
   "pygments_lexer": "ipython3",
   "version": "3.6.9"
  }
 },
 "nbformat": 4,
 "nbformat_minor": 2
}
