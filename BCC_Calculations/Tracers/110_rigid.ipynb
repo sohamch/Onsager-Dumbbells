{
 "cells": [
  {
   "cell_type": "markdown",
   "metadata": {},
   "source": [
    "## Tracer correlation factor for 2d dumbell diffusion on a {110} family plane in a BCC crystal - see Appendix B in our paper "
   ]
  },
  {
   "cell_type": "code",
   "execution_count": 1,
   "metadata": {},
   "outputs": [],
   "source": [
    "import sys\n",
    "sys.path.append(\"../\")\n",
    "sys.path.append(\"../../\")"
   ]
  },
  {
   "cell_type": "code",
   "execution_count": 2,
   "metadata": {},
   "outputs": [
    {
     "name": "stderr",
     "output_type": "stream",
     "text": [
      "/usr/local/lib/python3.6/dist-packages/onsager-1.3.3-py3.6.egg/onsager/cluster.py:835: NumbaDeprecationWarning: The 'numba.jitclass' decorator has moved to 'numba.experimental.jitclass' to better reflect the experimental nature of the functionality. Please update your imports to accommodate this change and see http://numba.pydata.org/numba-doc/latest/reference/deprecation.html#change-of-jitclass-location for the time frame.\n"
     ]
    }
   ],
   "source": [
    "import numpy as np\n",
    "from Onsager_calc_db import *\n",
    "import onsager.crystal as crystal\n",
    "from states import *\n",
    "from stars import *\n",
    "from vector_stars import *\n",
    "import pickle\n",
    "from scipy.constants import physical_constants\n",
    "kB = physical_constants['Boltzmann constant in eV/K'][0]\n",
    "from matplotlib import pyplot as plt\n",
    "import matplotlib.ticker as ticker"
   ]
  },
  {
   "cell_type": "code",
   "execution_count": 3,
   "metadata": {},
   "outputs": [
    {
     "name": "stdout",
     "output_type": "stream",
     "text": [
      "#Lattice:\n",
      "  a1 = [0.70710678 0.5       ]\n",
      "  a2 = [-0.70710678  0.5       ]\n",
      "#Basis:\n",
      "  (A) 0.0 = [0. 0.]\n"
     ]
    }
   ],
   "source": [
    "a2 = 1.0\n",
    "a1 = np.sqrt(2)*a2\n",
    "\n",
    "crys2d = crystal.Crystal(np.array([[a1, 0.], [0., a2]]),\n",
    "                         [[np.array([0., 0.]), np.array([0.5, 0.5])]], [\"A\"])\n",
    "print(crys2d)"
   ]
  },
  {
   "cell_type": "code",
   "execution_count": 4,
   "metadata": {},
   "outputs": [],
   "source": [
    "o = np.array([0.2, 0.])\n",
    "famp0 = [o.copy()]\n",
    "family = [famp0]\n",
    "pdbcontainer = dbStates(crys2d, 0, family)\n",
    "mdbcontainer = mStates(crys2d, 0, family)"
   ]
  },
  {
   "cell_type": "code",
   "execution_count": 5,
   "metadata": {},
   "outputs": [
    {
     "name": "stdout",
     "output_type": "stream",
     "text": [
      "0.8746856578222831\n"
     ]
    }
   ],
   "source": [
    "cutoff = 1.01*np.linalg.norm(crys2d.lattice[:, 0])\n",
    "print(cutoff)\n",
    "jset0, jset2 = pdbcontainer.jumpnetwork(cutoff, 0.01, 0.01), mdbcontainer.jumpnetwork(cutoff, 0.01, 0.01)"
   ]
  },
  {
   "cell_type": "code",
   "execution_count": 6,
   "metadata": {},
   "outputs": [
    {
     "data": {
      "text/plain": [
       "2"
      ]
     },
     "execution_count": 6,
     "metadata": {},
     "output_type": "execute_result"
    }
   ],
   "source": [
    "len(jset2)"
   ]
  },
  {
   "cell_type": "code",
   "execution_count": 7,
   "metadata": {},
   "outputs": [
    {
     "name": "stdout",
     "output_type": "stream",
     "text": [
      "Jump object:\n",
      "Initial state:\n",
      "\tSolute loctation:basis index = 0, lattice vector = [0 0]\n",
      "\tdumbbell : (i, or) index = 0, lattice vector = [0 0]\n",
      "Final state:\n",
      "\tSolute loctation :basis index = 0, lattice vector = [-1  0]\n",
      "\tdumbbell : (i, or) index = 1, lattice vector = [-1  0]\n",
      "Jumping from c1 = 1 to c2 = 1\n"
     ]
    }
   ],
   "source": [
    "print(jset2[0][1][0])"
   ]
  },
  {
   "cell_type": "code",
   "execution_count": 8,
   "metadata": {},
   "outputs": [],
   "source": [
    "# Modify jnet0\n",
    "jnet0 = jset0[0]\n",
    "jnet0_indexed = jset0[1]\n",
    "# Let's try to sort the jumps according to closest distance\n",
    "# except rotational jumps, we don't want them.\n",
    "z = np.zeros(crys2d.dim)\n",
    "indices = []\n",
    "\n",
    "for jt, jlist in enumerate(jnet0):\n",
    "    if np.allclose(jnet0_indexed[jt][0][1], z):\n",
    "        continue\n",
    "    indices.append(jt)\n",
    "    \n",
    "def sortkey(entry):\n",
    "    jmp = jnet0[entry][0]\n",
    "    or1 = pdbcontainer.iorlist[jmp.state1.iorind][1]\n",
    "    or2 = pdbcontainer.iorlist[jmp.state2.iorind][1]\n",
    "    dx = disp(pdbcontainer, jmp.state1, jmp.state2)\n",
    "    dx1 = np.linalg.norm(jmp.c1*or1/2.)\n",
    "    dx2 = np.linalg.norm(dx + jmp.c2*or2/2. - jmp.c1*or1/2.)\n",
    "    dx3 = np.linalg.norm(-jmp.c2*or2/2.)\n",
    "    return dx1+dx2+dx3\n",
    "ind_sort = sorted(indices, key=sortkey)\n",
    "# ind_sort"
   ]
  },
  {
   "cell_type": "code",
   "execution_count": 9,
   "metadata": {},
   "outputs": [],
   "source": [
    "jset0new = ([jnet0[ind_sort[0]]], [jnet0_indexed[ind_sort[0]]])"
   ]
  },
  {
   "cell_type": "code",
   "execution_count": 10,
   "metadata": {},
   "outputs": [
    {
     "name": "stdout",
     "output_type": "stream",
     "text": [
      "[1, 0, 2]\n"
     ]
    }
   ],
   "source": [
    "# Modify jnet2\n",
    "jnet2 = jset2[0]\n",
    "jnet2_indexed = jset2[1]\n",
    "# Let's try to sort the jumps according to closest distance\n",
    "# we don't want the rotational jumps as before.\n",
    "z = np.zeros(crys2d.dim)\n",
    "indices2 = []\n",
    "for jt, jlist in enumerate(jnet2):\n",
    "    if np.allclose(jnet2_indexed[jt][0][1], z):\n",
    "        continue\n",
    "    indices2.append(jt)\n",
    "\n",
    "def sortkey2(entry):\n",
    "    jmp = jnet2[entry][0]\n",
    "    or1 = mdbcontainer.iorlist[jmp.state1.db.iorind][1]\n",
    "    or2 = mdbcontainer.iorlist[jmp.state2.db.iorind][1]\n",
    "    dx = disp(mdbcontainer, jmp.state1, jmp.state2)\n",
    "    # c1 and c2 are always +1 for mixed dumbbell jumps.\n",
    "    dx1 = np.linalg.norm(jmp.c1*or1/2.)\n",
    "    dx2 = np.linalg.norm(dx + jmp.c2*or2/2. - jmp.c1*or1/2.)\n",
    "    dx3 = np.linalg.norm(-jmp.c2*or2/2.)\n",
    "    return dx1+dx2+dx3\n",
    "\n",
    "ind_sort2 = sorted(indices2, key=sortkey2)\n",
    "print(ind_sort2)"
   ]
  },
  {
   "cell_type": "code",
   "execution_count": 11,
   "metadata": {},
   "outputs": [],
   "source": [
    "jset2new = ([jnet2[ind_sort2[0]]], [jnet2_indexed[ind_sort2[0]]])"
   ]
  },
  {
   "cell_type": "code",
   "execution_count": 12,
   "metadata": {},
   "outputs": [
    {
     "name": "stdout",
     "output_type": "stream",
     "text": [
      "initializing thermo\n",
      "initializing kin\n",
      "initializing NN\n",
      "built shell 1: time - 0.0021457672119140625\n",
      "built shell 2: time - 0.009932994842529297\n",
      "grouped states by symmetry: 0.0235135555267334\n",
      "built mixed dumbbell stars: 0.00015878677368164062\n",
      "built jtags2: 6.270408630371094e-05\n",
      "built mixed indexed star: 0.0004565715789794922\n",
      "building star2symlist : 9.679794311523438e-05\n",
      "building bare, mixed index dicts : 0.00017571449279785156\n",
      "2NN Shell initialization time: 0.05163240432739258\n",
      "\n",
      "generating thermodynamic shell\n",
      "built shell 1: time - 0.0002942085266113281\n",
      "grouped states by symmetry: 0.002771139144897461\n",
      "built mixed dumbbell stars: 7.724761962890625e-05\n",
      "built jtags2: 6.628036499023438e-05\n",
      "built mixed indexed star: 0.00023937225341796875\n",
      "building star2symlist : 2.8133392333984375e-05\n",
      "building bare, mixed index dicts : 7.176399230957031e-05\n",
      "thermodynamic shell generated: 0.005335330963134766\n",
      "Total number of states in Thermodynamic Shell - 5, 2\n",
      "generating kinetic shell\n",
      "built shell 1: time - 0.0006990432739257812\n",
      "built shell 2: time - 0.0042226314544677734\n",
      "grouped states by symmetry: 0.013101577758789062\n",
      "built mixed dumbbell stars: 7.343292236328125e-05\n",
      "built jtags2: 2.7418136596679688e-05\n",
      "built mixed indexed star: 0.000202178955078125\n",
      "building star2symlist : 3.8623809814453125e-05\n",
      "building bare, mixed index dicts : 7.987022399902344e-05\n",
      "Kinetic shell generated: 0.024780750274658203\n",
      "Total number of states in Kinetic Shell - 13, 2\n",
      "generating kinetic shell vector starset\n",
      "Kinetic shell vector starset generated: 0.013985633850097656\n",
      "Generating Jump networks\n",
      "building omega1\n",
      "built omega1 : time - 0.023759841918945312\n",
      "building omega43\n",
      "built omega43 : time 0.02882671356201172\n",
      "Jump networks generated: 0.053119659423828125\n",
      "building GF starsets\n",
      "\tComplex connections creation time: 0.04024100303649902\n",
      "\tComplex connections symmetry grouping time: 0.035439491271972656\n",
      "No. of pure dumbbell connections: 41\n",
      "GF star sets built: 0.07606077194213867\n",
      "Built Complex GF expansions: 0.05369973182678223\n",
      "built GFstarsets: 0.13031673431396484\n",
      "built rate expansions: 0.008288860321044922\n",
      "built bias expansions: 0.0224609375\n",
      "built outer product tensor:0.0017066001892089844\n",
      "onsager calculator initiation time = 0.32831311225891113\n"
     ]
    }
   ],
   "source": [
    "start = time.time()\n",
    "onsagercalculator = dumbbellMediated(pdbcontainer, mdbcontainer, jset0new, jset2new, cutoff,\n",
    "                                     0.01, 0.01, 0.01, NGFmax=4, Nthermo=1)\n",
    "print(\"onsager calculator initiation time = {}\".format(time.time() - start))"
   ]
  },
  {
   "cell_type": "code",
   "execution_count": 13,
   "metadata": {},
   "outputs": [
    {
     "data": {
      "text/plain": [
       "4"
      ]
     },
     "execution_count": 13,
     "metadata": {},
     "output_type": "execute_result"
    }
   ],
   "source": [
    "len(onsagercalculator.jnet43)"
   ]
  },
  {
   "cell_type": "code",
   "execution_count": 14,
   "metadata": {},
   "outputs": [
    {
     "data": {
      "text/plain": [
       "[0, 0, 0, 0]"
      ]
     },
     "execution_count": 14,
     "metadata": {},
     "output_type": "execute_result"
    }
   ],
   "source": [
    "onsagercalculator.om1types"
   ]
  },
  {
   "cell_type": "code",
   "execution_count": 15,
   "metadata": {},
   "outputs": [
    {
     "name": "stdout",
     "output_type": "stream",
     "text": [
      "[2, 0, 3, 1]\n"
     ]
    }
   ],
   "source": [
    "jnet43 = onsagercalculator.jnet43\n",
    "jnet43_indexed = onsagercalculator.jnet43_indexed\n",
    "# Let's try to sort the jumps according to closest distance\n",
    "# we don't want the rotational jumps as before.\n",
    "\n",
    "z = np.zeros(crys2d.dim)\n",
    "indices43 = []\n",
    "for jt, jlist in enumerate(jnet43):\n",
    "    if np.allclose(jnet43_indexed[jt][0][1], z):\n",
    "        continue\n",
    "    indices43.append(jt)    \n",
    "# print(indices43)\n",
    "\n",
    "def sortkey43(entry):\n",
    "    jmp = jnet43[entry][0] # This is an omega4 jump\n",
    "    if not jmp.c2 == -1:\n",
    "        print(c2)\n",
    "    or1 = pdbcontainer.iorlist[jmp.state1.db.iorind][1]\n",
    "    or2 = mdbcontainer.iorlist[jmp.state2.db.iorind][1]\n",
    "    dx = disp4(pdbcontainer, mdbcontainer, jmp.state1, jmp.state2)\n",
    "    # remember that c2 is -1 for an omega4 jump\n",
    "    dx1 = np.linalg.norm(jmp.c1*or1/2.)\n",
    "    dx2 = np.linalg.norm(dx - or2/2. - jmp.c1*or1/2.)\n",
    "    dx3 = np.linalg.norm(jmp.c2*or2/2.)\n",
    "    return dx1+dx2+dx3\n",
    "\n",
    "ind_sort43 = sorted(indices43, key=sortkey43)\n",
    "print(ind_sort43)"
   ]
  },
  {
   "cell_type": "code",
   "execution_count": 16,
   "metadata": {},
   "outputs": [
    {
     "name": "stdout",
     "output_type": "stream",
     "text": [
      "8\n"
     ]
    }
   ],
   "source": [
    "print(len(jnet43[ind_sort43[0]]))"
   ]
  },
  {
   "cell_type": "code",
   "execution_count": 17,
   "metadata": {
    "scrolled": true
   },
   "outputs": [
    {
     "name": "stdout",
     "output_type": "stream",
     "text": [
      "Jump object:\n",
      "Initial state:\n",
      "\tSolute loctation:basis index = 0, lattice vector = [0 0]\n",
      "\tdumbbell : (i, or) index = 0, lattice vector = [ 0 -1]\n",
      "Final state:\n",
      "\tSolute loctation :basis index = 0, lattice vector = [0 0]\n",
      "\tdumbbell : (i, or) index = 0, lattice vector = [0 0]\n",
      "Jumping from c1 = 1 to c2 = -1\n",
      "\n",
      "Jump object:\n",
      "Initial state:\n",
      "\tSolute loctation:basis index = 0, lattice vector = [0 0]\n",
      "\tdumbbell : (i, or) index = 0, lattice vector = [0 1]\n",
      "Final state:\n",
      "\tSolute loctation :basis index = 0, lattice vector = [0 0]\n",
      "\tdumbbell : (i, or) index = 1, lattice vector = [0 0]\n",
      "Jumping from c1 = -1 to c2 = -1\n",
      "\n",
      "Jump object:\n",
      "Initial state:\n",
      "\tSolute loctation:basis index = 0, lattice vector = [0 0]\n",
      "\tdumbbell : (i, or) index = 0, lattice vector = [1 0]\n",
      "Final state:\n",
      "\tSolute loctation :basis index = 0, lattice vector = [0 0]\n",
      "\tdumbbell : (i, or) index = 0, lattice vector = [0 0]\n",
      "Jumping from c1 = 1 to c2 = -1\n",
      "\n",
      "Jump object:\n",
      "Initial state:\n",
      "\tSolute loctation:basis index = 0, lattice vector = [0 0]\n",
      "\tdumbbell : (i, or) index = 0, lattice vector = [-1  0]\n",
      "Final state:\n",
      "\tSolute loctation :basis index = 0, lattice vector = [0 0]\n",
      "\tdumbbell : (i, or) index = 1, lattice vector = [0 0]\n",
      "Jumping from c1 = -1 to c2 = -1\n",
      "\n"
     ]
    }
   ],
   "source": [
    "# Check the omega43 jumps\n",
    "for jump in jnet43[ind_sort43[0]][0::2]:\n",
    "    print(jump)\n",
    "    print()"
   ]
  },
  {
   "cell_type": "code",
   "execution_count": 18,
   "metadata": {},
   "outputs": [
    {
     "data": {
      "text/plain": [
       "[(0, array([-0.2,  0. ])), (0, array([0.2, 0. ]))]"
      ]
     },
     "execution_count": 18,
     "metadata": {},
     "output_type": "execute_result"
    }
   ],
   "source": [
    "mdbcontainer.iorlist"
   ]
  },
  {
   "cell_type": "code",
   "execution_count": 19,
   "metadata": {},
   "outputs": [
    {
     "data": {
      "text/plain": [
       "[(0, array([-0.2,  0. ]))]"
      ]
     },
     "execution_count": 19,
     "metadata": {},
     "output_type": "execute_result"
    }
   ],
   "source": [
    "pdbcontainer.iorlist"
   ]
  },
  {
   "cell_type": "code",
   "execution_count": 20,
   "metadata": {},
   "outputs": [],
   "source": [
    "# regenerate expansions with new 4,3 jump list\n",
    "onsagercalculator.regenerate43([ind_sort43[0]])"
   ]
  },
  {
   "cell_type": "code",
   "execution_count": 21,
   "metadata": {},
   "outputs": [],
   "source": [
    "# 1.  First get the rates and thermodynamic data\n",
    "# All the energies of the \"mixed\" and pure dumbbells will be the same,\n",
    "# All the jump rates will be the same\n",
    "    # Since we have only one type each of omega0, omega2 and omega43 jumps, set their rates to zero.\n",
    "    # All omega1 rates will be the same as the above rate.\n",
    "# The \"solute\" energies will be zero since we are dealing with a chemically identical tracer.\n",
    "# All interaction energies will be zero.\n",
    "\n",
    "# 1a. Energies and pre-factors\n",
    "kT = 1\n",
    "\n",
    "predb0, enedb0 = np.ones(len(onsagercalculator.vkinetic.starset.pdbcontainer.symorlist)), \\\n",
    "                 np.ones(len(onsagercalculator.vkinetic.starset.pdbcontainer.symorlist))\n",
    "\n",
    "preS, eneS = np.ones(\n",
    "    len(onsagercalculator.vkinetic.starset.crys.sitelist(onsagercalculator.vkinetic.starset.chem))), \\\n",
    "             np.zeros(len(onsagercalculator.vkinetic.starset.crys.sitelist(\n",
    "                 onsagercalculator.vkinetic.starset.chem)))\n",
    "\n",
    "# These are the interaction or the excess energies and pre-factors for solutes and dumbbells.\n",
    "# The energies will all be zero.\n",
    "preSdb, eneSdb = np.ones(onsagercalculator.thermo.mixedstartindex), \\\n",
    "                 np.zeros(onsagercalculator.thermo.mixedstartindex)\n",
    "\n",
    "predb2, enedb2 = predb0.copy(), enedb0.copy()\n",
    "\n",
    "preT0, eneT0 = np.ones(len(onsagercalculator.vkinetic.starset.jnet0)), np.ones(len(onsagercalculator.jnet0))\n",
    "preT2, eneT2 = preT0.copy(), eneT0.copy()\n",
    "preT1, eneT1 = np.ones(len(onsagercalculator.jnet1)), np.array([eneT0[onsagercalculator.om1types[jt]] for jt in\n",
    "                                                                range(len(onsagercalculator.jnet1))])\n",
    "\n",
    "preT43, eneT43 = np.ones(len(onsagercalculator.jnet43)), eneT0.copy()"
   ]
  },
  {
   "cell_type": "code",
   "execution_count": 22,
   "metadata": {},
   "outputs": [],
   "source": [
    "# 1b. Now get the beta*free energy values.\n",
    "bFdb0, bFdb2, bFS, bFSdb, bFT0, bFT1, bFT2, bFT3, bFT4 = \\\n",
    "    onsagercalculator.preene2betafree(kT, predb0, enedb0, preS, eneS, preSdb, eneSdb, predb2, enedb2,\n",
    "                                           preT0, eneT0, preT2, eneT2, preT1, eneT1, preT43, eneT43)"
   ]
  },
  {
   "cell_type": "code",
   "execution_count": 23,
   "metadata": {},
   "outputs": [
    {
     "data": {
      "text/plain": [
       "4"
      ]
     },
     "execution_count": 23,
     "metadata": {},
     "output_type": "execute_result"
    }
   ],
   "source": [
    "len(onsagercalculator.jnet1)"
   ]
  },
  {
   "cell_type": "code",
   "execution_count": 24,
   "metadata": {},
   "outputs": [],
   "source": [
    "# get the probabilities and other data from L_ij\n",
    "L0bb,(L_uc_aa,L_c_aa), (L_uc_bb,L_c_bb), (L_uc_ab,L_c_ab)=\\\n",
    "onsagercalculator.L_ij(bFdb0, bFT0, bFdb2, bFT2, bFS, bFSdb, bFT1, bFT3, bFT4)"
   ]
  },
  {
   "cell_type": "code",
   "execution_count": 25,
   "metadata": {},
   "outputs": [],
   "source": [
    "L_aa = L_uc_aa + L_c_aa\n",
    "L_ab = L_uc_ab + L_c_ab"
   ]
  },
  {
   "cell_type": "code",
   "execution_count": 26,
   "metadata": {},
   "outputs": [
    {
     "data": {
      "text/plain": [
       "array([[1. , 0. ],\n",
       "       [0. , 0.5]])"
      ]
     },
     "execution_count": 26,
     "metadata": {},
     "output_type": "execute_result"
    }
   ],
   "source": [
    "L_ab"
   ]
  },
  {
   "cell_type": "code",
   "execution_count": 27,
   "metadata": {},
   "outputs": [
    {
     "data": {
      "text/plain": [
       "array([[0.241453, 0.      ],\n",
       "       [0.      , 0.5     ]])"
      ]
     },
     "execution_count": 27,
     "metadata": {},
     "output_type": "execute_result"
    }
   ],
   "source": [
    "L_aa"
   ]
  },
  {
   "cell_type": "code",
   "execution_count": 28,
   "metadata": {},
   "outputs": [
    {
     "data": {
      "text/plain": [
       "0.4943020016465871"
      ]
     },
     "execution_count": 28,
     "metadata": {},
     "output_type": "execute_result"
    }
   ],
   "source": [
    "np.trace(L_aa)/np.trace(L_ab)"
   ]
  },
  {
   "cell_type": "code",
   "execution_count": 29,
   "metadata": {},
   "outputs": [
    {
     "data": {
      "text/plain": [
       "0.4943020016465871"
      ]
     },
     "execution_count": 29,
     "metadata": {},
     "output_type": "execute_result"
    }
   ],
   "source": [
    "np.trace(L_aa)/np.trace(L_uc_aa)"
   ]
  },
  {
   "cell_type": "code",
   "execution_count": null,
   "metadata": {},
   "outputs": [],
   "source": []
  }
 ],
 "metadata": {
  "kernelspec": {
   "display_name": "Python 3",
   "language": "python",
   "name": "python3"
  },
  "language_info": {
   "codemirror_mode": {
    "name": "ipython",
    "version": 3
   },
   "file_extension": ".py",
   "mimetype": "text/x-python",
   "name": "python",
   "nbconvert_exporter": "python",
   "pygments_lexer": "ipython3",
   "version": "3.6.9"
  }
 },
 "nbformat": 4,
 "nbformat_minor": 4
}
