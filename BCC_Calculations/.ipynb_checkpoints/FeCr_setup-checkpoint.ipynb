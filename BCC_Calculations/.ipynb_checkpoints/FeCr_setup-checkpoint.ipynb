{
 "cells": [
  {
   "cell_type": "code",
   "execution_count": null,
   "metadata": {},
   "outputs": [],
   "source": [
    "import sys\n",
    "sys.path.append(\"../\")\n",
    "sys.path.append(\"../../\")"
   ]
  },
  {
   "cell_type": "code",
   "execution_count": 1,
   "metadata": {},
   "outputs": [
    {
     "name": "stderr",
     "output_type": "stream",
     "text": [
      "/usr/local/lib/python3.6/dist-packages/onsager-1.3.3-py3.6.egg/onsager/cluster.py:835: NumbaDeprecationWarning: The 'numba.jitclass' decorator has moved to 'numba.experimental.jitclass' to better reflect the experimental nature of the functionality. Please update your imports to accommodate this change and see http://numba.pydata.org/numba-doc/latest/reference/deprecation.html#change-of-jitclass-location for the time frame.\n"
     ]
    }
   ],
   "source": [
    "import numpy as np\n",
    "from Onsager_calc_db import *\n",
    "import onsager.crystal as crystal\n",
    "from states import *\n",
    "from stars import *\n",
    "from vector_stars import *\n",
    "from representations import *\n",
    "import time\n",
    "import pickle\n",
    "from scipy.constants import physical_constants\n",
    "kB = physical_constants['Boltzmann constant in eV/K'][0]\n",
    "from matplotlib import pyplot as plt\n",
    "import scipy.stats as spstats"
   ]
  },
  {
   "cell_type": "code",
   "execution_count": 2,
   "metadata": {},
   "outputs": [
    {
     "name": "stdout",
     "output_type": "stream",
     "text": [
      "#Lattice:\n",
      "  a1 = [0.14155 0.14155 0.14155]\n",
      "  a2 = [-0.14155  0.14155 -0.14155]\n",
      "  a3 = [-0.14155 -0.14155  0.14155]\n",
      "#Basis:\n",
      "  (Fe) 0.0 = [0. 0. 0.]\n"
     ]
    }
   ],
   "source": [
    "# make a BCC lattice\n",
    "# We'll modify the jumpnetwork to keep only the 60 degree reorientational jumps.\n",
    "latt = np.array([[1., 0., 0.], [0., 1., 0.], [0., 0., 1.]]) * 0.2831\n",
    "Fe = crystal.Crystal(latt, [[np.array([0., 0., 0.]), np.array([0.5, 0.5, 0.5])]], [\"Fe\"])\n",
    "# Now give it the orientations - for BCC it's [110]\n",
    "o = np.array([1.,1.,0.])/np.linalg.norm(np.array([1.,1.,0.]))*0.126*2\n",
    "famp0 = [o.copy()]\n",
    "family = [famp0]\n",
    "pdbcontainer_fe = dbStates(Fe, 0, family)\n",
    "mdbcontainer_fe = mStates(Fe, 0, family)\n",
    "jset0, jset2 = pdbcontainer_fe.jumpnetwork(0.26, 0.01, 0.01), mdbcontainer_fe.jumpnetwork(0.26, 0.01, 0.01)\n",
    "print(Fe)"
   ]
  },
  {
   "cell_type": "code",
   "execution_count": 3,
   "metadata": {},
   "outputs": [
    {
     "data": {
      "text/plain": [
       "1"
      ]
     },
     "execution_count": 3,
     "metadata": {},
     "output_type": "execute_result"
    }
   ],
   "source": [
    "# Modify jnet0\n",
    "jnet0 = jset0[0]\n",
    "jnet0_indexed = jset0[1]\n",
    "# Let's try to sort the jumps according to closest distance\n",
    "# except rotational jumps, we don't want them.\n",
    "\n",
    "def sortkey(entry):\n",
    "    jmp = jnet0[entry][0]\n",
    "    or1 = pdbcontainer_fe.iorlist[jmp.state1.iorind][1]\n",
    "    or2 = pdbcontainer_fe.iorlist[jmp.state2.iorind][1]\n",
    "    dx = disp(pdbcontainer_fe, jmp.state1, jmp.state2)\n",
    "    dx1 = np.linalg.norm(jmp.c1*or1/2.)\n",
    "    dx2 = np.linalg.norm(dx + jmp.c2*or2/2. - jmp.c1*or1/2.)\n",
    "    dx3 = np.linalg.norm(-jmp.c2*or2/2.)\n",
    "    return dx1+dx2+dx3\n",
    "\n",
    "z = np.zeros(3)\n",
    "indices = []\n",
    "for jt, jlist in enumerate(jnet0):\n",
    "    if np.allclose(jnet0_indexed[jt][0][1], z):\n",
    "        continue\n",
    "    indices.append(jt)\n",
    "\n",
    "ind_sort = sorted(indices, key=sortkey)[:1]\n",
    "len(ind_sort)"
   ]
  },
  {
   "cell_type": "code",
   "execution_count": 4,
   "metadata": {},
   "outputs": [
    {
     "name": "stdout",
     "output_type": "stream",
     "text": [
      "Jump object:\n",
      "Initial state:\n",
      "\tdumbbell : (i, or) index = 3, lattice vector = [0 0 0]\n",
      "Final state:\n",
      "\tdumbbell : (i, or) index = 0, lattice vector = [0 0 1]\n",
      "Jumping from c1 = -1 to c2 = 1\n",
      "\n"
     ]
    }
   ],
   "source": [
    "print(jnet0[ind_sort[0]][0])"
   ]
  },
  {
   "cell_type": "code",
   "execution_count": 5,
   "metadata": {},
   "outputs": [
    {
     "data": {
      "text/plain": [
       "[(0, array([ 1.78190909e-01,  1.01947883e-17, -1.78190909e-01])),\n",
       " (0, array([ 0.        ,  0.17819091, -0.17819091])),\n",
       " (0, array([-1.01947883e-17,  1.78190909e-01,  1.78190909e-01])),\n",
       " (0, array([ 1.78190909e-01,  1.78190909e-01, -1.01947883e-17])),\n",
       " (0, array([-0.17819091,  0.17819091,  0.        ])),\n",
       " (0, array([-0.17819091,  0.        , -0.17819091]))]"
      ]
     },
     "execution_count": 5,
     "metadata": {},
     "output_type": "execute_result"
    }
   ],
   "source": [
    "pdbcontainer_fe.iorlist"
   ]
  },
  {
   "cell_type": "code",
   "execution_count": 6,
   "metadata": {},
   "outputs": [],
   "source": [
    "# take the jumps we want.\n",
    "jset0new = ([jnet0[i] for i in ind_sort], [jnet0_indexed[i] for i in ind_sort])"
   ]
  },
  {
   "cell_type": "code",
   "execution_count": 7,
   "metadata": {},
   "outputs": [
    {
     "name": "stdout",
     "output_type": "stream",
     "text": [
      "[2]\n"
     ]
    }
   ],
   "source": [
    "# Now, we modify the mixed dumbbell jumpnetwork.\n",
    "# We'll include all the jumps there are in the paper\n",
    "# They are: First and second lowest transition jumps, 60 deg on-site rotation, 90-deg onsite rotation.\n",
    "jnet2 = jset2[0]\n",
    "jnet2_indexed = jset2[1]\n",
    "# Let's try to sort the jumps according to closest distance\n",
    "# we don't want only the rotational jumps as listed.\n",
    "\n",
    "def sortkey2(entry):\n",
    "    jmp = jnet2[entry][0]\n",
    "    or1 = mdbcontainer_fe.iorlist[jmp.state1.db.iorind][1]\n",
    "    or2 = mdbcontainer_fe.iorlist[jmp.state2.db.iorind][1]\n",
    "    dx = disp(mdbcontainer_fe, jmp.state1, jmp.state2)\n",
    "    # c1 and c2 are always +1 for mixed dumbbell jumps.\n",
    "    dx1 = np.linalg.norm(jmp.c1*or1/2.)\n",
    "    dx2 = np.linalg.norm(dx + jmp.c2*or2/2. - jmp.c1*or1/2.)\n",
    "    dx3 = np.linalg.norm(-jmp.c2*or2/2.)\n",
    "    return dx1+dx2+dx3\n",
    "\n",
    "z = np.zeros(3)\n",
    "indices2 = []\n",
    "indices_rot = []\n",
    "for jt, jlist in enumerate(jnet2):\n",
    "    if np.allclose(jnet2_indexed[jt][0][1], z):\n",
    "        jmp = jlist[0]\n",
    "\n",
    "        or1 = mdbcontainer_fe.iorlist[jmp.state1.db.iorind][1]\n",
    "        or2 = mdbcontainer_fe.iorlist[jmp.state2.db.iorind][1]\n",
    "        \n",
    "        if np.allclose(np.dot(or1,or2)/(np.linalg.norm(or1)*np.linalg.norm(or2)), np.cos(np.pi/3.)):\n",
    "            indices_rot.append(jt)\n",
    "            continue\n",
    "        elif np.allclose(np.dot(or1,or2), 0.):\n",
    "            indices_rot.append(jt)\n",
    "            continue\n",
    "        else:\n",
    "            continue\n",
    "    indices2.append(jt)\n",
    "ind_sort2 = sorted(indices2, key=sortkey2)[:2]\n",
    "indices2all = ind_sort2[:1]\n",
    "print(indices2all)"
   ]
  },
  {
   "cell_type": "code",
   "execution_count": 8,
   "metadata": {},
   "outputs": [
    {
     "name": "stdout",
     "output_type": "stream",
     "text": [
      "Jump object:\n",
      "Initial state:\n",
      "\tSolute loctation:basis index = 0, lattice vector = [0 0 0]\n",
      "\tdumbbell : (i, or) index = 9, lattice vector = [0 0 0]\n",
      "Final state:\n",
      "\tSolute loctation :basis index = 0, lattice vector = [0 0 1]\n",
      "\tdumbbell : (i, or) index = 3, lattice vector = [0 0 1]\n",
      "Jumping from c1 = 1 to c2 = 1\n"
     ]
    }
   ],
   "source": [
    "# check if we have the correct type of jumps\n",
    "print(jnet2[ind_sort2[0]][0])"
   ]
  },
  {
   "cell_type": "code",
   "execution_count": 9,
   "metadata": {},
   "outputs": [
    {
     "name": "stdout",
     "output_type": "stream",
     "text": [
      "(0, array([ 1.78190909e-01,  1.01947883e-17, -1.78190909e-01]))\n",
      "(0, array([ 0.        ,  0.17819091, -0.17819091]))\n",
      "(0, array([-1.01947883e-17,  1.78190909e-01,  1.78190909e-01]))\n",
      "(0, array([ 1.78190909e-01,  1.78190909e-01, -1.01947883e-17]))\n",
      "(0, array([-0.17819091,  0.17819091,  0.        ]))\n",
      "(0, array([-1.78190909e-01, -1.01947883e-17,  1.78190909e-01]))\n",
      "(0, array([-0.17819091,  0.        , -0.17819091]))\n",
      "(0, array([ 1.01947883e-17, -1.78190909e-01, -1.78190909e-01]))\n",
      "(0, array([0.17819091, 0.        , 0.17819091]))\n",
      "(0, array([ 0.        , -0.17819091,  0.17819091]))\n",
      "(0, array([ 0.17819091, -0.17819091,  0.        ]))\n",
      "(0, array([-1.78190909e-01, -1.78190909e-01,  1.01947883e-17]))\n"
     ]
    }
   ],
   "source": [
    "for tup in mdbcontainer_fe.iorlist:\n",
    "    print(tup)"
   ]
  },
  {
   "cell_type": "code",
   "execution_count": 10,
   "metadata": {},
   "outputs": [],
   "source": [
    "jset2new = ([jnet2[i] for i in indices2all], [jnet2_indexed[i] for i in indices2all])"
   ]
  },
  {
   "cell_type": "code",
   "execution_count": 11,
   "metadata": {},
   "outputs": [
    {
     "name": "stdout",
     "output_type": "stream",
     "text": [
      "Jump object:\n",
      "Initial state:\n",
      "\tSolute loctation:basis index = 0, lattice vector = [0 0 0]\n",
      "\tdumbbell : (i, or) index = 9, lattice vector = [0 0 0]\n",
      "Final state:\n",
      "\tSolute loctation :basis index = 0, lattice vector = [0 0 1]\n",
      "\tdumbbell : (i, or) index = 3, lattice vector = [0 0 1]\n",
      "Jumping from c1 = 1 to c2 = 1\n"
     ]
    }
   ],
   "source": [
    "print(jset2new[0][0][0])"
   ]
  },
  {
   "cell_type": "code",
   "execution_count": 12,
   "metadata": {},
   "outputs": [
    {
     "name": "stdout",
     "output_type": "stream",
     "text": [
      "built shell 1: time - 0.03503537178039551\n",
      "built shell 2: time - 0.2419424057006836\n",
      "built shell 3: time - 0.7858538627624512\n",
      "grouped states by symmetry: 4.612634658813477\n",
      "built mixed dumbbell stars: 0.0005965232849121094\n",
      "built jtags2: 0.0005571842193603516\n",
      "built mixed indexed star: 0.005829572677612305\n",
      "building star2symlist : 9.918212890625e-05\n",
      "building bare, mixed index dicts : 0.0002002716064453125\n"
     ]
    }
   ],
   "source": [
    "# We'll first build the omega43 jumpnetwork to extract necessary data, and from there build the onsager calculator\n",
    "thermoStarSet = StarSet(pdbcontainer_fe, mdbcontainer_fe, jset0new, jset2new, Nshells=3)"
   ]
  },
  {
   "cell_type": "code",
   "execution_count": 13,
   "metadata": {},
   "outputs": [
    {
     "data": {
      "text/plain": [
       "16"
      ]
     },
     "execution_count": 13,
     "metadata": {},
     "output_type": "execute_result"
    }
   ],
   "source": [
    "thermoStarSet.mixedstartindex"
   ]
  },
  {
   "cell_type": "code",
   "execution_count": 14,
   "metadata": {},
   "outputs": [
    {
     "name": "stdout",
     "output_type": "stream",
     "text": [
      "building omega43\n",
      "built omega43 : time 3.787480592727661\n"
     ]
    }
   ],
   "source": [
    "(omega43_all, omega43_all_indexed), (omega4, omega4_indexed, jtags4), (omega3, omega3_indexed, jtags3) =\\\n",
    "thermoStarSet.jumpnetwork_omega34(0.26, 0.01, 0.01, 0.01)"
   ]
  },
  {
   "cell_type": "markdown",
   "metadata": {},
   "source": [
    "### Next, we must extract the necessary omega43 jumps and initialize the calculator"
   ]
  },
  {
   "cell_type": "code",
   "execution_count": 15,
   "metadata": {},
   "outputs": [
    {
     "data": {
      "text/plain": [
       "26"
      ]
     },
     "execution_count": 15,
     "metadata": {},
     "output_type": "execute_result"
    }
   ],
   "source": [
    "len(omega43_all)"
   ]
  },
  {
   "cell_type": "code",
   "execution_count": 16,
   "metadata": {},
   "outputs": [
    {
     "name": "stdout",
     "output_type": "stream",
     "text": [
      "[11]\n"
     ]
    }
   ],
   "source": [
    "jnet43 = omega43_all\n",
    "jnet43_indexed = omega43_all_indexed\n",
    "# Let's try to sort the jumps according to closest distance\n",
    "# We assume that association and dissociation occurs via Johnson mechanism.\n",
    "\n",
    "def sortkey3(entry):\n",
    "    jmp = jnet43[entry][0] # This is an omega4 jump\n",
    "    if not jmp.c2 == -1:\n",
    "        print(c2)\n",
    "    or1 = pdbcontainer_fe.iorlist[jmp.state1.db.iorind][1]\n",
    "    or2 = mdbcontainer_fe.iorlist[jmp.state2.db.iorind][1]\n",
    "    dx = disp4(pdbcontainer_fe, mdbcontainer_fe, jmp.state1, jmp.state2)\n",
    "    # remember that c2 is -1 for an omega4 jump\n",
    "    dx1 = np.linalg.norm(jmp.c1*or1/2.)\n",
    "    dx2 = np.linalg.norm(dx - or2/2. - jmp.c1*or1/2.)\n",
    "    dx3 = np.linalg.norm(jmp.c2*or2/2.)\n",
    "    return dx1+dx2+dx3\n",
    "\n",
    "z = np.zeros(3)\n",
    "indices43 = []\n",
    "for jt, jlist in enumerate(jnet43):\n",
    "    if np.allclose(jnet43_indexed[jt][0][1], z):\n",
    "        continue\n",
    "    indices43.append(jt)    \n",
    "ind_sort43 = sorted(indices43, key=sortkey3)[:1]\n",
    "print(ind_sort43)"
   ]
  },
  {
   "cell_type": "code",
   "execution_count": 17,
   "metadata": {},
   "outputs": [
    {
     "name": "stdout",
     "output_type": "stream",
     "text": [
      "Jump object:\n",
      "Initial state:\n",
      "\tSolute loctation:basis index = 0, lattice vector = [0 0 0]\n",
      "\tdumbbell : (i, or) index = 3, lattice vector = [-1  0  0]\n",
      "Final state:\n",
      "\tSolute loctation :basis index = 0, lattice vector = [0 0 0]\n",
      "\tdumbbell : (i, or) index = 2, lattice vector = [0 0 0]\n",
      "Jumping from c1 = 1 to c2 = -1\n"
     ]
    }
   ],
   "source": [
    "# check if we have the correct jump\n",
    "print(jnet43[ind_sort43[0]][0])"
   ]
  },
  {
   "cell_type": "code",
   "execution_count": 18,
   "metadata": {},
   "outputs": [
    {
     "data": {
      "text/plain": [
       "(0, array([-0.17819091,  0.        , -0.17819091]))"
      ]
     },
     "execution_count": 18,
     "metadata": {},
     "output_type": "execute_result"
    }
   ],
   "source": [
    "pdbcontainer_fe.iorlist[5]"
   ]
  },
  {
   "cell_type": "code",
   "execution_count": 19,
   "metadata": {},
   "outputs": [
    {
     "data": {
      "text/plain": [
       "(0, array([ 1.01947883e-17, -1.78190909e-01, -1.78190909e-01]))"
      ]
     },
     "execution_count": 19,
     "metadata": {},
     "output_type": "execute_result"
    }
   ],
   "source": [
    "mdbcontainer_fe.iorlist[7]"
   ]
  },
  {
   "cell_type": "code",
   "execution_count": null,
   "metadata": {},
   "outputs": [],
   "source": [
    "omega43all = [omega43_all[i] for i in ind_sort43]\n",
    "\n",
    "omega4dats = [omega4[i] for i in ind_sort43]\n",
    "\n",
    "omega3dats = [omega3[i] for i in ind_sort43]\n",
    "omega43jumps = (omega43all, omega4dats, omega3dats)\n",
    "# we only pass in the jump, and the calculator will reindex everything"
   ]
  },
  {
   "cell_type": "code",
   "execution_count": 21,
   "metadata": {},
   "outputs": [
    {
     "name": "stdout",
     "output_type": "stream",
     "text": [
      "initializing thermo\n",
      "initializing kin\n",
      "initializing NN\n",
      "built shell 1: time - 0.045737266540527344\n",
      "built shell 2: time - 0.24111056327819824\n",
      "grouped states by symmetry: 0.8261325359344482\n",
      "built mixed dumbbell stars: 0.00047969818115234375\n",
      "built jtags2: 0.0004494190216064453\n",
      "built mixed indexed star: 0.0062885284423828125\n",
      "building star2symlist : 6.723403930664062e-05\n",
      "building bare, mixed index dicts : 0.00014281272888183594\n",
      "2NN Shell initialization time: 1.7515361309051514\n",
      "\n",
      "generating thermodynamic shell\n",
      "built shell 1: time - 0.03405189514160156\n",
      "built shell 2: time - 0.21268296241760254\n",
      "built shell 3: time - 0.6628546714782715\n",
      "grouped states by symmetry: 4.543584108352661\n",
      "built mixed dumbbell stars: 0.0010204315185546875\n",
      "built jtags2: 0.0004410743713378906\n",
      "built mixed indexed star: 0.00844717025756836\n",
      "building star2symlist : 0.00012540817260742188\n",
      "building bare, mixed index dicts : 0.00021195411682128906\n",
      "thermodynamic shell generated: 11.456000804901123\n",
      "Total number of states in Thermodynamic Shell - 462, 12\n",
      "generating kinetic shell\n",
      "built shell 1: time - 0.026744842529296875\n",
      "built shell 2: time - 0.23354768753051758\n",
      "built shell 3: time - 0.7908358573913574\n",
      "built shell 4: time - 2.187171220779419\n",
      "grouped states by symmetry: 20.619285345077515\n",
      "built mixed dumbbell stars: 0.0004100799560546875\n",
      "built jtags2: 0.000598907470703125\n",
      "built mixed indexed star: 0.005054473876953125\n",
      "building star2symlist : 0.00017690658569335938\n",
      "building bare, mixed index dicts : 0.0002484321594238281\n",
      "Kinetic shell generated: 42.886770486831665\n",
      "Total number of states in Kinetic Shell - 1026, 12\n",
      "generating kinetic shell vector starset\n",
      "Kinetic shell vector starset generated: 8.20316743850708\n",
      "Generating Jump networks\n",
      "building omega1\n",
      "built omega1 : time - 6.648874521255493\n",
      "Jump networks generated: 6.7050251960754395\n",
      "building GF starsets\n",
      "\tComplex connections creation time: 683.5844235420227\n",
      "\tComplex connections symmetry grouping time: 48.872562646865845\n",
      "No. of pure dumbbell connections: 42024\n",
      "No. of mixed dumbbell connections: 144\n",
      "GF star sets built: 732.6158039569855\n",
      "Built Complex GF expansions: 549.5871782302856\n",
      "Built Mixed GF expansions: 0.04130125045776367\n",
      "built GFstarsets: 1286.7593002319336\n",
      "built rate expansions: 2.2476792335510254\n",
      "built bias expansions: 17.13447856903076\n",
      "built outer product tensor:0.2944345474243164\n",
      "onsager calculator initiation time = 1383.4721584320068\n"
     ]
    }
   ],
   "source": [
    "# Initialize the calculator.\n",
    "# We pass in the omega43 network we constructed above\n",
    "start = time.time()\n",
    "onsagercalculator = dumbbellMediated(pdbcontainer_fe, mdbcontainer_fe, jset0new, jset2new, 0.26,\n",
    "                                     0.01, 0.01, 0.01, NGFmax=4, Nthermo=3, omega43_dats=omega43jumps)\n",
    "print(\"onsager calculator initiation time = {}\".format(time.time() - start))"
   ]
  },
  {
   "cell_type": "code",
   "execution_count": 22,
   "metadata": {},
   "outputs": [
    {
     "data": {
      "text/plain": [
       "56"
      ]
     },
     "execution_count": 22,
     "metadata": {},
     "output_type": "execute_result"
    }
   ],
   "source": [
    "len(onsagercalculator.jnet1)"
   ]
  },
  {
   "cell_type": "code",
   "execution_count": 29,
   "metadata": {},
   "outputs": [],
   "source": [
    "with open('FeCr_Onsg.pkl','wb') as fl:\n",
    "    pickle.dump(onsagercalculator,fl)"
   ]
  },
  {
   "cell_type": "code",
   "execution_count": null,
   "metadata": {},
   "outputs": [],
   "source": []
  }
 ],
 "metadata": {
  "kernelspec": {
   "display_name": "Python 3",
   "language": "python",
   "name": "python3"
  },
  "language_info": {
   "codemirror_mode": {
    "name": "ipython",
    "version": 3
   },
   "file_extension": ".py",
   "mimetype": "text/x-python",
   "name": "python",
   "nbconvert_exporter": "python",
   "pygments_lexer": "ipython3",
   "version": "3.6.9"
  }
 },
 "nbformat": 4,
 "nbformat_minor": 2
}
