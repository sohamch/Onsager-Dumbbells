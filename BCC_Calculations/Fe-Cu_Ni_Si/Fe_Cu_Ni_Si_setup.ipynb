{
 "cells": [
  {
   "cell_type": "code",
   "execution_count": 1,
   "metadata": {},
   "outputs": [],
   "source": [
    "import sys\n",
    "sys.path.append(\"../\")\n",
    "sys.path.append(\"../../\")"
   ]
  },
  {
   "cell_type": "code",
   "execution_count": 2,
   "metadata": {},
   "outputs": [
    {
     "name": "stderr",
     "output_type": "stream",
     "text": [
      "/usr/local/lib/python3.6/dist-packages/onsager-1.3.3-py3.6.egg/onsager/cluster.py:835: NumbaDeprecationWarning: The 'numba.jitclass' decorator has moved to 'numba.experimental.jitclass' to better reflect the experimental nature of the functionality. Please update your imports to accommodate this change and see http://numba.pydata.org/numba-doc/latest/reference/deprecation.html#change-of-jitclass-location for the time frame.\n"
     ]
    }
   ],
   "source": [
    "import numpy as np\n",
    "from Onsager_calc_db import *\n",
    "import onsager.crystal as crystal\n",
    "from states import *\n",
    "from stars import *\n",
    "from vector_stars import *\n",
    "from representations import *\n",
    "import time\n",
    "import pickle\n",
    "from scipy.constants import physical_constants\n",
    "kB = physical_constants['Boltzmann constant in eV/K'][0]\n",
    "from matplotlib import pyplot as plt\n",
    "import scipy.stats as spstats"
   ]
  },
  {
   "cell_type": "code",
   "execution_count": null,
   "metadata": {},
   "outputs": [],
   "source": [
    "# make a BCC lattice\n",
    "latt = np.array([[1., 0., 0.], [0., 1., 0.], [0., 0., 1.]]) * 0.2831\n",
    "Fe = crystal.Crystal(latt, [[np.array([0., 0., 0.]), np.array([0.5, 0.5, 0.5])]], [\"Fe\"])\n",
    "# Now give it the orientations - for BCC it's [110]\n",
    "o = np.array([1.,1.,0.])/np.linalg.norm(np.array([1.,1.,0.]))*0.126*2\n",
    "famp0 = [o.copy()]\n",
    "family = [famp0]\n",
    "pdbcontainer_fe = dbStates(Fe, 0, family)\n",
    "mdbcontainer_fe = mStates(Fe, 0, family)\n",
    "jset0, jset2 = pdbcontainer_fe.jumpnetwork(0.26, 0.01, 0.01), mdbcontainer_fe.jumpnetwork(0.26, 0.01, 0.01)"
   ]
  },
  {
   "cell_type": "code",
   "execution_count": 4,
   "metadata": {},
   "outputs": [
    {
     "data": {
      "text/plain": [
       "3"
      ]
     },
     "execution_count": 4,
     "metadata": {},
     "output_type": "execute_result"
    }
   ],
   "source": [
    "# Modify jnet0\n",
    "jnet0 = jset0[0]\n",
    "jnet0_indexed = jset0[1]\n",
    "# Let's try to sort the jumps according to smallest net atomic displacement\n",
    "def sortkey(entry):\n",
    "    jmp = jnet0[entry][0]\n",
    "    or1 = pdbcontainer_fe.iorlist[jmp.state1.iorind][1]\n",
    "    or2 = pdbcontainer_fe.iorlist[jmp.state2.iorind][1]\n",
    "    dx = disp(pdbcontainer_fe, jmp.state1, jmp.state2)\n",
    "    dx1 = np.linalg.norm(jmp.c1*or1/2.)\n",
    "    dx2 = np.linalg.norm(dx + jmp.c2*or2/2. - jmp.c1*or1/2.)\n",
    "    dx3 = np.linalg.norm(-jmp.c2*or2/2.)\n",
    "    return dx1+dx2+dx3\n",
    "\n",
    "z = np.zeros(3)\n",
    "indices = []\n",
    "for jt, jlist in enumerate(jnet0):\n",
    "#     if np.allclose(jnet0_indexed[jt][0][1], z):\n",
    "#         continue\n",
    "    indices.append(jt)\n",
    "\n",
    "ind_sort = sorted(indices, key=sortkey)[:3]\n",
    "len(ind_sort)"
   ]
  },
  {
   "cell_type": "code",
   "execution_count": 5,
   "metadata": {},
   "outputs": [
    {
     "name": "stdout",
     "output_type": "stream",
     "text": [
      "Jump object:\n",
      "Initial state:\n",
      "\tdumbbell : (i, or) index = 0, lattice vector = [0 0 0]\n",
      "Final state:\n",
      "\tdumbbell : (i, or) index = 5, lattice vector = [0 1 0]\n",
      "Jumping from c1 = 1 to c2 = 1\n",
      "\n",
      "[-0.14155  0.14155 -0.14155]\n",
      "\n",
      "Jump object:\n",
      "Initial state:\n",
      "\tdumbbell : (i, or) index = 0, lattice vector = [0 0 0]\n",
      "Final state:\n",
      "\tdumbbell : (i, or) index = 5, lattice vector = [0 0 0]\n",
      "Jumping from c1 = 1 to c2 = -1\n",
      "\n",
      "[0. 0. 0.]\n",
      "\n",
      "Jump object:\n",
      "Initial state:\n",
      "\tdumbbell : (i, or) index = 0, lattice vector = [0 0 0]\n",
      "Final state:\n",
      "\tdumbbell : (i, or) index = 0, lattice vector = [0 1 0]\n",
      "Jumping from c1 = 1 to c2 = -1\n",
      "\n",
      "[-0.14155  0.14155 -0.14155]\n",
      "\n"
     ]
    }
   ],
   "source": [
    "# we'll consider all the pure dumbbell jumps mentioned in the database,\n",
    "# They are: 60-degree roto-translation, rigid translation and 60-degree on-site rotation\n",
    "for ind in ind_sort:\n",
    "    jmp = jnet0[ind][0]\n",
    "    print(jmp)\n",
    "    print(np.dot(Fe.lattice, jmp.state2.R))\n",
    "    print()"
   ]
  },
  {
   "cell_type": "code",
   "execution_count": 6,
   "metadata": {},
   "outputs": [
    {
     "data": {
      "text/plain": [
       "[(0, array([-0.17819091,  0.17819091,  0.        ])),\n",
       " (0, array([ 1.78190909e-01,  1.01947883e-17, -1.78190909e-01])),\n",
       " (0, array([ 1.78190909e-01,  1.78190909e-01, -1.01947883e-17])),\n",
       " (0, array([ 1.01947883e-17, -1.78190909e-01, -1.78190909e-01])),\n",
       " (0, array([ 0.        , -0.17819091,  0.17819091])),\n",
       " (0, array([0.17819091, 0.        , 0.17819091]))]"
      ]
     },
     "execution_count": 6,
     "metadata": {},
     "output_type": "execute_result"
    }
   ],
   "source": [
    "pdbcontainer_fe.iorlist"
   ]
  },
  {
   "cell_type": "code",
   "execution_count": 7,
   "metadata": {},
   "outputs": [],
   "source": [
    "# take the jumps we want.\n",
    "jset0new = ([jnet0[i] for i in ind_sort], [jnet0_indexed[i] for i in ind_sort])"
   ]
  },
  {
   "cell_type": "code",
   "execution_count": 8,
   "metadata": {},
   "outputs": [
    {
     "name": "stdout",
     "output_type": "stream",
     "text": [
      "[7, 11] [18, 19]\n"
     ]
    }
   ],
   "source": [
    "# Now, we modify the mixed dumbbell jumpnetwork.\n",
    "# We'll include all the jumps there are in the database of Messina et. al.\n",
    "# They are: 60 deg rot-trans, rigid translation.\n",
    "jnet2 = jset2[0]\n",
    "jnet2_indexed = jset2[1]\n",
    "# Let's try to sort the jumps according to closest distance\n",
    "# we don't want only the rotational jumps as listed.\n",
    "\n",
    "def sortkey2(entry):\n",
    "    jmp = jnet2[entry][0]\n",
    "    or1 = mdbcontainer_fe.iorlist[jmp.state1.db.iorind][1]\n",
    "    or2 = mdbcontainer_fe.iorlist[jmp.state2.db.iorind][1]\n",
    "    dx = disp(mdbcontainer_fe, jmp.state1, jmp.state2)\n",
    "    # c1 and c2 are always +1 for mixed dumbbell jumps.\n",
    "    dx1 = np.linalg.norm(jmp.c1*or1/2.)\n",
    "    dx2 = np.linalg.norm(dx + jmp.c2*or2/2. - jmp.c1*or1/2.)\n",
    "    dx3 = np.linalg.norm(-jmp.c2*or2/2.)\n",
    "    return dx1+dx2+dx3\n",
    "\n",
    "z = np.zeros(3)\n",
    "indices2 = []\n",
    "indices_rot = []\n",
    "for jt, jlist in enumerate(jnet2):\n",
    "    if np.allclose(jnet2_indexed[jt][0][1], z):\n",
    "        jmp = jlist[0]\n",
    "\n",
    "        or1 = mdbcontainer_fe.iorlist[jmp.state1.db.iorind][1]\n",
    "        or2 = mdbcontainer_fe.iorlist[jmp.state2.db.iorind][1]\n",
    "        \n",
    "        if np.allclose(np.dot(or1,or2)/(np.linalg.norm(or1)*np.linalg.norm(or2)), np.cos(np.pi/3.)):\n",
    "#             print(\"got 60 deg jump at {}\".format(jt))\n",
    "            indices_rot.append(jt)\n",
    "            continue\n",
    "        elif np.allclose(np.dot(or1,or2), 0.):\n",
    "#             print(\"got 90 deg jump at {}\".format(jt))\n",
    "            indices_rot.append(jt)\n",
    "            continue\n",
    "        else:\n",
    "            continue\n",
    "    indices2.append(jt)\n",
    "ind_sort2 = sorted(indices2, key=sortkey2)[:2]\n",
    "indices2all = ind_sort2[:2]\n",
    "# indices2all.append(indices_rot[0])\n",
    "print(indices2all, indices_rot)"
   ]
  },
  {
   "cell_type": "code",
   "execution_count": 10,
   "metadata": {},
   "outputs": [
    {
     "name": "stdout",
     "output_type": "stream",
     "text": [
      "Jump object:\n",
      "Initial state:\n",
      "\tSolute loctation:basis index = 0, lattice vector = [0 0 0]\n",
      "\tdumbbell : (i, or) index = 1, lattice vector = [0 0 0]\n",
      "Final state:\n",
      "\tSolute loctation :basis index = 0, lattice vector = [-1 -1 -1]\n",
      "\tdumbbell : (i, or) index = 11, lattice vector = [-1 -1 -1]\n",
      "Jumping from c1 = 1 to c2 = 1\n",
      "\n",
      "Jump object:\n",
      "Initial state:\n",
      "\tSolute loctation:basis index = 0, lattice vector = [0 0 0]\n",
      "\tdumbbell : (i, or) index = 1, lattice vector = [0 0 0]\n",
      "Final state:\n",
      "\tSolute loctation :basis index = 0, lattice vector = [-1 -1 -1]\n",
      "\tdumbbell : (i, or) index = 10, lattice vector = [-1 -1 -1]\n",
      "Jumping from c1 = 1 to c2 = 1\n",
      "\n"
     ]
    }
   ],
   "source": [
    "# check if we have the correct type of jumps\n",
    "for ind in indices2all:\n",
    "    jmp = jnet2[ind][0]\n",
    "    print(jmp)\n",
    "#     print(np.dot(Fe.lattice, jmp.state2.R))\n",
    "    print()"
   ]
  },
  {
   "cell_type": "code",
   "execution_count": 16,
   "metadata": {},
   "outputs": [
    {
     "name": "stdout",
     "output_type": "stream",
     "text": [
      "(0, array([-1.01947883e-17,  1.78190909e-01,  1.78190909e-01]))\n",
      "(0, array([ 1.78190909e-01,  1.01947883e-17, -1.78190909e-01]))\n",
      "(0, array([-1.78190909e-01, -1.01947883e-17,  1.78190909e-01]))\n"
     ]
    }
   ],
   "source": [
    "print(mdbcontainer_fe.iorlist[11])\n",
    "print(mdbcontainer_fe.iorlist[1])\n",
    "print(mdbcontainer_fe.iorlist[10])"
   ]
  },
  {
   "cell_type": "code",
   "execution_count": 13,
   "metadata": {},
   "outputs": [
    {
     "data": {
      "text/plain": [
       "(3, 2)"
      ]
     },
     "execution_count": 13,
     "metadata": {},
     "output_type": "execute_result"
    }
   ],
   "source": [
    "# take only the lowest displacement jump\n",
    "jset2new = ([jnet2[i] for i in indices2all], [jnet2_indexed[i] for i in indices2all])\n",
    "len(jset0new[0]), len(jset2new[0])"
   ]
  },
  {
   "cell_type": "code",
   "execution_count": 15,
   "metadata": {},
   "outputs": [
    {
     "name": "stdout",
     "output_type": "stream",
     "text": [
      "initializing thermo\n",
      "initializing kin\n",
      "initializing NN\n",
      "built shell 1: time - 0.058695077896118164\n",
      "built shell 2: time - 1.4776544570922852\n",
      "grouped states by symmetry: 1.056215763092041\n",
      "built mixed dumbbell stars: 0.00060272216796875\n",
      "built jtags2: 0.0006031990051269531\n",
      "built mixed indexed star: 0.00560760498046875\n",
      "building star2symlist : 0.00010228157043457031\n",
      "building bare, mixed index dicts : 0.0002155303955078125\n",
      "2NN Shell initialization time: 3.5749449729919434\n",
      "\n",
      "generating thermodynamic shell\n",
      "built shell 1: time - 0.04499411582946777\n",
      "built shell 2: time - 1.6029636859893799\n",
      "built shell 3: time - 7.245916843414307\n",
      "grouped states by symmetry: 5.797067642211914\n",
      "built mixed dumbbell stars: 0.0004105567932128906\n",
      "built jtags2: 0.0005810260772705078\n",
      "built mixed indexed star: 0.0055921077728271484\n",
      "building star2symlist : 0.00012230873107910156\n",
      "building bare, mixed index dicts : 0.00019240379333496094\n",
      "thermodynamic shell generated: 20.18230104446411\n",
      "Total number of states in Thermodynamic Shell - 546, 12\n",
      "generating kinetic shell\n",
      "built shell 1: time - 0.03920912742614746\n",
      "built shell 2: time - 1.736701488494873\n",
      "built shell 3: time - 7.4016547203063965\n",
      "built shell 4: time - 18.156257390975952\n",
      "grouped states by symmetry: 23.47263526916504\n",
      "built mixed dumbbell stars: 0.0004062652587890625\n",
      "built jtags2: 0.0008630752563476562\n",
      "built mixed indexed star: 0.005541801452636719\n",
      "building star2symlist : 0.00020360946655273438\n",
      "building bare, mixed index dicts : 0.00027751922607421875\n",
      "Kinetic shell generated: 73.94805026054382\n",
      "Total number of states in Kinetic Shell - 1134, 12\n",
      "generating kinetic shell vector starset\n",
      "Kinetic shell vector starset generated: 8.032466411590576\n",
      "Generating Jump networks\n",
      "building omega1\n",
      "built omega1 : time - 464.4854779243469\n",
      "building omega43\n",
      "built omega43 : time 6.173943042755127\n",
      "Jump networks generated: 470.7945969104767\n",
      "building GF starsets\n",
      "\tComplex connections creation time: 865.4270339012146\n",
      "\tComplex connections symmetry grouping time: 48.54826235771179\n",
      "No. of pure dumbbell connections: 44676\n",
      "No. of mixed dumbbell connections: 144\n",
      "GF star sets built: 914.1305258274078\n",
      "Built Complex GF expansions: 629.1151397228241\n",
      "Built Mixed GF expansions: 0.03673744201660156\n",
      "built GFstarsets: 1549.4629023075104\n",
      "built rate expansions: 5.912893772125244\n",
      "built bias expansions: 51.10287570953369\n",
      "built outer product tensor:0.295698881149292\n",
      "onsager calculator initiation time = 2186.601085424423\n"
     ]
    }
   ],
   "source": [
    "# re-initialize the calculator.\n",
    "# Now, we construct the Onsager calculator with these non-local jump sets.\n",
    "start = time.time()\n",
    "onsagercalculator = dumbbellMediated(pdbcontainer_fe, mdbcontainer_fe, jset0new, jset2new, 0.26,\n",
    "                                     0.01, 0.01, 0.01, NGFmax=4, Nthermo=3)\n",
    "print(\"onsager calculator initiation time = {}\".format(time.time() - start))"
   ]
  },
  {
   "cell_type": "markdown",
   "metadata": {},
   "source": [
    "### Next, we must extract the necessary omega43 data"
   ]
  },
  {
   "cell_type": "code",
   "execution_count": 17,
   "metadata": {},
   "outputs": [
    {
     "name": "stdout",
     "output_type": "stream",
     "text": [
      "[2]\n"
     ]
    }
   ],
   "source": [
    "jnet43 = onsagercalculator.jnet43\n",
    "jnet43_indexed = onsagercalculator.jnet43_indexed\n",
    "# Let's try to sort the jumps according to closest distance\n",
    "# We assume that association and dissociation occurs via Johnson mechanism.\n",
    "\n",
    "def sortkey3(entry):\n",
    "    jmp = jnet43[entry][0] # This is an omega4 jump\n",
    "    if not jmp.c2 == -1:\n",
    "        print(c2)\n",
    "    or1 = pdbcontainer_fe.iorlist[jmp.state1.db.iorind][1]\n",
    "    or2 = mdbcontainer_fe.iorlist[jmp.state2.db.iorind][1]\n",
    "    dx = disp4(pdbcontainer_fe, mdbcontainer_fe, jmp.state1, jmp.state2)\n",
    "    # remember that c2 is -1 for an omega4 jump\n",
    "    dx1 = np.linalg.norm(jmp.c1*or1/2.)\n",
    "    dx2 = np.linalg.norm(dx - or2/2. - jmp.c1*or1/2.)\n",
    "    dx3 = np.linalg.norm(jmp.c2*or2/2.)\n",
    "    return dx1+dx2+dx3\n",
    "\n",
    "z = np.zeros(3)\n",
    "indices43 = []\n",
    "for jt, jlist in enumerate(jnet43):\n",
    "    if np.allclose(jnet43_indexed[jt][0][1], z):\n",
    "        continue\n",
    "    indices43.append(jt)    \n",
    "ind_sort43 = sorted(indices43, key=sortkey3)[:1]\n",
    "print(ind_sort43)"
   ]
  },
  {
   "cell_type": "code",
   "execution_count": 19,
   "metadata": {},
   "outputs": [
    {
     "name": "stdout",
     "output_type": "stream",
     "text": [
      "Jump object:\n",
      "Initial state:\n",
      "\tSolute loctation:basis index = 0, lattice vector = [0 0 0]\n",
      "\tdumbbell : (i, or) index = 2, lattice vector = [ 0  0 -1]\n",
      "Final state:\n",
      "\tSolute loctation :basis index = 0, lattice vector = [0 0 0]\n",
      "\tdumbbell : (i, or) index = 10, lattice vector = [0 0 0]\n",
      "Jumping from c1 = -1 to c2 = -1\n"
     ]
    }
   ],
   "source": [
    "print(jnet43[ind_sort43[0]][0])"
   ]
  },
  {
   "cell_type": "code",
   "execution_count": 20,
   "metadata": {},
   "outputs": [
    {
     "data": {
      "text/plain": [
       "[(0, array([-0.17819091,  0.17819091,  0.        ])),\n",
       " (0, array([ 1.78190909e-01,  1.01947883e-17, -1.78190909e-01])),\n",
       " (0, array([ 1.78190909e-01,  1.78190909e-01, -1.01947883e-17])),\n",
       " (0, array([ 1.01947883e-17, -1.78190909e-01, -1.78190909e-01])),\n",
       " (0, array([ 0.        , -0.17819091,  0.17819091])),\n",
       " (0, array([0.17819091, 0.        , 0.17819091]))]"
      ]
     },
     "execution_count": 20,
     "metadata": {},
     "output_type": "execute_result"
    }
   ],
   "source": [
    "pdbcontainer_fe.iorlist"
   ]
  },
  {
   "cell_type": "code",
   "execution_count": 21,
   "metadata": {},
   "outputs": [
    {
     "data": {
      "text/plain": [
       "[(0, array([-0.17819091,  0.17819091,  0.        ])),\n",
       " (0, array([ 1.78190909e-01,  1.01947883e-17, -1.78190909e-01])),\n",
       " (0, array([ 1.78190909e-01,  1.78190909e-01, -1.01947883e-17])),\n",
       " (0, array([ 1.01947883e-17, -1.78190909e-01, -1.78190909e-01])),\n",
       " (0, array([ 0.17819091, -0.17819091,  0.        ])),\n",
       " (0, array([ 0.        , -0.17819091,  0.17819091])),\n",
       " (0, array([-1.78190909e-01, -1.78190909e-01,  1.01947883e-17])),\n",
       " (0, array([0.17819091, 0.        , 0.17819091])),\n",
       " (0, array([ 0.        ,  0.17819091, -0.17819091])),\n",
       " (0, array([-0.17819091,  0.        , -0.17819091])),\n",
       " (0, array([-1.78190909e-01, -1.01947883e-17,  1.78190909e-01])),\n",
       " (0, array([-1.01947883e-17,  1.78190909e-01,  1.78190909e-01]))]"
      ]
     },
     "execution_count": 21,
     "metadata": {},
     "output_type": "execute_result"
    }
   ],
   "source": [
    "mdbcontainer_fe.iorlist"
   ]
  },
  {
   "cell_type": "code",
   "execution_count": 24,
   "metadata": {},
   "outputs": [
    {
     "name": "stdout",
     "output_type": "stream",
     "text": [
      "#Lattice:\n",
      "  a1 = [0.14155 0.14155 0.14155]\n",
      "  a2 = [-0.14155  0.14155 -0.14155]\n",
      "  a3 = [-0.14155 -0.14155  0.14155]\n",
      "#Basis:\n",
      "  (Fe) 0.0 = [0. 0. 0.]\n"
     ]
    }
   ],
   "source": [
    "print(onsagercalculator.crys)"
   ]
  },
  {
   "cell_type": "code",
   "execution_count": 25,
   "metadata": {},
   "outputs": [],
   "source": [
    "onsagercalculator.regenerate43(ind_sort43)"
   ]
  },
  {
   "cell_type": "code",
   "execution_count": 26,
   "metadata": {},
   "outputs": [],
   "source": [
    "with open('Fe_Cu_Ni_Si.pkl','wb') as fl:\n",
    "    pickle.dump(onsagercalculator,fl)"
   ]
  },
  {
   "cell_type": "code",
   "execution_count": null,
   "metadata": {},
   "outputs": [],
   "source": []
  }
 ],
 "metadata": {
  "kernelspec": {
   "display_name": "Python 3",
   "language": "python",
   "name": "python3"
  },
  "language_info": {
   "codemirror_mode": {
    "name": "ipython",
    "version": 3
   },
   "file_extension": ".py",
   "mimetype": "text/x-python",
   "name": "python",
   "nbconvert_exporter": "python",
   "pygments_lexer": "ipython3",
   "version": "3.6.9"
  }
 },
 "nbformat": 4,
 "nbformat_minor": 2
}
